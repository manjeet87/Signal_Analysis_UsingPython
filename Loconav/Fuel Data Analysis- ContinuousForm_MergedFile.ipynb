{
 "cells": [
  {
   "cell_type": "code",
   "execution_count": 1,
   "metadata": {
    "collapsed": true
   },
   "outputs": [],
   "source": [
    "from ScriptFiles import DataCleaning_and_Prediction as dc\n",
    "from ScriptFiles import DataRead_and_PreClean as dr\n",
    "import pandas as pd\n",
    "import numpy as np\n",
    "import matplotlib.pyplot as plt\n",
    "import datetime as dt\n",
    "%matplotlib inline\n",
    " "
   ]
  },
  {
   "cell_type": "code",
   "execution_count": 2,
   "metadata": {
    "collapsed": true
   },
   "outputs": [],
   "source": [
    "#############################################################################\n",
    "### Function to plot Data profile in terms of fuelvoltage, Distance over time\n",
    "\n",
    "def plotData_profiles(df):\n",
    "    plt.rcParams['figure.figsize'] = [16, 12]\n",
    "\n",
    "    #### 1. Checking order of Data, as per datetime\n",
    "    plt.subplot(3,1,1)\n",
    "    plt.plot(df.index, df.datetime, 'g.', markersize=1, linewidth=1);\n",
    "\n",
    "    plt.subplot(3,1,2)\n",
    "    plt.plot(df.index, df.fuelVoltage, 'g.', markersize=2, linewidth=1);\n",
    "\n",
    "    plt.subplot(3,1,3)\n",
    "    plt.plot(df.index, df.distance, 'g-', markersize=2, linewidth=1);\n",
    "    plt.title(\"Cumulative Distance vs Time\", fontsize=15)\n",
    "    plt.show()"
   ]
  },
  {
   "cell_type": "code",
   "execution_count": 3,
   "metadata": {
    "collapsed": true
   },
   "outputs": [],
   "source": [
    "#######################################################\n",
    "### Function to Plot theft Points over Cleaned Data\n",
    "\n",
    "def plot_theftpts(cleanedDf , theftpts=[], refPts=[], xlim=[], ylim1 = [], ylim2 = []):\n",
    "\n",
    "    plt.rcParams['figure.figsize'] = [20, 4]\n",
    "    # plt.subplot(6,1,1)\n",
    "    fig, ax1 = plt.subplots()\n",
    "    ax1.plot(cleanedDf.index, cleanedDf.fuelVoltage, 'g.', markersize=2, linewidth=1)\n",
    "    ax1.set_xlabel('time index')\n",
    "    # Make the y-axis label, ticks and tick labels match the line color.\n",
    "    ax1.set_ylabel('FuelVoltage', color='b')\n",
    "    ax1.tick_params('y', colors='b')\n",
    "    if len(ylim1)!=0:\n",
    "        ax1.set_ylim(ylim1)\n",
    "\n",
    "    ax2 = ax1.twinx()\n",
    "    ax2.plot(cleanedDf.index, cleanedDf.distance, 'b-', markersize=2, linewidth=1)\n",
    "    ax2.set_ylabel('Distance', color='b')\n",
    "    if len(ylim2)!=0:\n",
    "        ax2.set_ylim(ylim2)\n",
    "    plt.title(\"Initial Prediction theft Points - ZOOMED\")\n",
    "    if len(xlim) !=0:\n",
    "        plt.xlim(xlim)\n",
    "    \n",
    "    for pt in theftpts:\n",
    "        ax1.axvline(pt, color = 'black')\n",
    "        \n",
    "    for pt in refPts:\n",
    "        ax1.axvline(pt, color = 'Red')\n",
    "    plt.show()\n"
   ]
  },
  {
   "cell_type": "code",
   "execution_count": 4,
   "metadata": {
    "collapsed": true
   },
   "outputs": [],
   "source": [
    "def plot_Results(df, df_clean, result_df, theftpts=[], refPts=[], xlim = [], ylim1 = [], ylim2 = []):\n",
    "\n",
    "    plt.rcParams['figure.figsize']=[16,12]\n",
    "    fig, axi = plt.subplots(4, 1)\n",
    "    axi[0].plot(df.datetime, df.fuelVoltage, 'g.', markersize=1, linewidth=1);\n",
    "    #plt.plot(df.datetime, df.distance, 'b-', markersize=1, linewidth=1);\n",
    "    axi[0].set_title('Original FuelData vs Time')\n",
    "    axi[0].set_xlabel('time')\n",
    "\n",
    "    axi[1].plot(df_clean.index, df_clean.fuelVoltage, 'g.', markersize=2, linewidth=1)\n",
    "    axi[1].set_xlabel('time index')\n",
    "    # Make the y-axis label, ticks and tick labels match the line color.\n",
    "    axi[1].set_ylabel('FuelVoltage', color='b')\n",
    "    axi[1].tick_params('y', colors='b')\n",
    "    if len(ylim1) != 0:\n",
    "        axi[1].set_ylim(ylim1)\n",
    "\n",
    "    ax2 = axi[1].twinx()\n",
    "    ax2.plot(df_clean.index, df_clean.distance, 'b-', markersize=2, linewidth=1)\n",
    "    ax2.set_ylabel('Distance', color='b')\n",
    "    if len(ylim2) != 0:\n",
    "        ax2.set_ylim(ylim2)\n",
    "    if len(xlim) != 0:\n",
    "        plt.xlim(xlim)\n",
    "    axi[1].set_title('Cleaned Data')\n",
    "        \n",
    "    for pt in refPts:\n",
    "        axi[1].axvline(pt, color = 'Red')\n",
    "    \n",
    "    \n",
    "    \n",
    "    axi[2].plot(df_clean.index, df_clean.fuelVoltage, 'g.', markersize=2, linewidth=1)\n",
    "    axi[2].set_xlabel('time index')\n",
    "    # Make the y-axis label, ticks and tick labels match the line color.\n",
    "    axi[2].set_ylabel('FuelVoltage', color='b')\n",
    "    axi[2].tick_params('y', colors='b')\n",
    "    if len(ylim1)!=0:\n",
    "        axi[2].set_ylim(ylim1)\n",
    "\n",
    "    ax2 = axi[2].twinx()\n",
    "    ax2.plot(df_clean.index, df_clean.distance, 'b-', markersize=2, linewidth=1)\n",
    "    ax2.set_ylabel('Distance', color='b')\n",
    "    if len(ylim2)!=0:\n",
    "        axi[2].set_ylim(ylim2)\n",
    "        \n",
    "    if len(xlim) !=0:\n",
    "        plt.xlim(xlim)\n",
    "    plt.title('Final Predicted Theft Pts - ZOOMED')\n",
    "\n",
    "    for pt in result_df.theft_index:\n",
    "        plt.axvline(pt, color = 'black')\n",
    "        \n",
    "\n",
    "    axi[3].plot(result_df.theft_index, result_df['fuel_VoltageJump'], 'g-', markersize=3, linewidth=1);\n",
    "    axi[3].set_title('Fuel/km Ratio at Predicted theft pts - ZOOMED')\n",
    "    \n",
    "    axi[3].set_xlabel('time index')\n",
    "    \n",
    "    fig.tight_layout()\n",
    "\n",
    "#     if len(xlim) !=0:\n",
    "#         plt.xlim(xlim)\n",
    "#     if len(ylim)!=0:\n",
    "#         plt.ylim(ylim)\n",
    "\n",
    "    #plt.plot(df_clean.index, df_clean.distance, 'b-', markersize=1, linewidth=1);\n",
    "\n",
    "    plt.show()"
   ]
  },
  {
   "cell_type": "code",
   "execution_count": null,
   "metadata": {
    "collapsed": true
   },
   "outputs": [],
   "source": []
  },
  {
   "cell_type": "code",
   "execution_count": null,
   "metadata": {
    "collapsed": true
   },
   "outputs": [],
   "source": []
  },
  {
   "cell_type": "code",
   "execution_count": 5,
   "metadata": {
    "collapsed": true
   },
   "outputs": [],
   "source": [
    "def findMax_decayRate(cleanDf):\n",
    "\n",
    "    i = 0\n",
    "    dt = (cleanDf.fuelVoltage.max() - cleanDf.fuelVoltage.min())/500\n",
    "    avgDT = []\n",
    "    indexlst = []\n",
    "    \n",
    "    while i<len(cleanDf): \n",
    "        df = 0\n",
    "        dfRef = cleanDf.fuelVoltage[i]\n",
    "        dsRef = cleanDf.distance[i]\n",
    "        while (df<=dt  and i<len(cleanDf)):\n",
    "            df = dfRef - cleanDf.fuelVoltage[i] \n",
    "            if df <0 :\n",
    "                dfRef = cleanDf.fuelVoltage[i]\n",
    "            i+=1\n",
    "            #print(i)\n",
    "\n",
    "        if i<len(cleanDf):\n",
    "            ds = cleanDf.distance[i] - dsRef\n",
    "            if df>0 :\n",
    "                #print (i)\n",
    "                if ds==0:\n",
    "                    ds = df/1000\n",
    "                    #print(\"df = \",df,\"****\",i)\n",
    "                avg = df/ds\n",
    "                avgDT.append(avg)\n",
    "                indexlst.append(cleanDf.index[i])\n",
    "\n",
    "        med = pd.Series(avgDT).median()\n",
    "        mean = pd.Series(avgDT).mean()\n",
    "        avg = pd.Series(avgDT)\n",
    "        max_dCRate = avg.median()+ 3*(abs(avg - avg.median()).median())\n",
    "        \n",
    "    return pd.Series(avgDT), indexlst, 1000*max_dCRate\n"
   ]
  },
  {
   "cell_type": "code",
   "execution_count": null,
   "metadata": {
    "collapsed": true
   },
   "outputs": [],
   "source": []
  },
  {
   "cell_type": "code",
   "execution_count": 6,
   "metadata": {
    "collapsed": true
   },
   "outputs": [],
   "source": [
    "#####################################################################\n",
    "### Function to generate FuelMaxVoltage & FuelMinVoltage, to be sent\n",
    "### to the main devices database for records.\n",
    "def Gen_FuelMaxMin(df):\n",
    "    df = dr.perform_PreFormating(df)\n",
    "    dff, dff2 = dr.perform_postFormating(df)\n",
    "\n",
    "    fmax = dff.fuelVoltage.max()\n",
    "    fmin = dff.fuelVoltage.min()\n",
    "\n",
    "    df_clean = dc.Clean_NoiseData(dff, 6, fmax, fmin)\n",
    "\n",
    "    return df_clean.fuelVoltage.max(), df_clean.fuelVoltage.min()"
   ]
  },
  {
   "cell_type": "code",
   "execution_count": 7,
   "metadata": {},
   "outputs": [
    {
     "name": "stdout",
     "output_type": "stream",
     "text": [
      "G:\\Analytics\\FuelAnalysis\\test2\\cordinates_007042639339.csv\n",
      "G:\\Analytics\\FuelAnalysis\\test2\\cordinates_007042640749.csv\n",
      "G:\\Analytics\\FuelAnalysis\\test2\\cordinates_007042641148.csv\n",
      "G:\\Analytics\\FuelAnalysis\\test2\\cordinates_007042644259.csv\n",
      "G:\\Analytics\\FuelAnalysis\\test2\\cordinates_007042647584.csv\n"
     ]
    },
    {
     "name": "stderr",
     "output_type": "stream",
     "text": [
      "C:\\Users\\manje_000\\AppData\\Local\\Programs\\Python\\Python36\\lib\\site-packages\\IPython\\core\\interactiveshell.py:2850: DtypeWarning: Columns (6) have mixed types. Specify dtype option on import or set low_memory=False.\n",
      "  if self.run_code(code, result):\n"
     ]
    },
    {
     "name": "stdout",
     "output_type": "stream",
     "text": [
      "G:\\Analytics\\FuelAnalysis\\test2\\cordinates_007042648443.csv\n",
      "G:\\Analytics\\FuelAnalysis\\test2\\cordinates_008527256951.csv\n",
      "G:\\Analytics\\FuelAnalysis\\test2\\cordinates_008527904085.csv\n"
     ]
    }
   ],
   "source": [
    "folderpath = r\"G:\\Analytics\\FuelAnalysis\\test2\"\n",
    "savePath = r\"G:\\Analytics\\FuelAnalysis\\results\"\n",
    "filepath = r\"\"\n",
    "\n",
    "df_list, filesname = dr.read__MultipleCSVs(folder_path= folderpath, nfiles=8)\n",
    "ctr = 0\n",
    "def formatDf(df):\n",
    "    #df_list[0].info()\n",
    "    df = dr.perform_PreFormating(df)\n",
    "    print (\"Dataset_\"+str(ctr+1) +\" Preformatting Done\")\n",
    "\n",
    "    dff, dff2 = dr.perform_postFormating(df)\n",
    "    print(\"Dataset_\" + str(ctr + 1) + \" Postformatting Done\")\n",
    "    return dff,dff2\n",
    "\n",
    "def cleanDF(dff, fuelMax, fuelMin):\n",
    "    df_clean = dc.Clean_NoiseData(dff, 6, fuelMax, fuelMin)\n",
    "    print(\"Dataset_\" + str(ctr + 1) + \" Data Cleaning Done\")\n",
    "    return df_clean\n",
    "\n",
    "def findtheft(df_clean, lvl, fuelMax, fuelMin):\n",
    "    theft_pts, refpts = dc.jump_point(df_clean, lvl, fuelMax, fuelMin)\n",
    "    print(\"Dataset_\" + str(ctr + 1) + \" Theft & Refuel points Indentified\")\n",
    "    return theft_pts, refpts\n",
    "\n",
    "    "
   ]
  },
  {
   "cell_type": "code",
   "execution_count": null,
   "metadata": {
    "collapsed": true
   },
   "outputs": [],
   "source": []
  },
  {
   "cell_type": "code",
   "execution_count": 8,
   "metadata": {},
   "outputs": [
    {
     "name": "stderr",
     "output_type": "stream",
     "text": [
      "C:\\Users\\manje_000\\AppData\\Local\\Programs\\Python\\Python36\\lib\\site-packages\\ipykernel_launcher.py:5: UserWarning: Pandas doesn't allow columns to be created via a new attribute name - see https://pandas.pydata.org/pandas-docs/stable/indexing.html#attribute-access\n",
      "  \"\"\"\n"
     ]
    }
   ],
   "source": [
    "#plotData_profiles(df)\n",
    "df = df_list[3]\n",
    "df = df[:]\n",
    "df = df.reset_index(drop= True)\n",
    "df.st = df.io_state.apply(lambda x: x[1])\n",
    "dis = df[df.st == '0'].distance.apply(lambda x: int(x))"
   ]
  },
  {
   "cell_type": "code",
   "execution_count": 9,
   "metadata": {},
   "outputs": [
    {
     "data": {
      "text/plain": [
       "[<matplotlib.lines.Line2D at 0x242c92c4320>]"
      ]
     },
     "execution_count": 9,
     "metadata": {},
     "output_type": "execute_result"
    },
    {
     "data": {
      "image/png": "[encoded data removed]",
      "text/plain": [
       "<Figure size 1152x288 with 1 Axes>"
      ]
     },
     "metadata": {},
     "output_type": "display_data"
    }
   ],
   "source": [
    "plt.rcParams['figure.figsize'] = [16,4]\n",
    "plt.plot(dis)"
   ]
  },
  {
   "cell_type": "code",
   "execution_count": 10,
   "metadata": {},
   "outputs": [
    {
     "name": "stdout",
     "output_type": "stream",
     "text": [
      "262623\n",
      "48797\n",
      "48797\n",
      "46612\n",
      "46612\n",
      "46612\n",
      "46612\n"
     ]
    },
    {
     "name": "stderr",
     "output_type": "stream",
     "text": [
      "C:\\Users\\manje_000\\Google Drive\\Data Science\\Loconav\\ScriptFiles\\DataCleaning_and_Prediction.py:121: SettingWithCopyWarning: \n",
      "A value is trying to be set on a copy of a slice from a DataFrame.\n",
      "Try using .loc[row_indexer,col_indexer] = value instead\n",
      "\n",
      "See the caveats in the documentation: http://pandas.pydata.org/pandas-docs/stable/indexing.html#indexing-view-versus-copy\n",
      "  dfClean['fuelVoltage_Percent'] = dfClean.fuelVoltage.apply(lambda x: round((100*x/(fuelMax - fuelMin)),2))\n"
     ]
    }
   ],
   "source": [
    "fuelMax, fuelMin = Gen_FuelMaxMin(df)"
   ]
  },
  {
   "cell_type": "code",
   "execution_count": 11,
   "metadata": {},
   "outputs": [
    {
     "data": {
      "text/plain": [
       "(560.0, 286.0)"
      ]
     },
     "execution_count": 11,
     "metadata": {},
     "output_type": "execute_result"
    }
   ],
   "source": [
    "fuelMax, fuelMin"
   ]
  },
  {
   "cell_type": "code",
   "execution_count": 12,
   "metadata": {},
   "outputs": [
    {
     "name": "stdout",
     "output_type": "stream",
     "text": [
      "Dataset_1 Preformatting Done\n",
      "262623\n",
      "48797\n",
      "48797\n",
      "46612\n",
      "46612\n",
      "46612\n",
      "46612\n",
      "Dataset_1 Postformatting Done\n"
     ]
    }
   ],
   "source": [
    "dff, dff2 = formatDf(df.copy())\n",
    "Dmax = dff.distance.max()"
   ]
  },
  {
   "cell_type": "code",
   "execution_count": 13,
   "metadata": {
    "collapsed": true
   },
   "outputs": [],
   "source": [
    "df = dr.perform_PreFormating(df)"
   ]
  },
  {
   "cell_type": "code",
   "execution_count": 14,
   "metadata": {},
   "outputs": [
    {
     "data": {
      "text/plain": [
       "211891"
      ]
     },
     "execution_count": 14,
     "metadata": {},
     "output_type": "execute_result"
    }
   ],
   "source": [
    "d = df[df.dev_state=='0']\n",
    "len(d[d.fuelVoltage <= 10])"
   ]
  },
  {
   "cell_type": "code",
   "execution_count": 15,
   "metadata": {},
   "outputs": [
    {
     "data": {
      "text/plain": [
       "213826"
      ]
     },
     "execution_count": 15,
     "metadata": {},
     "output_type": "execute_result"
    }
   ],
   "source": [
    "len(df[df.dev_state=='0'])"
   ]
  },
  {
   "cell_type": "code",
   "execution_count": 19,
   "metadata": {},
   "outputs": [
    {
     "data": {
      "text/plain": [
       "[<matplotlib.lines.Line2D at 0x242ced5eb00>]"
      ]
     },
     "execution_count": 19,
     "metadata": {},
     "output_type": "execute_result"
    },
    {
     "data": {
      "image/png": "[encoded data removed]",
      "text/plain": [
       "<Figure size 1152x288 with 1 Axes>"
      ]
     },
     "metadata": {},
     "output_type": "display_data"
    }
   ],
   "source": [
    "plt.plot(df[df.dev_state=='0'].index, df[df.dev_state=='0'].fuelVoltage, 'g.')"
   ]
  },
  {
   "cell_type": "code",
   "execution_count": 17,
   "metadata": {},
   "outputs": [
    {
     "name": "stdout",
     "output_type": "stream",
     "text": [
      "<class 'pandas.core.frame.DataFrame'>\n",
      "RangeIndex: 46612 entries, 0 to 46611\n",
      "Data columns (total 17 columns):\n",
      "lat             46612 non-null object\n",
      "long            46612 non-null object\n",
      "created_at      46612 non-null object\n",
      "updated_at      0 non-null float64\n",
      "device_id       46612 non-null int64\n",
      "speed           46612 non-null float64\n",
      "orientation     46612 non-null float64\n",
      "distance        46612 non-null float64\n",
      "received_at     46612 non-null object\n",
      "io_state        46612 non-null object\n",
      "availability    46612 non-null object\n",
      "blnk            0 non-null float64\n",
      "id              38021 non-null float64\n",
      "dev_state       46612 non-null int64\n",
      "FuelVoltage     46612 non-null int64\n",
      "datetime        46612 non-null datetime64[ns]\n",
      "fuelVoltage     46612 non-null float64\n",
      "dtypes: datetime64[ns](1), float64(7), int64(3), object(6)\n",
      "memory usage: 6.0+ MB\n"
     ]
    }
   ],
   "source": [
    "dff.info()"
   ]
  },
  {
   "cell_type": "code",
   "execution_count": 18,
   "metadata": {},
   "outputs": [
    {
     "data": {
      "text/plain": [
       "(46612, 262623)"
      ]
     },
     "execution_count": 18,
     "metadata": {},
     "output_type": "execute_result"
    }
   ],
   "source": [
    "len(dff), len(dff2)"
   ]
  },
  {
   "cell_type": "code",
   "execution_count": null,
   "metadata": {},
   "outputs": [],
   "source": [
    "a=[1,2,3,4,5,6]\n",
    "a[0]"
   ]
  },
  {
   "cell_type": "code",
   "execution_count": 20,
   "metadata": {
    "collapsed": true
   },
   "outputs": [],
   "source": [
    " dff3 = dff2[dff2.fuelVoltage<=200]"
   ]
  },
  {
   "cell_type": "code",
   "execution_count": 21,
   "metadata": {},
   "outputs": [
    {
     "data": {
      "text/plain": [
       "Timedelta('-70 days +20:39:21')"
      ]
     },
     "execution_count": 21,
     "metadata": {},
     "output_type": "execute_result"
    }
   ],
   "source": [
    "dff.loc[0,'datetime'] - dff.loc[len(dff)-1,'datetime']"
   ]
  },
  {
   "cell_type": "code",
   "execution_count": 22,
   "metadata": {},
   "outputs": [
    {
     "data": {
      "text/plain": [
       "Timedelta('-122 days +21:23:54')"
      ]
     },
     "execution_count": 22,
     "metadata": {},
     "output_type": "execute_result"
    }
   ],
   "source": [
    "dff2.loc[0,'datetime'] - dff2.loc[len(dff2)-1,'datetime']"
   ]
  },
  {
   "cell_type": "code",
   "execution_count": 23,
   "metadata": {},
   "outputs": [
    {
     "data": {
      "text/plain": [
       "Timedelta('-52 days +00:44:33')"
      ]
     },
     "execution_count": 23,
     "metadata": {},
     "output_type": "execute_result"
    }
   ],
   "source": [
    "dff2.loc[0,'datetime'] - dff.loc[0,'datetime']"
   ]
  },
  {
   "cell_type": "code",
   "execution_count": 24,
   "metadata": {},
   "outputs": [
    {
     "data": {
      "text/plain": [
       "Timedelta('-52 days +00:44:33')"
      ]
     },
     "execution_count": 24,
     "metadata": {},
     "output_type": "execute_result"
    }
   ],
   "source": [
    "dff2.loc[0,'datetime'] - dff.datetime.min()"
   ]
  },
  {
   "cell_type": "code",
   "execution_count": null,
   "metadata": {
    "collapsed": true
   },
   "outputs": [],
   "source": [
    "timeDiff = dff2.datetime.shift(-1) - dff2.datetime "
   ]
  },
  {
   "cell_type": "code",
   "execution_count": null,
   "metadata": {
    "collapsed": true
   },
   "outputs": [],
   "source": []
  },
  {
   "cell_type": "code",
   "execution_count": null,
   "metadata": {},
   "outputs": [],
   "source": [
    "dff2.datetime[:10]"
   ]
  },
  {
   "cell_type": "code",
   "execution_count": null,
   "metadata": {},
   "outputs": [],
   "source": [
    "dff2.datetime.shift(-1)[:10]"
   ]
  },
  {
   "cell_type": "code",
   "execution_count": null,
   "metadata": {},
   "outputs": [],
   "source": [
    "dff.datetime[0]"
   ]
  },
  {
   "cell_type": "code",
   "execution_count": null,
   "metadata": {},
   "outputs": [],
   "source": [
    "timeDiff[timeDiff > pd.Timedelta('0.05 day')]"
   ]
  },
  {
   "cell_type": "code",
   "execution_count": null,
   "metadata": {},
   "outputs": [],
   "source": [
    "timeDiff[timeDiff > pd.Timedelta('2 day')].index[-1]"
   ]
  },
  {
   "cell_type": "code",
   "execution_count": null,
   "metadata": {},
   "outputs": [],
   "source": [
    "plt.rcParams['figure.figsize'] = [16,4]\n",
    "plt.plot(dff2[dff2.datetime<=dff.datetime.min()].index, dff2[dff2.datetime<=dff.datetime.min()].fuelVoltage,'g.', markersize = 1);\n",
    "#plt.xlim(0,20000)\n",
    "(dff3.fuelVoltage.min())\n"
   ]
  },
  {
   "cell_type": "code",
   "execution_count": null,
   "metadata": {},
   "outputs": [],
   "source": [
    "plt.rcParams['figure.figsize'] = [16,4]\n",
    "plt.plot(dff.distance*0.001, dff.fuelVoltage, 'g.', markersize = 2)"
   ]
  },
  {
   "cell_type": "code",
   "execution_count": null,
   "metadata": {},
   "outputs": [],
   "source": [
    "dff.fuelVoltage.median()"
   ]
  },
  {
   "cell_type": "code",
   "execution_count": null,
   "metadata": {},
   "outputs": [],
   "source": [
    "dff.fuelVoltage.std()"
   ]
  },
  {
   "cell_type": "code",
   "execution_count": null,
   "metadata": {},
   "outputs": [],
   "source": [
    "plt.rcParams['figure.figsize'] = [16,4]\n",
    "plt.hist(dff.fuelVoltage,200);\n",
    "#plt.xlim(0,0.02)\n",
    "#plt.ylim(0,2.5)"
   ]
  },
  {
   "cell_type": "code",
   "execution_count": null,
   "metadata": {},
   "outputs": [],
   "source": [
    "import matplotlib.mlab as mlab\n",
    "mu = dff.fuelVoltage.mean()\n",
    "#variance = (dff.fuelVoltage.std())*(dff.fuelVoltage.std())\n",
    "sigma = dff.fuelVoltage.std()\n",
    "x = np.linspace(mu - 3*sigma, mu + 3*sigma, 100)\n",
    "plt.plot(x,mlab.normpdf(x, mu, sigma))"
   ]
  },
  {
   "cell_type": "code",
   "execution_count": null,
   "metadata": {
    "collapsed": true
   },
   "outputs": [],
   "source": [
    "cleandt = []\n",
    "fueldt = dff.fuelVoltage\n",
    "for i in range(len(dff)):\n",
    "    try:\n",
    "        cleandt.append(fueldt[i-20:i+20].mean())\n",
    "    except:\n",
    "        pass\n"
   ]
  },
  {
   "cell_type": "code",
   "execution_count": null,
   "metadata": {},
   "outputs": [],
   "source": [
    "plt.rcParams['figure.figsize'] = [16,4]\n",
    "plt.plot(dff.distance, dff.speed,  'g.', markersize = 1)"
   ]
  },
  {
   "cell_type": "code",
   "execution_count": null,
   "metadata": {
    "collapsed": true
   },
   "outputs": [],
   "source": [
    "def jump_point2(dff,m, level = 0.05, fuelMax=100, fuelMin=0):\n",
    "    x = np.array(dff.index)\n",
    "    y = np.array(dff.fuelVoltage)\n",
    "    d = np.array(dff.distance)\n",
    "    \n",
    "    #######################################################################\n",
    "    ## No. of Neighbourhood pts , dependent on sampling Rate of IoT device\n",
    "    ## Criteria Set = Avg No. of points inside 10Km window will be considered\n",
    "    n = int(10000/(dff.distance.max()/len(dff)))\n",
    "    \n",
    "    level = level*(fuelMax - fuelMin)\n",
    "    theft_pts = []\n",
    "    refpts = []\n",
    "    rctr = 0\n",
    "    ctr = 0\n",
    "    i = 0\n",
    "    dd1 = [0]\n",
    "    disback = []\n",
    "    disfor = []\n",
    "\n",
    "    dd2 = [y[1] - y[0]]\n",
    "    for i in range(1, len(x)):\n",
    "        try:\n",
    "            #             d1 =abs(y[i+1] - y[i])\n",
    "            #             d2 =abs(y[i+2] - y[i])\n",
    "            d_forward = (y[i + 1:i + n] - y[i])\n",
    "            d_backward = (y[i + 1] - y[i - n:i])\n",
    "            disfor.append(d[i + n] - d[i])\n",
    "            disback.append(d[i] - d[i-n])\n",
    "            # print (d_backward)\n",
    "            \n",
    "        except:\n",
    "            pass\n",
    "            #print(\"**\")\n",
    "        # dd1.append(d1)\n",
    "        # dd2.append(d2)\n",
    "        # if (d1 >= 0.05) & (d2 >= 0.05)&(d3 >= 0.05)&(d4 >= 0.05)&(d5 >= 0.05)&(d5 >= 0.05):\n",
    "\n",
    "        ###########################################################################\n",
    "        #### Finding probable refueling Points\n",
    "        if ((sum(d_forward > 1 * 3 * level) in list(range(n-1, n+1)))):  # & (sum(d_forward<0.1) == 19)):\n",
    "            if (sum(d_backward > 1 * 3 * level) in list(range(n-1, n+1))):\n",
    "                refpts.append(dff.index[i])\n",
    "                rctr += 1\n",
    "\n",
    "        ############################################################################\n",
    "        #### Finding probable theft points\n",
    "        if ((sum(d_forward < -1 * level) in list(range(n-1, n+1)))):  # & (sum(d_forward<0.1) == 19)):\n",
    "            if (sum(d_backward < -1 * level) in list(range(n-1, n+1))):\n",
    "                theft_pts.append(dff.index[i])\n",
    "                ctr += 1\n",
    "                # print(theft_pts, ctr)\n",
    "\n",
    "        if (ctr >= 2):\n",
    "            if ((theft_pts[ctr - 1] - theft_pts[ctr - 2]) in list(range(1, 6))):\n",
    "                theft_pts.pop(ctr - 2)\n",
    "                ctr -= 1\n",
    "                # print (i)\n",
    "\n",
    "                # dd1.append(0)\n",
    "                # dd2.append(0)\n",
    "    # dff['dd1'] = pd.Series(dd1)\n",
    "    # dff['dd2'] = pd.Series(dd2)\n",
    "    print(len(theft_pts))\n",
    "    return theft_pts, refpts, disback, disfor"
   ]
  },
  {
   "cell_type": "code",
   "execution_count": null,
   "metadata": {},
   "outputs": [],
   "source": [
    "df_clean = cleanDF(dff.copy(), fuelMax, fuelMin)"
   ]
  },
  {
   "cell_type": "code",
   "execution_count": null,
   "metadata": {},
   "outputs": [],
   "source": [
    "theft_pts, refpts = findtheft(df_clean, 0.01, fuelMax, fuelMin)"
   ]
  },
  {
   "cell_type": "code",
   "execution_count": null,
   "metadata": {
    "scrolled": true
   },
   "outputs": [],
   "source": [
    "from ipywidgets import *\n",
    "from IPython.display import display\n",
    "# w = IntSlider()\n",
    "# display(w)\n",
    "\n",
    "pred_lvl = dc.predit_MissingData(dff2,df_clean)\n"
   ]
  },
  {
   "cell_type": "code",
   "execution_count": null,
   "metadata": {
    "scrolled": true
   },
   "outputs": [],
   "source": [
    "dff2[dff2.datetime<=df_clean.datetime.min()]"
   ]
  },
  {
   "cell_type": "code",
   "execution_count": null,
   "metadata": {},
   "outputs": [],
   "source": [
    "plt.rcParams['figure.figsize'] = [16,4]\n",
    "plt.plot(pred_lvl.index, pred_lvl.predictFuelVolt,  'g.', markersize = 1)"
   ]
  },
  {
   "cell_type": "code",
   "execution_count": null,
   "metadata": {},
   "outputs": [],
   "source": [
    "int(10000/(df_clean.distance.max()/len(df_clean)))"
   ]
  },
  {
   "cell_type": "code",
   "execution_count": null,
   "metadata": {},
   "outputs": [],
   "source": [
    "xlim = [7800,8400]\n",
    "ylim = [300, 450]\n",
    "plot_theftpts(df_clean,refPts=[],theftpts=theft_pts,  xlim = xlim, ylim1= ylim)"
   ]
  },
  {
   "cell_type": "code",
   "execution_count": null,
   "metadata": {
    "scrolled": true
   },
   "outputs": [],
   "source": [
    "len(refpts)"
   ]
  },
  {
   "cell_type": "code",
   "execution_count": null,
   "metadata": {
    "collapsed": true
   },
   "outputs": [],
   "source": [
    "## Finding avgMax decay rate\n",
    "avgDT, indexlst, max_dCRate = findMax_decayRate(df_clean)"
   ]
  },
  {
   "cell_type": "code",
   "execution_count": null,
   "metadata": {},
   "outputs": [],
   "source": [
    "max_dCRate, avgDT.median(), round(avgDT.mean(),5)"
   ]
  },
  {
   "cell_type": "code",
   "execution_count": null,
   "metadata": {},
   "outputs": [],
   "source": [
    "result_df = dc.generate_PredictTable(df_clean,theft_pts,max_dCRate, fuelMax, fuelMin)"
   ]
  },
  {
   "cell_type": "code",
   "execution_count": null,
   "metadata": {},
   "outputs": [],
   "source": [
    "plt.rcParams['figure.figsize'] = [16,4]\n",
    "plt.plot(result_df.theft_index, result_df['fuel_VoltageJump'], 'g-', markersize=3, linewidth=1);\n",
    "#plt.ylim(0,400)"
   ]
  },
  {
   "cell_type": "code",
   "execution_count": null,
   "metadata": {
    "scrolled": true
   },
   "outputs": [],
   "source": [
    "#build_savePath = savePath + r\"\\result_dataset_\" + filesname[ctr].replace(folderpath,\"\").replace('\\\\', \"\")\n",
    "#result_df.to_csv(build_savePath)\n",
    "\n",
    "plot_Results(dff,df_clean, result_df, theft_pts, refpts , xlim = xlim, ylim1=ylim);\n",
    "#ctr+=1\n",
    "print(result_df)"
   ]
  },
  {
   "cell_type": "code",
   "execution_count": null,
   "metadata": {
    "collapsed": true
   },
   "outputs": [],
   "source": [
    "plt.rcParams['figure.figsize'] = [16,4]\n",
    "plt.plot(df_clean.distance*0.001, df_clean.fuelVoltage, 'g.', markersize = 2)"
   ]
  },
  {
   "cell_type": "code",
   "execution_count": null,
   "metadata": {},
   "outputs": [],
   "source": [
    "from scipy.fftpack import fft\n",
    "from scipy import signal as sg\n",
    "import statsmodels.api as sm\n",
    "from scipy.signal import butter, lfilter, freqz\n",
    "import datetime"
   ]
  },
  {
   "cell_type": "code",
   "execution_count": null,
   "metadata": {},
   "outputs": [],
   "source": [
    "normdata = df_clean.fuelVoltage/df_clean.fuelVoltage.max()\n",
    "yvolt = fft(df_clean.fuelVoltage/df_clean.fuelVoltage.max())\n",
    "\n",
    "plt.rcParams['figure.figsize'] = [16,4]\n",
    "plt.ylim(0,1000);\n",
    "plt.plot(np.abs(yvolt[:]));\n",
    "plt.rcParams['figure.figsize'] = [16,4]\n",
    "plt.xscale('log')\n",
    "plt.ylabel('Amplitude Response (dB)')\n",
    "plt.xlabel('Frequency (Hz, Log Scale)')\n",
    "#plt.axvline((2.5, color = 'black')\n",
    "plt.text(2.1,-50, \"Cut-off\", fontsize = 15);"
   ]
  },
  {
   "cell_type": "code",
   "execution_count": null,
   "metadata": {
    "collapsed": true
   },
   "outputs": [],
   "source": [
    "def butter_lowpass_filter(data, cutoff, fs, order=5, ftype = False):\n",
    "    nyq = 0.5 * fs\n",
    "    normal_cutoff = cutoff / nyq\n",
    "    b, a = butter(order, normal_cutoff, btype='low', analog=ftype)\n",
    "    y = lfilter(b, a, data)\n",
    "    y1 = sg.filtfilt(b,a, data)\n",
    "    return y\n",
    "\n",
    "def butter_bandstop_filter(data, lowcut,highcut, fs, order=5, ftype = False):\n",
    "    nyq = 0.5 * fs\n",
    "    low = lowcut / nyq\n",
    "    high = highcut / nyq\n",
    "    b, a = butter(order, [low,high], btype='bandstop', analog=ftype)\n",
    "    y = lfilter(b, a, data)\n",
    "    y1 = sg.filtfilt(b,a, data)\n",
    "    return y\n"
   ]
  },
  {
   "cell_type": "code",
   "execution_count": null,
   "metadata": {},
   "outputs": [],
   "source": [
    "# Filter the data, and plot both the original and filtered signals.\n",
    "fs = 500             # Sampling Frequency\n",
    "order = 5             # Order of Filter\n",
    "cutoff = 1          # Filter Cut-off Frequency\n",
    "\n",
    "df = df_clean.copy()\n",
    "# Calling Butterworth filter\n",
    "y = df_clean.fuelVoltage.max() *(butter_lowpass_filter(normdata, cutoff, fs, order, ftype= False))\n",
    "y1 = butter_bandstop_filter(normdata, 10,200,fs,order,False)\n",
    "time = df.datetime\n",
    "\n",
    "#Plotting Results\n",
    "plt.rcParams['figure.figsize'] = [16,16]\n",
    "\n",
    "plt.subplot(4, 1,1)\n",
    "#plt.plot(time, norm_data, 'b-', linewidth=1, label='Original Signal')\n",
    "plt.plot(df.datetime[0:10000], df.fuelVoltage[0:10000], 'g.', markersize = 1, linewidth = 1)\n",
    "plt.legend()\n",
    "plt.grid()\n",
    "plt.ylabel('Fuel Voltage (Normalised)',  fontsize = 14)\n",
    "#plt.xlim(0,10000)\n",
    "plt.title('Original Fuel Voltage', fontsize = 20)\n",
    "#plt.ylim(datetime.datetime(2018,1,27,2,0), datetime.datetime(2018,2,15,6,55))\n",
    "#plt.axvline(60000, color = 'black')\n",
    "\n",
    "plt.subplot(4, 1,2)\n",
    "plt.plot(df.index, y, 'r.', markersize=1, label='Original Signal')\n",
    "plt.legend()\n",
    "#plt.xlim(0,10000)\n",
    "plt.ylim(df_clean.fuelVoltage.min(), 1.05*df_clean.fuelVoltage.max())\n",
    "plt.ylabel('Cumulative Distance (Normalised)',  fontsize = 14)\n",
    "#plt.xlim(datetime.datetime(2018,1,27,2,0), datetime.datetime(2018,2,15,6,55))\n",
    "\n",
    "plt.subplot(4, 1,3)\n",
    "plt.plot(df.index, df['distance'], label='Cumulative Distance - DateSorted');\n",
    "plt.legend()\n",
    "plt.twinx()\n",
    "plt.ylabel('Cumulative Distance (Normalised)',  fontsize = 14)\n",
    "#plt.xlim(datetime.datetime(2018,1,27,2,0), datetime.datetime(2018,2,15,6,55))\n",
    "\n",
    "#df3 = df2.sort_values(by=['distance'], ascending=True);\n",
    "plt.subplot(4, 1,4)\n",
    "plt.plot(df.index, df['distance'], label='Cumulative Distance - Dist Sorted');\n",
    "plt.legend()\n",
    "plt.twinx()\n",
    "plt.ylabel('Cumulative Distance (Normalised)',  fontsize = 14)\n",
    "plt.xlim(datetime.datetime(2018,1,27,2,0), datetime.datetime(2018,2,15,6,55))\n",
    "\n",
    "#plt.xlim(pd.)\n",
    "\n",
    "# plt.subplot(4, 1,1)\n",
    "# plt.plot(df.datetime, y1, 'r-', linewidth=3, label='Fuel Voltage, filtered')\n",
    "# plt.ylim(0,1)\n",
    "plt.grid()\n",
    "plt.legend()\n",
    "plt.ylabel('Fuel Voltage (Normalised)',  fontsize = 14)\n",
    "plt.title('Filtered Voltage', fontsize = 20)\n",
    "plt.xlabel('Time [sec]',  fontsize = 14)\n",
    "\n",
    "\n",
    "plt.tight_layout()\n"
   ]
  },
  {
   "cell_type": "code",
   "execution_count": null,
   "metadata": {
    "collapsed": true
   },
   "outputs": [],
   "source": []
  },
  {
   "cell_type": "code",
   "execution_count": null,
   "metadata": {
    "collapsed": true
   },
   "outputs": [],
   "source": []
  },
  {
   "cell_type": "code",
   "execution_count": null,
   "metadata": {
    "collapsed": true
   },
   "outputs": [],
   "source": []
  },
  {
   "cell_type": "code",
   "execution_count": null,
   "metadata": {
    "collapsed": true,
    "scrolled": true
   },
   "outputs": [],
   "source": [
    "def findAVG(cleanDf, Dmax):\n",
    "    i = 0\n",
    "    ds = 0\n",
    "    df = 0\n",
    "    dsRef = 0\n",
    "    dt = 10000\n",
    "    avgdt_lst = []\n",
    "    mean_lst = []\n",
    "    median_lst = []\n",
    "    indexlst_lst = []\n",
    "    ctr = 0\n",
    "    df1 = 0\n",
    "    print(Dmax)\n",
    "    while dt < 30000:\n",
    "        avgDT = []\n",
    "        indexlst = []\n",
    "        #print (dt)\n",
    "        i=0\n",
    "        while i<len(cleanDf): \n",
    "            ds = 0\n",
    "            df1 = 0\n",
    "            dsRef = cleanDf.distance[i]\n",
    "            dfRef = cleanDf.fuelVoltage[i]\n",
    "            while ((ds)<=dt  and i<len(cleanDf)):\n",
    "                ds = (cleanDf.distance[i] - dsRef)\n",
    "                i+=1\n",
    "                #print(i)\n",
    "\n",
    "            if i<len(cleanDf):\n",
    "                df = dfRef- cleanDf.fuelVoltage[i]\n",
    "                if df>0 :\n",
    "                    avg = df/ds\n",
    "                    avgDT.append(avg)\n",
    "                    indexlst.append(cleanDf.index[i])\n",
    "            \n",
    "            #print(df)\n",
    "        indexlst_lst.append(indexlst)\n",
    "        avgdt_lst.append(avgDT)\n",
    "        med = pd.Series(avgDT).median()\n",
    "        mean = pd.Series(avgDT).mean()\n",
    "        #print (med,mean,mode)\n",
    "\n",
    "        median_lst.append(med)\n",
    "        mean_lst.append(mean)\n",
    "        ctr+=1\n",
    "        dt += 1000\n",
    "        print (dt)\n",
    "\n",
    "        \n",
    "    return [median_lst,mean_lst], avgdt_lst, indexlst_lst\n",
    "\n",
    "central_DT, avgLst, indexlst = findAVG(df_clean, Dmax)"
   ]
  },
  {
   "cell_type": "code",
   "execution_count": null,
   "metadata": {
    "collapsed": true
   },
   "outputs": [],
   "source": [
    "len(df_clean), len(avgLst), len(indexlst)"
   ]
  },
  {
   "cell_type": "code",
   "execution_count": null,
   "metadata": {
    "collapsed": true
   },
   "outputs": [],
   "source": [
    "#dt = [i*100 for (i,dt) in zip(len(central_DT[0]),Dmax) ]\n",
    "plt.rcParams['figure.figsize'] = [16,12]\n",
    "plt.subplot(3,1,1)\n",
    "plt.hist(central_DT[0],bins =100);\n",
    "plt.grid()\n",
    "plt.axvline(pd.Series(central_DT[0]).mean(), color = 'black')\n",
    "plt.axvline(pd.Series(central_DT[0]).median(), color = 'yellow')\n",
    "plt.axvline(pd.Series(central_DT[0]).median() + 2*pd.Series(central_DT[0]).std(), color = 'Red')\n",
    "\n",
    "#plt.ylim(0,.005)\n",
    "plt.subplot(3,1,2)\n",
    "plt.plot(central_DT[1]);\n",
    "plt.ylim(0,.001)\n",
    "plt.grid()\n",
    "plt.title(\"Median dF/dS vs Increasing Ds\")\n",
    "\n",
    "#plt.plot(central_DT[2]);\n",
    "\n",
    "        "
   ]
  },
  {
   "cell_type": "code",
   "execution_count": null,
   "metadata": {
    "collapsed": true
   },
   "outputs": [],
   "source": [
    "plt.rcParams['figure.figsize'] = [16,12]\n",
    "plt.subplot(3,1,1)\n",
    "plt.plot(avgLst[1],'b-');\n",
    "plt.grid()\n",
    "#plt.ylim(0,.4)\n",
    "\n",
    "plt.axhline(pd.Series(avgLst[1]).mean(), color = 'black')\n",
    "plt.axhline(pd.Series(avgLst[1]).median(), color = 'green')\n",
    "plt.axhline(2*pd.Series(avgLst[1]).std(), color = 'Red')\n",
    "#plt.xlim(0,500)\n",
    "plt.subplot(3,1,2)\n",
    "plt.plot(avgLst[0], 'b-');\n",
    "plt.axhline(pd.Series(avgLst[0]).mean(), color = 'black')\n",
    "plt.axhline(pd.Series(avgLst[0]).median(), color = 'green')\n",
    "plt.axhline(2*pd.Series(avgLst[0]).std(), color = 'Red')\n",
    "\n",
    "#plt.ylim(0,.4)\n",
    "plt.grid()"
   ]
  },
  {
   "cell_type": "code",
   "execution_count": null,
   "metadata": {
    "collapsed": true
   },
   "outputs": [],
   "source": [
    "(indexlst[0])"
   ]
  },
  {
   "cell_type": "code",
   "execution_count": null,
   "metadata": {
    "collapsed": true
   },
   "outputs": [],
   "source": [
    "plt.hist(avgLst[1][abs(avgLst[1] - avgLst[1].mean()) < 3*avgLst[1].std()],bins = 200)\n",
    "plt.axvline(avgLst[1].median(), color = 'black')\n",
    "plt.axvline(avgLst[1].mean(), color = 'green')"
   ]
  },
  {
   "cell_type": "code",
   "execution_count": null,
   "metadata": {
    "collapsed": true
   },
   "outputs": [],
   "source": [
    "from ipywidgets import *\n",
    "from IPython.display import display\n",
    "# w = IntSlider()\n",
    "# display(w)\n",
    "def f(x):\n",
    "    return x\n",
    "interact(f, x= IntSlider(min=-10, max=30, step=1,value=1));"
   ]
  },
  {
   "cell_type": "code",
   "execution_count": null,
   "metadata": {
    "collapsed": true
   },
   "outputs": [],
   "source": [
    "def f(x):    \n",
    "    index = indexlst[x]\n",
    "    avg = avgLst[x]\n",
    "    plt.rcParams['figure.figsize'] = [16,4]\n",
    "    plt.plot(index, avg, 'g.', markersize = 2)\n",
    "    plt.axhline(pd.Series(avg).median(), color = 'red')\n",
    "    plt.axhline(pd.Series(avg).mean(), color = 'blue')\n",
    "    plt.axhline(pd.Series(avg).median() + 2*pd.Series(avg).std(), color = 'Black')\n",
    "    plt.ylim(0,0.002)\n",
    "\n",
    "interact(f, x= IntSlider(min=0, max=20, step=1,value=10));"
   ]
  },
  {
   "cell_type": "code",
   "execution_count": null,
   "metadata": {
    "collapsed": true,
    "scrolled": true
   },
   "outputs": [],
   "source": [
    "def findAVG2(cleanDf, Dmax):\n",
    "    i = 0\n",
    "    ds = 0\n",
    "    df = 0\n",
    "    dsRef = 0\n",
    "    dt = (cleanDf.fuelVoltage.max() - cleanDf.fuelVoltage.min())/500\n",
    "    dtmax = (cleanDf.fuelVoltage.max() - cleanDf.fuelVoltage.min())/50\n",
    "    avgdt_lst = []\n",
    "    mean_lst = []\n",
    "    median_lst = []\n",
    "    indexlst_lst = []\n",
    "    ctr = 0\n",
    "    df1 = 0\n",
    "    print(Dmax, dt, dtmax)\n",
    "    while dt < dtmax:\n",
    "        avgDT = []\n",
    "        indexlst = []\n",
    "        print (\"dt = \",dt)\n",
    "        i=0\n",
    "        while i<len(cleanDf): \n",
    "            df = 0\n",
    "            dfRef = cleanDf.fuelVoltage[i]\n",
    "            dsRef = cleanDf.distance[i]\n",
    "            while (df<=dt  and i<len(cleanDf)):\n",
    "                df = dfRef - cleanDf.fuelVoltage[i] \n",
    "                if df <0 :\n",
    "                    dfRef = cleanDf.fuelVoltage[i]\n",
    "                i+=1\n",
    "                #print(i)\n",
    "            \n",
    "            if i<len(cleanDf):\n",
    "                ds = cleanDf.distance[i] - dsRef\n",
    "                if df>0 :\n",
    "                    #print (i)\n",
    "                    if ds==0:\n",
    "                        ds = df/1000\n",
    "                        print(\"df = \",df,\"****\",i)\n",
    "                    avg = df/ds\n",
    "                    avgDT.append(avg)\n",
    "                    indexlst.append(cleanDf.index[i])\n",
    "            \n",
    "        #print(avgDT)\n",
    "        #print(dt)\n",
    "        indexlst_lst.append(indexlst)\n",
    "        if len(avgDT)!=0 :\n",
    "            avgdt_lst.append(avgDT)\n",
    "            med = pd.Series(avgDT).median()\n",
    "            mean = pd.Series(avgDT).mean()\n",
    "            #print (med,mean,mode)\n",
    "\n",
    "            median_lst.append(med)\n",
    "            mean_lst.append(mean)\n",
    "        ctr+=1\n",
    "        dt += dtmax/100\n",
    "        #print (dt)\n",
    "\n",
    "        \n",
    "    return [median_lst,mean_lst], avgdt_lst, indexlst_lst\n",
    "\n",
    "central_DT2, avgLst2, indexlst2 = findAVG2(df_clean, Dmax)"
   ]
  },
  {
   "cell_type": "code",
   "execution_count": null,
   "metadata": {
    "collapsed": true,
    "scrolled": true
   },
   "outputs": [],
   "source": [
    "def findMax_decayRate(cleanDf):\n",
    "\n",
    "    i = 0\n",
    "    dt = (cleanDf.fuelVoltage.max() - cleanDf.fuelVoltage.min())/500\n",
    "    avgDT = []\n",
    "    indexlst = []\n",
    "    \n",
    "    while i<len(cleanDf): \n",
    "        df = 0\n",
    "        dfRef = cleanDf.fuelVoltage[i]\n",
    "        dsRef = cleanDf.distance[i]\n",
    "        while (df<=dt  and i<len(cleanDf)):\n",
    "            df = dfRef - cleanDf.fuelVoltage[i] \n",
    "            if df <0 :\n",
    "                dfRef = cleanDf.fuelVoltage[i]\n",
    "            i+=1\n",
    "            #print(i)\n",
    "\n",
    "        if i<len(cleanDf):\n",
    "            ds = cleanDf.distance[i] - dsRef\n",
    "            if df>0 :\n",
    "                #print (i)\n",
    "                if ds==0:\n",
    "                    ds = df/1000\n",
    "                    #print(\"df = \",df,\"****\",i)\n",
    "                avg = df/ds\n",
    "                avgDT.append(avg)\n",
    "                indexlst.append(cleanDf.index[i])\n",
    "\n",
    "        med = pd.Series(avgDT).median()\n",
    "        mean = pd.Series(avgDT).mean()\n",
    "        avg = pd.Series(avgDT)\n",
    "        max_dCRate = avg.median()+ 3*abs(avg - avg.median()).median()\n",
    "        \n",
    "    return pd.Series(avgDT), indexlst, max_dCRate\n",
    "\n",
    "avgDT, indexlst, max_dCRate = findMax_decayRate(df_clean)"
   ]
  },
  {
   "cell_type": "code",
   "execution_count": null,
   "metadata": {
    "collapsed": true
   },
   "outputs": [],
   "source": [
    "len(df_clean), len(avgDT), len(indexlst), max_dCRate"
   ]
  },
  {
   "cell_type": "code",
   "execution_count": null,
   "metadata": {
    "collapsed": true,
    "scrolled": true
   },
   "outputs": [],
   "source": [
    "sum(avgDT==1000)"
   ]
  },
  {
   "cell_type": "code",
   "execution_count": null,
   "metadata": {
    "collapsed": true
   },
   "outputs": [],
   "source": [
    "#dt = [i*100 for (i,dt) in zip(len(central_DT[0]),Dmax) ]\n",
    "plt.rcParams['figure.figsize'] = [16,12]\n",
    "plt.subplot(3,1,1)\n",
    "plt.hist(central_DT2[0],bins =100);\n",
    "plt.grid()\n",
    "plt.axvline(pd.Series(central_DT2[0]).mean(), color = 'black')\n",
    "plt.axvline(pd.Series(central_DT2[0]).median(), color = 'yellow')\n",
    "plt.axvline(pd.Series(central_DT2[0]).median() + 2*pd.Series(central_DT2[0]).std(), color = 'Red')\n",
    "plt.title('Histogram plot for Average Median for Varying Windows size')\n",
    "\n",
    "plt.subplot(3,1,2)\n",
    "plt.hist(central_DT2[1],bins =1000);\n",
    "plt.grid()\n",
    "plt.axvline(pd.Series(central_DT2[1]).mean(), color = 'black')\n",
    "plt.axvline(pd.Series(central_DT2[1]).median(), color = 'yellow')\n",
    "plt.axvline(pd.Series(central_DT2[1]).median() + 2*pd.Series(central_DT2[1]).std(), color = 'Red')\n",
    "plt.semilogx()\n",
    "plt.semilogy()\n",
    "plt.ylim(0,5000)\n",
    "plt.title('Average Mean plot for Varying Windows size')\n",
    "\n",
    "plt.subplot(3,1,3)\n",
    "plt.plot(central_DT2[0]);\n",
    "#plt.ylim(0,.002)\n",
    "plt.grid()\n",
    "plt.title(\"Median dF/dS vs Increasing Ds\")"
   ]
  },
  {
   "cell_type": "code",
   "execution_count": null,
   "metadata": {
    "collapsed": true
   },
   "outputs": [],
   "source": [
    "def f2(x):\n",
    "    return x\n",
    "def f(x):    \n",
    "    index = indexlst2[x]\n",
    "    avg = avgLst2[x]\n",
    "    avg = pd.Series(avg)\n",
    "    plt.rcParams['figure.figsize'] = [16,8]\n",
    "    interact(f2, x=str(pd.Series(avg).median()));\n",
    "    interact(f2, x=str(pd.Series(avg).median()+ 3*abs(avg - avg.median()).median()));\n",
    "    plt.subplot(2,1,1)\n",
    "    plt.plot(index, avg, 'g.')\n",
    "    plt.semilogy()\n",
    "    plt.axhline(pd.Series(avg).median(), color = 'red')\n",
    "    plt.axhline(pd.Series(avg).median() + 2*pd.Series(avg).std(), color = 'Black')\n",
    "    plt.axhline(pd.Series(avg).median()+ 4*abs(avg - avg.median()).median(), color = 'Blue')\n",
    "    plt.axhline(pd.Series(avg).median()- 2*abs(avg - avg.median()).median(), color = 'Blue')\n",
    "    abs(avg - avg.median()).median()\n",
    "   # plt.ylim(0,0.05)\n",
    "    plt.subplot(2,1,2)\n",
    "    plt.plot(index,avg)\n",
    "    plt.semilogy()\n",
    "    plt.semilogx()\n",
    "    #plt.ylim(0,0.1)\n",
    "    #plt.axhline(pd.Series(avg).median(), color = 'red')\n",
    "   # plt.axhline(pd.Series(avg).mean(), color = 'blue')\n",
    "   ## plt.axhline(pd.Series(avg).median() + 2*pd.Series(avg).std(), color = 'Black')\n",
    "    \n",
    "    \n",
    "interact(f, x= IntSlider(min=0, max=200, step=1,value=0));\n"
   ]
  },
  {
   "cell_type": "code",
   "execution_count": null,
   "metadata": {
    "collapsed": true
   },
   "outputs": [],
   "source": [
    "IntProgress(\n",
    "    value=7,\n",
    "    min=0,\n",
    "    max=10,\n",
    "    step=1,\n",
    "    description='Loading:',\n",
    "    bar_style='', # 'success', 'info', 'warning', 'danger' or ''\n",
    "    orientation='horizontal'\n",
    ")"
   ]
  },
  {
   "cell_type": "code",
   "execution_count": null,
   "metadata": {
    "collapsed": true
   },
   "outputs": [],
   "source": [
    " avg = pd.Series(avgLst2[0])\n",
    "abs(avg - avg.median()).median()"
   ]
  },
  {
   "cell_type": "code",
   "execution_count": null,
   "metadata": {
    "collapsed": true
   },
   "outputs": [],
   "source": [
    "avg[avg!=1000].median(), avg[avg!=1000].std()"
   ]
  },
  {
   "cell_type": "code",
   "execution_count": null,
   "metadata": {
    "collapsed": true
   },
   "outputs": [],
   "source": [
    "meddev = []\n",
    "for  avg in avgLst2:\n",
    "    avg = pd.Series(avg)\n",
    "    meddev.append(pd.Series(avg).median()+ 2*abs(avg - avg.median()).median())\n",
    "plt.rcParams['figure.figsize'] = [16,4]\n",
    "plt.plot(meddev)\n",
    "plt.axhline(pd.Series(meddev).median(), color = 'red')\n",
    "plt.axhline(pd.Series(meddev).mean(), color = 'Black')\n",
    "plt.xlim(0,100)"
   ]
  },
  {
   "cell_type": "code",
   "execution_count": null,
   "metadata": {
    "collapsed": true
   },
   "outputs": [],
   "source": [
    "pd.Series(meddev).mean(), max(meddev)"
   ]
  },
  {
   "cell_type": "code",
   "execution_count": null,
   "metadata": {
    "collapsed": true
   },
   "outputs": [],
   "source": [
    "a = avgDT.value_counts()\n",
    "avgDT.median(), avgDT.mean(), avgDT.mode()"
   ]
  },
  {
   "cell_type": "markdown",
   "metadata": {},
   "source": [
    "10km:\n",
    "mean = 0.0167\n",
    "median = 0.0131\n",
    "mode = 0.0037\n",
    "\n",
    "1km:\n",
    "mean = 0.0095\n",
    "median = 0.00562\n",
    "mode = 0.00187\n",
    "\n",
    "5km:\n",
    "mean = 0.00138\n",
    "median = 0.00936\n",
    "mode = 0.00187\n",
    "\n",
    "0.5Km\n",
    "mean = 0.00138\n",
    "median = 0.00936\n",
    "mode = 0.00187\n",
    "\n",
    "50km\n",
    "mean = 0.0373\n",
    "median = 0.0365\n",
    "mode = 0.0411\n",
    "\n",
    "100km\n",
    "mean = 0.065988\n",
    "median = 0.0692\n",
    "mode = 0.048689\n",
    "\n",
    "\n",
    "\n",
    "\n",
    "\n",
    "\n",
    "\n"
   ]
  },
  {
   "cell_type": "code",
   "execution_count": null,
   "metadata": {
    "collapsed": true
   },
   "outputs": [],
   "source": []
  },
  {
   "cell_type": "code",
   "execution_count": null,
   "metadata": {
    "collapsed": true
   },
   "outputs": [],
   "source": [
    "plt.plot(df_clean.distance * .001*Dmax, df_clean.fuelVoltage,  'g.')"
   ]
  },
  {
   "cell_type": "code",
   "execution_count": null,
   "metadata": {
    "collapsed": true
   },
   "outputs": [],
   "source": []
  },
  {
   "cell_type": "code",
   "execution_count": null,
   "metadata": {
    "collapsed": true
   },
   "outputs": [],
   "source": []
  },
  {
   "cell_type": "code",
   "execution_count": null,
   "metadata": {
    "collapsed": true
   },
   "outputs": [],
   "source": []
  }
 ],
 "metadata": {
  "kernelspec": {
   "display_name": "Python 3",
   "language": "python",
   "name": "python3"
  },
  "language_info": {
   "codemirror_mode": {
    "name": "ipython",
    "version": 3
   },
   "file_extension": ".py",
   "mimetype": "text/x-python",
   "name": "python",
   "nbconvert_exporter": "python",
   "pygments_lexer": "ipython3",
   "version": "3.6.4"
  }
 },
 "nbformat": 4,
 "nbformat_minor": 2
}
