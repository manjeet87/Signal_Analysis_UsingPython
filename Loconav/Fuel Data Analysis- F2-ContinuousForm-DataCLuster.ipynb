{
 "cells": [
  {
   "cell_type": "markdown",
   "metadata": {},
   "source": [
    "## Analysing Fuel Voltage Signal Data"
   ]
  },
  {
   "cell_type": "code",
   "execution_count": null,
   "metadata": {},
   "outputs": [],
   "source": [
    "import numpy as np\n",
    "import pandas as pd\n",
    "from scipy.signal import butter, lfilter, freqz\n",
    "from scipy import signal as sg\n",
    "import matplotlib.pyplot as plt\n",
    "from scipy.fftpack import fft\n",
    "import statsmodels.api as sm\n",
    "import datetime\n",
    "\n",
    "%matplotlib inline"
   ]
  },
  {
   "cell_type": "markdown",
   "metadata": {
    "collapsed": true
   },
   "source": [
    "\n",
    "### Data Gathering (From First Step Wrangling in F1)\n",
    "#### Loading data in Pandas Dataframe"
   ]
  },
  {
   "cell_type": "code",
   "execution_count": null,
   "metadata": {},
   "outputs": [],
   "source": [
    "df_list = []\n",
    "df1 = pd.DataFrame()\n",
    "df2 = pd.DataFrame()\n",
    "df3 = pd.DataFrame()\n",
    "df4 = pd.DataFrame()\n",
    "df5 = pd.DataFrame()\n",
    "df6 = pd.DataFrame()\n",
    "\n",
    "def loadData():\n",
    "    global df1,df2,df3,df4,df5,df6\n",
    "    df1 = pd.read_csv(r\"data\\Analog\\dataSP.csv\")\n",
    "    df2 = pd.read_csv(r\"data\\Analog\\data14.csv\")\n",
    "    df3 = pd.read_csv(r\"data\\Analog\\data15.csv\")\n",
    "    df4 = pd.read_csv(r\"data\\Analog\\data16.csv\")\n",
    "    df5 = pd.read_csv(r\"data\\Analog\\data17.csv\")\n",
    "    df6 = pd.read_csv(r\"data\\Analog\\data18.csv\")\n",
    "    return \n",
    "\n",
    "loadData()\n",
    "df_list.append(df1)\n",
    "df_list.append(df2)\n",
    "df_list.append(df3)\n",
    "df_list.append(df4)\n",
    "df_list.append(df5)\n",
    "df_list.append(df6)\n",
    "df4.info()"
   ]
  },
  {
   "cell_type": "code",
   "execution_count": null,
   "metadata": {},
   "outputs": [],
   "source": [
    "df1.head()"
   ]
  },
  {
   "cell_type": "code",
   "execution_count": null,
   "metadata": {
    "collapsed": true
   },
   "outputs": [],
   "source": []
  },
  {
   "cell_type": "code",
   "execution_count": null,
   "metadata": {
    "collapsed": true
   },
   "outputs": [],
   "source": [
    "date1 = pd.to_datetime(df1.datetime)\n",
    "date2 = pd.to_datetime(df2.datetime)\n",
    "date3 = pd.to_datetime(df3.datetime)\n",
    "date4 = pd.to_datetime(df4.datetime)\n",
    "date5 = pd.to_datetime(df5.datetime)\n",
    "date6 = pd.to_datetime(df6.datetime)"
   ]
  },
  {
   "cell_type": "code",
   "execution_count": null,
   "metadata": {
    "collapsed": true
   },
   "outputs": [],
   "source": [
    "### Sorting w.r.t to time"
   ]
  },
  {
   "cell_type": "markdown",
   "metadata": {},
   "source": [
    "### Assessing \n",
    "#### 1. Checking order of Data, as per datetime"
   ]
  },
  {
   "cell_type": "code",
   "execution_count": null,
   "metadata": {
    "scrolled": true
   },
   "outputs": [],
   "source": [
    "plt.rcParams['figure.figsize'] = [16,24]\n",
    "plt.subplot(6,1,1)\n",
    "plt.plot(df1.index, date1, 'g.', markersize = 1, linewidth = 1);\n",
    "\n",
    "plt.subplot(6,1,2)\n",
    "plt.plot(df2.index, date2, 'g.', markersize = 1, linewidth = 1);\n",
    "\n",
    "plt.subplot(6,1,3)\n",
    "plt.plot(df3.index, date3, 'g.', markersize = 1, linewidth = 1);\n",
    "\n",
    "plt.subplot(6,1,4)\n",
    "plt.plot(df4.index, date4, 'g.', markersize = 1, linewidth = 1);\n",
    "\n",
    "plt.subplot(6,1,5)\n",
    "plt.plot(df5.index, date5, 'g.', markersize = 1, linewidth = 1);\n",
    "\n",
    "plt.subplot(6,1,6)\n",
    "plt.plot(df6.index, date6, 'g.', markersize = 1, linewidth = 1);\n",
    "\n"
   ]
  },
  {
   "cell_type": "markdown",
   "metadata": {},
   "source": [
    "### Assessing \n",
    "#### 2. Plotting Fuel voltage vs Datetime"
   ]
  },
  {
   "cell_type": "code",
   "execution_count": null,
   "metadata": {
    "scrolled": true
   },
   "outputs": [],
   "source": [
    "plt.rcParams['figure.figsize'] = [16,24]\n",
    "plt.subplot(6,1,1)\n",
    "plt.plot(date1, df1.fuelVoltage, 'g.', markersize = 2, linewidth = 1);\n",
    "\n",
    "plt.subplot(6,1,2)\n",
    "plt.plot(date2, df2.fuelVoltage, 'g.', markersize = 2, linewidth = 1);\n",
    "\n",
    "plt.subplot(6,1,3)\n",
    "plt.plot(date3, df3.fuelVoltage, 'g.', markersize = 2, linewidth = 1);\n",
    "\n",
    "plt.subplot(6,1,4)\n",
    "plt.plot(date4, df4.fuelVoltage, 'g.', markersize = 2, linewidth = 1);\n",
    "\n",
    "plt.subplot(6,1,5)\n",
    "plt.plot(date5, df5.fuelVoltage, 'g.', markersize = 2, linewidth = 1);\n",
    "\n",
    "plt.subplot(6,1,6)\n",
    "plt.plot(date6, df6.fuelVoltage, 'g.', markersize = 2, linewidth = 1);\n",
    "\n"
   ]
  },
  {
   "cell_type": "code",
   "execution_count": null,
   "metadata": {
    "collapsed": true
   },
   "outputs": [],
   "source": []
  },
  {
   "cell_type": "code",
   "execution_count": null,
   "metadata": {
    "collapsed": true
   },
   "outputs": [],
   "source": []
  },
  {
   "cell_type": "markdown",
   "metadata": {},
   "source": [
    "### Assessing \n",
    "#### 3. Plotting Cumulative Distance vs time"
   ]
  },
  {
   "cell_type": "code",
   "execution_count": null,
   "metadata": {
    "scrolled": true
   },
   "outputs": [],
   "source": [
    "plt.rcParams['figure.figsize'] = [16,24]\n",
    "ctr = 1\n",
    "for df in df_list:\n",
    "    plt.subplot(6,1,ctr)\n",
    "    plt.plot(pd.to_datetime(df.datetime),df.distance,  'g.', markersize = 1, linewidth = 1);\n",
    "    ctr +=1\n",
    "\n",
    "\n"
   ]
  },
  {
   "cell_type": "code",
   "execution_count": null,
   "metadata": {
    "collapsed": true
   },
   "outputs": [],
   "source": []
  },
  {
   "cell_type": "code",
   "execution_count": null,
   "metadata": {
    "collapsed": true
   },
   "outputs": [],
   "source": []
  },
  {
   "cell_type": "code",
   "execution_count": null,
   "metadata": {},
   "outputs": [],
   "source": [
    "loadData()"
   ]
  },
  {
   "cell_type": "markdown",
   "metadata": {},
   "source": [
    "### Data Cleaning"
   ]
  },
  {
   "cell_type": "markdown",
   "metadata": {},
   "source": [
    "#### 1. Setting Datetime datatype for all datasets, depending upon type of date format written"
   ]
  },
  {
   "cell_type": "code",
   "execution_count": null,
   "metadata": {
    "collapsed": true
   },
   "outputs": [],
   "source": [
    "\n",
    "\n",
    "def formatDate():\n",
    "    global df1,df2,df3,df4,df5,df6 \n",
    "    df1.datetime = df1.datetime.apply(lambda x: datetime.datetime.strptime(str(x), \"%Y-%m-%d %H:%M:%S\") )\n",
    "    df2.datetime = df2.datetime.apply(lambda x: datetime.datetime.strptime(str(x), \"%Y-%m-%d %H:%M:%S\") )\n",
    "    df3.datetime = df3.datetime.apply(lambda x: datetime.datetime.strptime(str(x), \"%Y-%m-%d %H:%M:%S\") )\n",
    "    df4.datetime = df4.datetime.apply(lambda x: datetime.datetime.strptime(str(x), \"%Y-%m-%d %H:%M:%S\") )\n",
    "    df5.datetime = df5.datetime.apply(lambda x: datetime.datetime.strptime(str(x), \"%Y-%m-%d %H:%M:%S\") )\n",
    "    df6.datetime = df6.datetime.apply(lambda x: datetime.datetime.strptime(str(x), \"%Y-%m-%d %H:%M:%S\") )\n",
    "\n",
    "formatDate()\n",
    "\n"
   ]
  },
  {
   "cell_type": "markdown",
   "metadata": {
    "collapsed": true
   },
   "source": [
    "#### 2. Sorting data as per DATETIME"
   ]
  },
  {
   "cell_type": "code",
   "execution_count": null,
   "metadata": {
    "collapsed": true
   },
   "outputs": [],
   "source": [
    "def sortDate():\n",
    "    global df1,df2,df3,df4,df5,df6 \n",
    "    df1 = df1.sort_values(['datetime'], ascending= True)\n",
    "    df2 = df2.sort_values(['datetime'], ascending= True)\n",
    "    df3 = df3.sort_values(['datetime'], ascending= True)\n",
    "    df4 = df1.sort_values(['datetime'], ascending= True)\n",
    "    df5 = df2.sort_values(['datetime'], ascending= True)\n",
    "    df6 = df3.sort_values(['datetime'], ascending= True)\n",
    "\n",
    "sortDate()"
   ]
  },
  {
   "cell_type": "markdown",
   "metadata": {},
   "source": [
    "#### 3. Removing Outliars"
   ]
  },
  {
   "cell_type": "code",
   "execution_count": null,
   "metadata": {},
   "outputs": [],
   "source": [
    "def checkDate_outliar(df):\n",
    "    timeDiff = df.datetime.shift(-1) - df.datetime\n",
    "    try:\n",
    "        lastIndex = timeDiff[timeDiff > pd.Timedelta('2 day')].index[-1] \n",
    "    except:\n",
    "        lastIndex = -1\n",
    "    print(lastIndex)\n",
    "    return (lastIndex +1)\n",
    "\n",
    "\n",
    "\n",
    "\n",
    "def removeOutliar():\n",
    "    global df1,df2,df3,df4,df5,df6\n",
    "       \n",
    "    df1 = df1[df1['distance']>=0]\n",
    "    ## Removing Y-outliars\n",
    "    df1 = df1[abs(df1.fuelVoltage - df1.fuelVoltage.mean()) < 3*df1.fuelVoltage.std()]\n",
    "    df1 = df1.reset_index(drop = True)\n",
    "    ## Removing Date_outliars\n",
    "    startDate = checkDate_outliar(df1)\n",
    "    df1 = df1[startDate:]\n",
    "    \n",
    "    df2 = df2[df2['distance']>=0]\n",
    "    ## Removing Y-outliars\n",
    "    df2 = df2[abs(df2.fuelVoltage - df2.fuelVoltage.mean()) < 3*df2.fuelVoltage.std()]\n",
    "    df2 = df2.reset_index(drop = True)\n",
    "    ## Removing Date_outliars\n",
    "    startDate = checkDate_outliar(df2)\n",
    "    df2 = df2[startDate:]\n",
    "    \n",
    "    df3 = df3[df3['distance']>=0]\n",
    "    ## Removing Y-outliars\n",
    "    df3 = df3[abs(df3.fuelVoltage - df3.fuelVoltage.mean()) < 3*df3.fuelVoltage.std()]\n",
    "    df3 = df3.reset_index(drop = True)\n",
    "    ## Removing Date_outliars\n",
    "    startDate = checkDate_outliar(df3)\n",
    "    df3 = df3[startDate:]\n",
    "    \n",
    "    df4 = df4[df4['distance']>=0]\n",
    "    df4 = df4[abs(df4.fuelVoltage - df4.fuelVoltage.mean()) < 3*df4.fuelVoltage.std()]\n",
    "    df4 = df4.reset_index(drop = True)\n",
    "    startDate = checkDate_outliar(df4)\n",
    "    df4 = df4[startDate:]\n",
    "    \n",
    "    df5 = df5[df5['distance']>=0]\n",
    "    df5 = df5[abs(df5.fuelVoltage - df5.fuelVoltage.mean()) < 3*df5.fuelVoltage.std()]\n",
    "    df5 = df5.reset_index(drop = True)\n",
    "    startDate = checkDate_outliar(df5)\n",
    "    df5 = df5[startDate:]\n",
    "    \n",
    "    df6 = df6[df6['distance']>=0]\n",
    "    df6 = df6[abs(df6.fuelVoltage - df6.fuelVoltage.mean()) < 3*df6.fuelVoltage.std()]\n",
    "    df6 = df6.reset_index(drop = True)\n",
    "    \n",
    "    startDate = checkDate_outliar(df6)\n",
    "    df6 = df6[startDate:]\n",
    "    \n",
    "    \n",
    "removeOutliar()"
   ]
  },
  {
   "cell_type": "code",
   "execution_count": null,
   "metadata": {
    "collapsed": true
   },
   "outputs": [],
   "source": []
  },
  {
   "cell_type": "code",
   "execution_count": null,
   "metadata": {},
   "outputs": [],
   "source": [
    "a = df5.datetime.shift(-1) - df5.datetime\n",
    "a[a > pd.Timedelta('2 day')]"
   ]
  },
  {
   "cell_type": "markdown",
   "metadata": {},
   "source": [
    "#### 4. Resetting Index"
   ]
  },
  {
   "cell_type": "code",
   "execution_count": null,
   "metadata": {
    "collapsed": true
   },
   "outputs": [],
   "source": [
    "def resetIndex():\n",
    "    global df1,df2,df3,df4,df5,df6\n",
    "    df1 = df1.reset_index(drop=True)\n",
    "    df2 = df2.reset_index(drop=True)\n",
    "    df3 = df3.reset_index(drop=True)\n",
    "    df4 = df4.reset_index(drop=True)\n",
    "    df5 = df5.reset_index(drop=True)\n",
    "    df6 = df6.reset_index(drop=True)\n",
    "\n",
    "    \n",
    "resetIndex()"
   ]
  },
  {
   "cell_type": "code",
   "execution_count": null,
   "metadata": {
    "collapsed": true
   },
   "outputs": [],
   "source": [
    "d1M = df1.distance.max()\n",
    "d2M = df2.distance.max()\n",
    "d3M = df3.distance.max()\n",
    "d4M = df4.distance.max()\n",
    "d5M = df5.distance.max()\n",
    "d6M = df6.distance.max()\n"
   ]
  },
  {
   "cell_type": "markdown",
   "metadata": {},
   "source": [
    "#### 5. Normalising Data"
   ]
  },
  {
   "cell_type": "code",
   "execution_count": null,
   "metadata": {
    "collapsed": true
   },
   "outputs": [],
   "source": [
    "def normalData():\n",
    "    global df1,df2,df3,df4,df5,df6\n",
    "    \n",
    "    def norm(df):\n",
    "        df.distance= df.distance/df.distance.max()\n",
    "        df.fuelVoltage = df.fuelVoltage/df.fuelVoltage.max()\n",
    "        return df\n",
    "\n",
    "    df1 = norm(df1)\n",
    "    df2 = norm(df2)\n",
    "    df3 = norm(df3)\n",
    "    df4 = norm(df4)\n",
    "    df5 = norm(df5)\n",
    "    df6 = norm(df6)\n",
    "\n",
    "\n",
    "normalData()"
   ]
  },
  {
   "cell_type": "code",
   "execution_count": null,
   "metadata": {},
   "outputs": [],
   "source": [
    "datetime.datetime(2016,5,1).month"
   ]
  },
  {
   "cell_type": "code",
   "execution_count": null,
   "metadata": {
    "collapsed": true
   },
   "outputs": [],
   "source": []
  },
  {
   "cell_type": "code",
   "execution_count": null,
   "metadata": {
    "scrolled": true
   },
   "outputs": [],
   "source": [
    "plt.rcParams['figure.figsize'] = [16,24]\n",
    "plt.subplot(6,1,1)\n",
    "plt.plot(df1.index, df1.datetime, 'g.', markersize = 1, linewidth = 1);\n",
    "\n",
    "plt.subplot(6,1,2)\n",
    "plt.plot(df2.index, df2.datetime, 'g.', markersize = 1, linewidth = 1);\n",
    "\n",
    "plt.subplot(6,1,3)\n",
    "plt.plot(df3.index, df3.datetime, 'g.', markersize = 1, linewidth = 1);\n",
    "\n",
    "plt.subplot(6,1,4)\n",
    "plt.plot(df4.index, df4.datetime, 'g.', markersize = 1, linewidth = 1);\n",
    "\n",
    "plt.subplot(6,1,5)\n",
    "plt.plot(df5.index, df5.datetime, 'g.', markersize = 1, linewidth = 1);\n",
    "\n",
    "plt.subplot(6,1,6)\n",
    "plt.plot(df6.index, df6.datetime, 'g.', markersize = 1, linewidth = 1);\n",
    "\n"
   ]
  },
  {
   "cell_type": "code",
   "execution_count": null,
   "metadata": {
    "collapsed": true
   },
   "outputs": [],
   "source": []
  },
  {
   "cell_type": "code",
   "execution_count": null,
   "metadata": {
    "scrolled": true
   },
   "outputs": [],
   "source": [
    "plt.rcParams['figure.figsize'] = [16,24]\n",
    "plt.subplot(6,1,1)\n",
    "plt.plot(df1.index, df1.distance, 'g-', markersize = 2, linewidth = 1);\n",
    "plt.title(\"Cumulative Distance vs Time\", fontsize = 15)\n",
    "\n",
    "plt.subplot(6,1,2)\n",
    "plt.plot(df2.index, df2.distance, 'g-', markersize = 2, linewidth = 1);\n",
    "\n",
    "plt.subplot(6,1,3)\n",
    "plt.plot(df3.index, df3.distance, 'g-', markersize = 2, linewidth = 1);\n",
    "\n",
    "plt.subplot(6,1,4)\n",
    "plt.plot(df4.index, df4.distance, 'g-', markersize = 2, linewidth = 1);\n",
    "\n",
    "plt.subplot(6,1,5)\n",
    "plt.plot(df5.index, df5.distance, 'g-', markersize = 2, linewidth = 1);\n",
    "\n",
    "plt.subplot(6,1,6)\n",
    "plt.plot(df6.index, df6.distance, 'g-', markersize = 2, linewidth = 1);\n"
   ]
  },
  {
   "cell_type": "code",
   "execution_count": null,
   "metadata": {
    "collapsed": true
   },
   "outputs": [],
   "source": []
  },
  {
   "cell_type": "code",
   "execution_count": null,
   "metadata": {
    "scrolled": false
   },
   "outputs": [],
   "source": [
    "plt.rcParams['figure.figsize'] = [16,24]\n",
    "plt.subplot(6,1,1)\n",
    "plt.plot(df1.index, df1.fuelVoltage, 'g.', markersize = 2, linewidth = 1);\n",
    "plt.title(\"FuelLevel vs Time\", fontsize = 15)\n",
    "# plt.ylim(0.90,1.01)\n",
    "# plt.xlim(0,80000)\n",
    "\n",
    "plt.subplot(6,1,2)\n",
    "plt.plot(df2.index, df2.fuelVoltage, 'g.', markersize = 2, linewidth = 1);\n",
    "\n",
    "plt.subplot(6,1,3)\n",
    "plt.plot(df3.index, df3.fuelVoltage, 'g.', markersize = 2, linewidth = 1);\n",
    "\n",
    "plt.subplot(6,1,4)\n",
    "plt.plot(df4.index, df4.fuelVoltage, 'g.', markersize = 2, linewidth = 1);\n",
    "\n",
    "plt.subplot(6,1,5)\n",
    "plt.plot(df5.index, df5.fuelVoltage, 'g.', markersize = 2, linewidth = 1);\n",
    "\n",
    "plt.subplot(6,1,6)\n",
    "plt.plot(df6.index, df6.fuelVoltage, 'g.', markersize = 2, linewidth = 1);\n",
    "\n",
    "plt.savefig(\"Conti/Level1.png\")\n"
   ]
  },
  {
   "cell_type": "code",
   "execution_count": null,
   "metadata": {
    "collapsed": true
   },
   "outputs": [],
   "source": []
  },
  {
   "cell_type": "markdown",
   "metadata": {},
   "source": [
    "### Removing 'device_state' = OFF rows"
   ]
  },
  {
   "cell_type": "code",
   "execution_count": null,
   "metadata": {
    "collapsed": true
   },
   "outputs": [],
   "source": [
    "df1['dev_state'] = df1['dev_state'].apply(lambda x: int(x))\n",
    "df2['dev_state'] = df2['dev_state'].apply(lambda x: int(x))\n",
    "df3['dev_state'] = df3['dev_state'].apply(lambda x: int(x))\n",
    "df4['dev_state'] = df4['dev_state'].apply(lambda x: int(x))\n",
    "df5['dev_state'] = df5['dev_state'].apply(lambda x: int(x))\n",
    "df6['dev_state'] = df6['dev_state'].apply(lambda x: int(x))\n",
    "\n",
    "       \n",
    "dff1 = df1[df1['dev_state'] ==1]\n",
    "dff2 = df2[df2['dev_state'] ==1]\n",
    "dff3 = df3[df3['dev_state'] ==1]\n",
    "dff4 = df4[df4['dev_state'] ==1]\n",
    "dff5 = df5[df5['dev_state'] ==1]\n",
    "dff6 = df6[df6['dev_state'] ==1]\n"
   ]
  },
  {
   "cell_type": "code",
   "execution_count": null,
   "metadata": {
    "collapsed": true
   },
   "outputs": [],
   "source": [
    "dff1.head()\n",
    "dff1 = dff1.reset_index(drop=True)\n",
    "dff2 = dff2.reset_index(drop=True)\n",
    "dff3 = dff3.reset_index(drop=True)\n",
    "dff4 = dff4.reset_index(drop=True)\n",
    "dff5 = dff5.reset_index(drop=True)\n",
    "dff6 = dff6.reset_index(drop=True)\n"
   ]
  },
  {
   "cell_type": "markdown",
   "metadata": {},
   "source": [
    "### Plotting ON State Data"
   ]
  },
  {
   "cell_type": "code",
   "execution_count": null,
   "metadata": {
    "scrolled": false
   },
   "outputs": [],
   "source": [
    "plt.rcParams['figure.figsize'] = [16,24]\n",
    "plt.subplot(6,1,1)\n",
    "plt.plot(dff1.index, dff1.fuelVoltage, 'g.', markersize = 2, linewidth = 1);\n",
    "plt.title(\"Cumulative Distance vs Time\", fontsize = 15)\n",
    "\n",
    "plt.subplot(6,1,2)\n",
    "plt.plot(dff2.index, dff2.fuelVoltage, 'g.', markersize = 2, linewidth = 1);\n",
    "\n",
    "plt.subplot(6,1,3)\n",
    "plt.plot(dff3.index, dff3.fuelVoltage, 'g.', markersize = 2, linewidth = 1);\n",
    "\n",
    "plt.subplot(6,1,4)\n",
    "plt.plot(dff4.index, dff4.fuelVoltage, 'g.', markersize = 2, linewidth = 1);\n",
    "\n",
    "plt.subplot(6,1,5)\n",
    "plt.plot(dff5.index, dff5.fuelVoltage, 'g.', markersize = 2, linewidth = 1);\n",
    "\n",
    "plt.subplot(6,1,6)\n",
    "plt.plot(dff6.index, dff6.fuelVoltage, 'g.', markersize = 2, linewidth = 1);\n",
    "\n",
    "\n",
    "plt.savefig('Conti/Level2.2.png')\n"
   ]
  },
  {
   "cell_type": "code",
   "execution_count": null,
   "metadata": {},
   "outputs": [],
   "source": [
    "dff1.fuelVoltage.max(),dff2.fuelVoltage.max(),dff3.fuelVoltage.max(),dff4.fuelVoltage.max(),dff5.fuelVoltage.max(),dff6.fuelVoltage.max()"
   ]
  },
  {
   "cell_type": "code",
   "execution_count": null,
   "metadata": {
    "scrolled": true
   },
   "outputs": [],
   "source": [
    "a = dff1['fuelVoltage']\n",
    "a = pd.value_counts(dff1['fuelVoltage'].values, sort=True)\n",
    "\n",
    "b = np.array([dff1[dff1.fuelVoltage == value].index.tolist() for value in a])\n",
    "plt.boxplot(dff1.fuelVoltage);"
   ]
  },
  {
   "cell_type": "code",
   "execution_count": null,
   "metadata": {
    "scrolled": true
   },
   "outputs": [],
   "source": [
    "plt.hist(df1.datetime, bins=200);"
   ]
  },
  {
   "cell_type": "code",
   "execution_count": null,
   "metadata": {
    "scrolled": true
   },
   "outputs": [],
   "source": [
    "dff2 = dff5.copy()\n",
    "sd = dff2.fuelVoltage.std()\n",
    "dfff2 = dff2[abs(dff2.fuelVoltage - dff2.fuelVoltage.mean()) < 3*dff2.fuelVoltage.std()]\n",
    "plt.rcParams['figure.figsize'] = [16,4]\n",
    "plt.plot(dfff2.index,dfff2.fuelVoltage,'g.',markersize = 2);\n",
    "#plt.ylim(0,600)\n"
   ]
  },
  {
   "cell_type": "code",
   "execution_count": null,
   "metadata": {},
   "outputs": [],
   "source": [
    "len(dfff2)/len(dff2)"
   ]
  },
  {
   "cell_type": "code",
   "execution_count": null,
   "metadata": {},
   "outputs": [],
   "source": [
    "sd"
   ]
  },
  {
   "cell_type": "code",
   "execution_count": null,
   "metadata": {},
   "outputs": [],
   "source": [
    "dff1.fuelVoltage.mean()"
   ]
  },
  {
   "cell_type": "code",
   "execution_count": null,
   "metadata": {},
   "outputs": [],
   "source": [
    "len(dff1)"
   ]
  },
  {
   "cell_type": "code",
   "execution_count": null,
   "metadata": {
    "collapsed": true
   },
   "outputs": [],
   "source": []
  },
  {
   "cell_type": "markdown",
   "metadata": {},
   "source": [
    "### Removing probable errorenous data  and Plotting"
   ]
  },
  {
   "cell_type": "code",
   "execution_count": null,
   "metadata": {
    "scrolled": false
   },
   "outputs": [],
   "source": [
    "def rem_ErrData(dff, nd, f = ''):   \n",
    "    x = np.array(dff.index)\n",
    "    y = np.array(dff.fuelVoltage)\n",
    "\n",
    "    from sympy.geometry import Point\n",
    "    i = 0\n",
    "    dd00000 = [0, 0, 0, 0, 0, 0]\n",
    "    dd0000 = [0, 0, 0, 0, 0]\n",
    "    dd000 = [0, 0, 0, 0]\n",
    "    dd00 = [0, 0, 0]\n",
    "    dd0 = [0, 0]\n",
    "    dd1 = [0]\n",
    "\n",
    "    dd2 = [y[1] - y[0]]\n",
    "    dd3 = [y[2] - y[0]]\n",
    "    dd4 = [y[3] - y[0]]\n",
    "    dd5 = [y[4] - y[0]]\n",
    "    dd6 = [y[5] - y[0]]\n",
    "    dd7 = [y[6] - y[0]]\n",
    "\n",
    "    for i in range(1, len(x)):\n",
    "        try:\n",
    "            d00000 = abs(y[i] - y[i - 6])\n",
    "            d0000 = abs(y[i] - y[i - 5])\n",
    "            d000 = abs(y[i] - y[i - 4])\n",
    "            d00 = abs(y[i] - y[i - 3])\n",
    "            d0 = abs(y[i] - y[i - 2])\n",
    "            d1 = abs(y[i] - y[i - 1])\n",
    "            d2 = abs(y[i + 1] - y[i])\n",
    "            d3 = abs(y[i + 2] - y[i])\n",
    "            d4 = abs(y[i + 3] - y[i])\n",
    "            d5 = abs(y[i + 4] - y[i])\n",
    "            d6 = abs(y[i + 5] - y[i])\n",
    "            d7 = abs(y[i + 6] - y[i])\n",
    "        except:\n",
    "            continue\n",
    "\n",
    "        dd00000.append(d00000)\n",
    "        dd0000.append(d0000)\n",
    "        dd000.append(d000)\n",
    "        dd00.append(d00)\n",
    "        dd0.append(d0)\n",
    "        dd1.append(d1)\n",
    "        dd2.append(d2)\n",
    "        dd3.append(d3)\n",
    "        dd4.append(d4)\n",
    "        dd5.append(d5)\n",
    "        dd6.append(d6)\n",
    "        dd7.append(d7)\n",
    "\n",
    "        # print (i)\n",
    "\n",
    "        # dd1.append(0)\n",
    "        # dd2.append(0)\n",
    "    dff['dd00000'] = pd.Series(dd00000)\n",
    "    dff['dd0000'] = pd.Series(dd0000)\n",
    "    dff['dd000'] = pd.Series(dd000)\n",
    "    dff['dd00'] = pd.Series(dd00)\n",
    "    dff['dd0'] = pd.Series(dd0)\n",
    "    dff['dd1'] = pd.Series(dd1)\n",
    "    dff['dd2'] = pd.Series(dd2)\n",
    "    dff['dd3'] = pd.Series(dd3)\n",
    "    dff['dd4'] = pd.Series(dd4)\n",
    "    dff['dd5'] = pd.Series(dd5)\n",
    "    dff['dd6'] = pd.Series(dd6)\n",
    "    dff['dd7'] = pd.Series(dd7)\n",
    "\n",
    "    p = dff['dd1']\n",
    "    ## Removing Error Data\n",
    "    \n",
    "    \n",
    "    dff1 = dff[(dff.dd1 <= nd) & (dff.dd2 <= nd) & (dff.dd0 <= 2*nd) & (dff.dd3 <= 2*nd) &\n",
    "           (dff.dd00 <= 3*nd) & (dff.dd4 <=3*nd) & (dff.dd000 <= 4*nd) & (dff.dd5 <= 4*nd) &\n",
    "           (dff.dd0000 <= 5*nd) & (dff.dd6 <= 5*nd) & (dff.dd00000 <= 6*nd) & (dff.dd7 <= 6*nd)]\n",
    "    dff1 = dff1.reset_index(drop=True)  ## Reseting index\n",
    "\n",
    "#     plt.rcParams['figure.figsize'] = [16, 4]\n",
    "#     plt.plot(p, 'b.')\n",
    "#     plt.title('Histogram - Consecutive Fuel Difference ', fontsize=15)\n",
    "#     plt.ylim(0, 0.05)\n",
    "    #\n",
    "    # #     plt.ylim(0.02,1)\n",
    "    # #     plt.savefig(\"test.png\")\n",
    "    plt.rcParams['figure.figsize'] = [16, 4]\n",
    "    plt.plot(dff1.index[:], dff1.fuelVoltage[:], 'g.', markersize=2, linewidth=1);\n",
    "    #plt.ylim(0.95, 1)\n",
    "    #plt.xlim(0,50000)\n",
    "   \n",
    "    return dff1\n",
    "\n",
    "df1l6 =rem_ErrData(dff1, nd = 0.02);"
   ]
  },
  {
   "cell_type": "code",
   "execution_count": null,
   "metadata": {
    "collapsed": true
   },
   "outputs": [],
   "source": []
  },
  {
   "cell_type": "code",
   "execution_count": null,
   "metadata": {},
   "outputs": [],
   "source": [
    "x = pd.Series([1,2,3,4])\n",
    "y = pd.Series([2,1,3,2])\n",
    "x>y"
   ]
  },
  {
   "cell_type": "code",
   "execution_count": null,
   "metadata": {},
   "outputs": [],
   "source": [
    "sum(x>y)\n",
    "#distDf = 0\n",
    "(sum(distDf.dback)< 2)"
   ]
  },
  {
   "cell_type": "code",
   "execution_count": null,
   "metadata": {
    "collapsed": true
   },
   "outputs": [],
   "source": []
  },
  {
   "cell_type": "code",
   "execution_count": null,
   "metadata": {
    "scrolled": true
   },
   "outputs": [],
   "source": [
    "def rem_ErrData2(dff, nd = 0.02): \n",
    "    global distDf\n",
    "    x = np.array(dff.index)\n",
    "    y = np.array(dff.fuelVoltage)\n",
    "\n",
    "    dback_arr =[]\n",
    "    dforward_arr = []\n",
    "\n",
    "    for i in range(len(x)):\n",
    "        try:\n",
    "            dback = abs(y[i-5:i+1] - y[i-6:i])\n",
    "            dforward = abs(y[i:i+6] - y[i+1:i+7])\n",
    "            #print(dforward)\n",
    "            #print((dback))\n",
    "            \n",
    "        except:\n",
    "            print(\"***\")\n",
    "            dback = np.array([0,0,0,0,0,0])\n",
    "            dforward = np.array([0,0,0,0,0,0])\n",
    "        \n",
    "        if len(dback)==0:\n",
    "            dback = np.array([0,0,0,0,0,0])\n",
    "            \n",
    "        if len(dforward)==0:\n",
    "            dforward = np.array([0,0,0,0,0,0])\n",
    "            \n",
    "        dback_arr.append(dback)\n",
    "        dforward_arr.append(dforward)\n",
    "    \n",
    "    print(len(dff))\n",
    "    print(len(dback_arr))\n",
    "    distDf = pd.DataFrame()\n",
    "    distDf['dback'] = pd.Series(dback_arr)\n",
    "    distDf['dforward'] = pd.Series(dforward_arr)\n",
    "    distDf.index = dff.index\n",
    "\n",
    "    ## Removing Error Data\n",
    "    print(distDf.dback[47])\n",
    "    distDf = distDf[(sum(distDf.dback <= 0.02) == 6) and (sum(distDf.dforward <= 0.02) == 6)]\n",
    "    dff1 = dff1[distDf.index]\n",
    "    dff1 = dff1.reset_index(drop=True)  ## Reseting index\n",
    "\n",
    "#     plt.rcParams['figure.figsize'] = [16, 4]\n",
    "#     plt.plot(p, 'b.')\n",
    "#     plt.title('Histogram - Consecutive Fuel Difference ', fontsize=15)\n",
    "#     plt.ylim(0, 0.05)\n",
    "    #\n",
    "    # #     plt.ylim(0.02,1)\n",
    "    # #     plt.savefig(\"test.png\")\n",
    "    plt.rcParams['figure.figsize'] = [16, 4]\n",
    "    plt.plot(dff1.index[:], dff1.fuelVoltage[:], 'g.', markersize=2, linewidth=1);\n",
    "    plt.ylim(0, 1.1)\n",
    "   \n",
    "    return dff1\n",
    "\n",
    "df1l6 =rem_ErrData2(dff1,0.02);\n"
   ]
  },
  {
   "cell_type": "code",
   "execution_count": null,
   "metadata": {
    "collapsed": true
   },
   "outputs": [],
   "source": [
    "dis"
   ]
  },
  {
   "cell_type": "code",
   "execution_count": null,
   "metadata": {
    "collapsed": true
   },
   "outputs": [],
   "source": []
  },
  {
   "cell_type": "code",
   "execution_count": null,
   "metadata": {
    "collapsed": true
   },
   "outputs": [],
   "source": [
    "a = pd.Series([1,2,3,4])\n",
    "b = pd.Series([1,2,3,4])\n",
    "\n",
    "a-b"
   ]
  },
  {
   "cell_type": "code",
   "execution_count": null,
   "metadata": {
    "collapsed": true
   },
   "outputs": [],
   "source": [
    "a.append(pd.Series([5,6,2]))"
   ]
  },
  {
   "cell_type": "code",
   "execution_count": null,
   "metadata": {
    "collapsed": true
   },
   "outputs": [],
   "source": [
    "a"
   ]
  },
  {
   "cell_type": "code",
   "execution_count": null,
   "metadata": {},
   "outputs": [],
   "source": [
    "plt.rcParams['figure.figsize'] = [16,4]\n",
    "df1l6 =rem_ErrData(dff1,0.02);\n",
    "plt.plot(df1l6.index, df1l6.fuelVoltage,'g.', markersize = 1)\n",
    "#plt.ylim(0,1.05)"
   ]
  },
  {
   "cell_type": "code",
   "execution_count": null,
   "metadata": {},
   "outputs": [],
   "source": [
    "df1l62 =rem_ErrData(dff1,6);\n",
    "plt.rcParams['figure.figsize'] = [16,4]\n",
    "plt.plot(df1l6.index, df1l6.fuelVoltage,'g.', markersize = 1)\n",
    "#plt.ylim(0,1.05)\n",
    "#plt.xlim(19000,21500)"
   ]
  },
  {
   "cell_type": "code",
   "execution_count": null,
   "metadata": {
    "collapsed": true
   },
   "outputs": [],
   "source": []
  },
  {
   "cell_type": "code",
   "execution_count": null,
   "metadata": {
    "collapsed": true
   },
   "outputs": [],
   "source": []
  },
  {
   "cell_type": "code",
   "execution_count": null,
   "metadata": {},
   "outputs": [],
   "source": [
    "plt.hist(df1l6.dd1)\n",
    "#plt.ylim(0,10000)"
   ]
  },
  {
   "cell_type": "code",
   "execution_count": null,
   "metadata": {},
   "outputs": [],
   "source": [
    "df2l6 = rem_ErrData(dff2,nd=0.02);"
   ]
  },
  {
   "cell_type": "code",
   "execution_count": null,
   "metadata": {},
   "outputs": [],
   "source": [
    "df3l6 = rem_ErrData(dff3,nd=0.02);"
   ]
  },
  {
   "cell_type": "code",
   "execution_count": null,
   "metadata": {
    "scrolled": true
   },
   "outputs": [],
   "source": [
    "df4l6 = rem_ErrData(dff4,nd=0.02);\n"
   ]
  },
  {
   "cell_type": "code",
   "execution_count": null,
   "metadata": {},
   "outputs": [],
   "source": [
    "df5l6 = rem_ErrData(dff5,nd=0.02);"
   ]
  },
  {
   "cell_type": "code",
   "execution_count": null,
   "metadata": {},
   "outputs": [],
   "source": [
    "df6l6 = rem_ErrData(dff6,nd=0.02);"
   ]
  },
  {
   "cell_type": "code",
   "execution_count": null,
   "metadata": {
    "collapsed": true
   },
   "outputs": [],
   "source": []
  },
  {
   "cell_type": "code",
   "execution_count": null,
   "metadata": {},
   "outputs": [],
   "source": [
    "plt.rcParams['figure.figsize'] = [16,24]\n",
    "plt.subplot(6,1,1)\n",
    "plt.plot(df1l6.index, df1l6.fuelVoltage, 'g.', markersize = 2, linewidth = 1);\n",
    "plt.title(\"CleanedFuel data vs Time\", fontsize = 15)\n",
    "\n",
    "plt.subplot(6,1,2)\n",
    "plt.plot(df2l6.index, df2l6.fuelVoltage, 'g.', markersize = 2, linewidth = 1);\n",
    "\n",
    "plt.subplot(6,1,3)\n",
    "plt.plot(df3l6.index, df3l6.fuelVoltage, 'g.', markersize = 2, linewidth = 1);\n",
    "\n",
    "plt.subplot(6,1,4)\n",
    "plt.plot(df4l6.index, df4l6.fuelVoltage, 'g.', markersize = 2, linewidth = 1);\n",
    "\n",
    "plt.subplot(6,1,5)\n",
    "plt.plot(df5l6.index, df5l6.fuelVoltage, 'g.', markersize = 2, linewidth = 1);\n",
    "\n",
    "plt.subplot(6,1,6)\n",
    "plt.plot(df6l6.index, df6l6.fuelVoltage, 'g.', markersize = 2, linewidth = 1);\n",
    "\n",
    "\n",
    "plt.savefig('Conti/Level3.png')"
   ]
  },
  {
   "cell_type": "code",
   "execution_count": null,
   "metadata": {
    "collapsed": true
   },
   "outputs": [],
   "source": []
  },
  {
   "cell_type": "code",
   "execution_count": null,
   "metadata": {
    "collapsed": true
   },
   "outputs": [],
   "source": []
  },
  {
   "cell_type": "code",
   "execution_count": null,
   "metadata": {},
   "outputs": [],
   "source": [
    "a = pd.Series([2,3,4,5,6])\n",
    "a1 = a[[1,2]] \n",
    "a2 = a[[1,3]]\n",
    "a1 = a1.reset_index(drop=True)\n",
    "a2 = a2.reset_index(drop=True)\n",
    "a1-a2"
   ]
  },
  {
   "cell_type": "code",
   "execution_count": null,
   "metadata": {},
   "outputs": [],
   "source": [
    "df1.distance.max()"
   ]
  },
  {
   "cell_type": "markdown",
   "metadata": {
    "collapsed": true
   },
   "source": [
    "### Identifying probable datajump points"
   ]
  },
  {
   "cell_type": "code",
   "execution_count": null,
   "metadata": {
    "collapsed": true
   },
   "outputs": [],
   "source": [
    "###################################################\n",
    "## OLD Function for finding theft points\n",
    "\n",
    "def theft_point(dff, level = 0.05, logic = 1):   \n",
    "    x = np.array(dff.index)\n",
    "    y = np.array(dff.fuelVoltage)\n",
    "    \n",
    "    theft_pts = []\n",
    "    ctr = 0\n",
    "\n",
    "    from sympy.geometry import Point\n",
    "    i=0\n",
    "    dd1 = [0]\n",
    "\n",
    "    dd2 = [y[1]-y[0]]\n",
    "    for i in range(1,len(x)):   \n",
    "        try:\n",
    "#             d1 =abs(y[i+1] - y[i])\n",
    "#             d2 =abs(y[i+2] - y[i])\n",
    "#             d3 =abs(y[i+3] - y[i])\n",
    "#             d4 =abs(y[i+4] - y[i])\n",
    "#             d5 =abs(y[i+4] - y[i])\n",
    "            \n",
    "            d_forward = abs(y[i+1:i+15] -y[i])\n",
    "            d_backward = abs(y[i-21:i-1] -y[i])\n",
    "            #print (d_backward)\n",
    "        except:\n",
    "            print (\"**\")\n",
    "        #if (d1 >= 0.05) & (d2 >= 0.05)&(d3 >= 0.05)&(d4 >= 0.05)&(d5 >= 0.05)&(d5 >= 0.05):\n",
    "        if ((sum(d_forward>level) in list(range(15,20))) & (sum(d_forward<0.1) == 19)):\n",
    "            if (sum(d_backward<level) in list(range(15,21))):\n",
    "                \n",
    "                if logic==1: \n",
    "                    if (y[i+1] -y[i]) < 0 :\n",
    "                        theft_pts.append(dff.index[i])\n",
    "                        ctr +=1\n",
    "                        \n",
    "                if logic==0: \n",
    "                    if (y[i+1] -y[i]) > 0  :\n",
    "                        theft_pts.append(dff.index[i])\n",
    "                        ctr +=1\n",
    "                        print(theft_pts, ctr)\n",
    "        \n",
    "        if (ctr>=2):\n",
    "            if ((theft_pts[ctr-1] - theft_pts[ctr-2]) in list(range(1,6))) :\n",
    "                theft_pts.pop(ctr-2)\n",
    "                ctr -=1\n",
    "        #print (i)\n",
    "\n",
    "   # dd1.append(0)\n",
    "   # dd2.append(0)    \n",
    "    #dff['dd1'] = pd.Series(dd1)\n",
    "    #dff['dd2'] = pd.Series(dd2)\n",
    "    return theft_pts\n",
    "    "
   ]
  },
  {
   "cell_type": "code",
   "execution_count": null,
   "metadata": {
    "collapsed": true
   },
   "outputs": [],
   "source": []
  },
  {
   "cell_type": "code",
   "execution_count": null,
   "metadata": {
    "collapsed": true
   },
   "outputs": [],
   "source": []
  },
  {
   "cell_type": "code",
   "execution_count": null,
   "metadata": {
    "collapsed": true
   },
   "outputs": [],
   "source": [
    "##########################################################3\n",
    "## Modified function for finding fuel-jump points\n",
    "\n",
    "def theft_point2(dff, level = 0.05, logic = -1):   \n",
    "    x = np.array(dff.index)\n",
    "    y = np.array(dff.fuelVoltage)\n",
    "    \n",
    "    theft_pts = []\n",
    "    ctr = 0\n",
    "\n",
    "    from sympy.geometry import Point\n",
    "    i=0\n",
    "    dd1 = [0]\n",
    "\n",
    "    dd2 = [y[1]-y[0]]\n",
    "    for i in range(1,len(x)):   \n",
    "        try:\n",
    "#             d1 =abs(y[i+1] - y[i])\n",
    "#             d2 =abs(y[i+2] - y[i])\n",
    "#             d3 =abs(y[i+3] - y[i])\n",
    "#             d4 =abs(y[i+4] - y[i])\n",
    "#             d5 =abs(y[i+4] - y[i])\n",
    "            \n",
    "            d_forward = (y[i+1:i+15] -y[i])\n",
    "            d_backward = (y[i+1] - y[i-15:i])\n",
    "            #print (d_backward)\n",
    "        except:\n",
    "            print (\"**\")\n",
    "        #dd1.append(d1)\n",
    "        #dd2.append(d2)\n",
    "        #if (d1 >= 0.05) & (d2 >= 0.05)&(d3 >= 0.05)&(d4 >= 0.05)&(d5 >= 0.05)&(d5 >= 0.05):\n",
    "        if ((sum(d_forward < -1*level) in list(range(14,16)))):# & (sum(d_forward<0.1) == 19)):\n",
    "            if (sum(d_backward < -1*level) in list(range(14,16))):\n",
    "                \n",
    "                theft_pts.append(dff.index[i])\n",
    "                ctr +=1\n",
    "                #print(theft_pts, ctr)\n",
    "        \n",
    "        if (ctr>=2):\n",
    "            if ((theft_pts[ctr-1] - theft_pts[ctr-2]) in list(range(1,6))) :\n",
    "                theft_pts.pop(ctr-2)\n",
    "                ctr -=1\n",
    "        #print (i)\n",
    "\n",
    "   # dd1.append(0)\n",
    "   # dd2.append(0)    \n",
    "    #dff['dd1'] = pd.Series(dd1)\n",
    "    #dff['dd2'] = pd.Series(dd2)\n",
    "    print (len(theft_pts))\n",
    "    return theft_pts\n",
    "    "
   ]
  },
  {
   "cell_type": "code",
   "execution_count": null,
   "metadata": {},
   "outputs": [],
   "source": [
    "a = pd.Series([2,3,4,5])\n",
    "2-a"
   ]
  },
  {
   "cell_type": "code",
   "execution_count": null,
   "metadata": {
    "collapsed": true
   },
   "outputs": [],
   "source": []
  },
  {
   "cell_type": "code",
   "execution_count": null,
   "metadata": {
    "scrolled": true
   },
   "outputs": [],
   "source": [
    "theftpts1 = theft_point2(df1l6, level=0.01);\n",
    "#dfl4.to_csv(\"Test.csv\");\n"
   ]
  },
  {
   "cell_type": "code",
   "execution_count": null,
   "metadata": {},
   "outputs": [],
   "source": [
    "len(df1l6.datetime[theftpts1])"
   ]
  },
  {
   "cell_type": "markdown",
   "metadata": {
    "collapsed": true
   },
   "source": [
    "### Plotting Cleaned Data with Cumulative Distance (Normalised)"
   ]
  },
  {
   "cell_type": "code",
   "execution_count": null,
   "metadata": {
    "scrolled": false
   },
   "outputs": [],
   "source": [
    "plt.rcParams['figure.figsize'] = [16,8]\n",
    "plt.subplot(2,1,1)\n",
    "plt.plot(df1l6.index, df1l6.fuelVoltage, 'g.', markersize = 2, linewidth = 1);\n",
    "#plt.xlim(1500,3000)\n",
    "\n",
    "plt.subplot(2,1,2)\n",
    "plt.plot(df1l6.index, df1l6.fuelVoltage, 'g.', markersize = 2, linewidth = 1);\n",
    "plt.plot(df1l6.index, df1l6.distance, 'b-', markersize = 2, linewidth = 1);\n",
    "#plt.ylim(0.8,1)\n",
    "plt.xlim(3000,6500)\n",
    "plt.ylim(0.6,1)\n",
    "for pt in theftpts1:\n",
    "    plt.axvline(pt)"
   ]
  },
  {
   "cell_type": "code",
   "execution_count": null,
   "metadata": {
    "scrolled": true
   },
   "outputs": [],
   "source": [
    "df1l6[['fuelVoltage', 'distance','datetime']][28980:29050]"
   ]
  },
  {
   "cell_type": "code",
   "execution_count": null,
   "metadata": {
    "scrolled": true
   },
   "outputs": [],
   "source": [
    "theftpts2 = theft_point2(df2l6[:], level = 0.01);"
   ]
  },
  {
   "cell_type": "code",
   "execution_count": null,
   "metadata": {
    "collapsed": true
   },
   "outputs": [],
   "source": []
  },
  {
   "cell_type": "code",
   "execution_count": null,
   "metadata": {},
   "outputs": [],
   "source": [
    "df2l6 =  rem_ErrData(dff2,nd=0.02)"
   ]
  },
  {
   "cell_type": "code",
   "execution_count": null,
   "metadata": {
    "collapsed": true
   },
   "outputs": [],
   "source": []
  },
  {
   "cell_type": "code",
   "execution_count": null,
   "metadata": {},
   "outputs": [],
   "source": [
    "plt.rcParams['figure.figsize'] = [16,8]\n",
    "plt.subplot(2,1,1)\n",
    "plt.plot(df2l6.index, df2l6.fuelVoltage, 'g.', markersize = 2, linewidth = 1);\n",
    "\n",
    "plt.subplot(2,1,2)\n",
    "plt.plot(df2l6.index, df2l6.fuelVoltage, 'g.', markersize = 2, linewidth = 1);\n",
    "plt.plot(df2l6.index, df2l6.distance, 'b-', markersize = 2, linewidth = 1);\n",
    "plt.xlim(4800,5400)\n",
    "plt.ylim(0.7,1)\n",
    "for pt in theftpts2:\n",
    "    plt.axvline(pt)"
   ]
  },
  {
   "cell_type": "code",
   "execution_count": null,
   "metadata": {
    "collapsed": true
   },
   "outputs": [],
   "source": []
  },
  {
   "cell_type": "code",
   "execution_count": null,
   "metadata": {},
   "outputs": [],
   "source": [
    "theftpts3 = theft_point2(df3l6[:], level=0.01);"
   ]
  },
  {
   "cell_type": "code",
   "execution_count": null,
   "metadata": {},
   "outputs": [],
   "source": [
    "plt.rcParams['figure.figsize'] = [16,4]\n",
    "#plt.subplot(6,1,1)\n",
    "plt.plot(df3l6.index, df3l6.fuelVoltage, 'g.', markersize = 1, linewidth = 1);\n",
    "plt.plot(df3l6.index, df3l6.distance, 'b-', markersize = 1, linewidth = 1);\n",
    "plt.xlim(0,3600)\n",
    "for pt in theftpts3:\n",
    "    plt.axvline(pt)"
   ]
  },
  {
   "cell_type": "code",
   "execution_count": null,
   "metadata": {
    "collapsed": true
   },
   "outputs": [],
   "source": []
  },
  {
   "cell_type": "code",
   "execution_count": null,
   "metadata": {},
   "outputs": [],
   "source": [
    "theftpts4 = theft_point2(df4l6[:], 0.02);"
   ]
  },
  {
   "cell_type": "code",
   "execution_count": null,
   "metadata": {},
   "outputs": [],
   "source": [
    "theftpts5 = theft_point2(df5l6[:], 0.01);"
   ]
  },
  {
   "cell_type": "code",
   "execution_count": null,
   "metadata": {},
   "outputs": [],
   "source": [
    "theftpts6 = theft_point2(df6l6[:], 0.01);"
   ]
  },
  {
   "cell_type": "code",
   "execution_count": null,
   "metadata": {},
   "outputs": [],
   "source": [
    "plt.rcParams['figure.figsize'] = [16,4]\n",
    "#plt.subplot(6,1,1)\n",
    "plt.plot(df4l6.index, df4l6.fuelVoltage, 'g.', markersize = 1, linewidth = 1);\n",
    "plt.plot(df4l6.index, df4l6.distance, 'b-', markersize = 1, linewidth = 1);\n",
    "plt.xlim(21000,28000)\n",
    "for pt in theftpts4:\n",
    "    plt.axvline(pt)"
   ]
  },
  {
   "cell_type": "code",
   "execution_count": null,
   "metadata": {
    "collapsed": true
   },
   "outputs": [],
   "source": []
  },
  {
   "cell_type": "code",
   "execution_count": null,
   "metadata": {
    "scrolled": true
   },
   "outputs": [],
   "source": [
    "result_df1= pd.DataFrame()\n",
    "result_df1['theft_index'] = [df1l6.index[i] for i in theftpts1]\n",
    "result_df1['theft_time'] = [df1l6.datetime[i] for i in theftpts1]\n",
    "result_df1['fuel_jump'] = [(df1l6.fuelVoltage[i] - df1l6.fuelVoltage[i+1])*500 for i in theftpts1]\n",
    "result_df1['dist_jump(KM)'] = [(df1l6.distance[i+1] - df1l6.distance[i])*(.001)*d1M for i in theftpts1]\n",
    "result_df1['time_jump'] = [(df1l6.datetime[i+1] - df1l6.datetime[i]) for i in theftpts1]\n",
    "\n",
    "result_df1"
   ]
  },
  {
   "cell_type": "code",
   "execution_count": null,
   "metadata": {},
   "outputs": [],
   "source": [
    "plt.rcParams['figure.figsize'] = [16,4]\n",
    "#plt.subplot(6,1,1)\n",
    "plt.plot(df5l6.index, df5l6.fuelVoltage, 'g.', markersize = 1, linewidth = 1);\n",
    "plt.plot(df5l6.index, df5l6.distance, 'b-', markersize = 1, linewidth = 1);\n",
    "plt.xlim(10000,11000)\n",
    "plt.ylim(0.7,1)\n",
    "for pt in theftpts5:\n",
    "    plt.axvline(pt)"
   ]
  },
  {
   "cell_type": "code",
   "execution_count": null,
   "metadata": {
    "collapsed": true
   },
   "outputs": [],
   "source": []
  },
  {
   "cell_type": "code",
   "execution_count": null,
   "metadata": {},
   "outputs": [],
   "source": [
    "plt.rcParams['figure.figsize'] = [16,4]\n",
    "#plt.subplot(6,1,1)\n",
    "plt.plot(df6l6.index, df6l6.fuelVoltage, 'g.', markersize = 1, linewidth = 1);\n",
    "plt.plot(df6l6.index, df6l6.distance, 'b-', markersize = 1, linewidth = 1);\n",
    "plt.xlim(28000,28075)\n",
    "plt.ylim(0.4,0.6)\n",
    "for pt in theftpts6:\n",
    "    plt.axvline(pt)"
   ]
  },
  {
   "cell_type": "code",
   "execution_count": null,
   "metadata": {
    "collapsed": true
   },
   "outputs": [],
   "source": []
  },
  {
   "cell_type": "markdown",
   "metadata": {
    "collapsed": true
   },
   "source": [
    "### Predicting Missing Values \n",
    "##### Predicting missing data in the final cleaned data when compared to initial fuel dataset "
   ]
  },
  {
   "cell_type": "code",
   "execution_count": null,
   "metadata": {
    "collapsed": true
   },
   "outputs": [],
   "source": [
    "\n",
    "def predit_MissingData(df_old, df_cleaned):\n",
    "    j=0\n",
    "    predict_Data = []\n",
    "    lastdata_value = 0\n",
    "    i=0\n",
    "    lastdata_value =  df_old.loc[0,'fuelVoltage']\n",
    "    \n",
    "    while i <(len(df_old)):\n",
    "        \n",
    "        if j< len(df_cleaned):\n",
    "            \n",
    "            if (df_cleaned.loc[j,'datetime'] > df_old.loc[i,'datetime']):\n",
    "                predict_Data.append(lastdata_value)\n",
    "                #print ('i = ',i)\n",
    "\n",
    "            elif (df_cleaned.loc[j,'datetime']== df_old.loc[i,'datetime']):\n",
    "                lastdata_value =  df_old.loc[i,'fuelVoltage']\n",
    "                j+=1\n",
    "                predict_Data.append(lastdata_value)\n",
    "                #print ('*j = ',j)\n",
    "        \n",
    "        else:\n",
    "            predict_Data.append(df_old.loc[i,'fuelVoltage'])\n",
    "            #print (i)\n",
    "            \n",
    "        i+=1\n",
    "    \n",
    "    return predict_Data\n",
    "\n",
    "\n",
    "\n",
    "predict_Data = predit_MissingData(dff1, df1l6)  \n",
    "         \n",
    "        \n",
    "        "
   ]
  },
  {
   "cell_type": "code",
   "execution_count": null,
   "metadata": {},
   "outputs": [],
   "source": [
    "len(predict_Data), len(dff1), len(df1l6)"
   ]
  },
  {
   "cell_type": "markdown",
   "metadata": {},
   "source": [
    "### FInding dF/dS"
   ]
  },
  {
   "cell_type": "code",
   "execution_count": null,
   "metadata": {
    "collapsed": true
   },
   "outputs": [],
   "source": [
    "def feulRate(df):\n",
    "    fuelRate = []\n",
    "    for i in range(len(df)):\n",
    "        try:\n",
    "            dFuel = abs(df.loc[i+2,'fuelVoltage'] - df.loc[i,'fuelVoltage'])\n",
    "            dS  = abs(df.loc[i+2,'distance'] - df.loc[i,'distance'])\n",
    "            rate = dFuel/dS\n",
    "            fuelRate.append(rate)\n",
    "        except:\n",
    "            fuelRate.append(0)\n",
    "        #print (i, rate)\n",
    "        \n",
    "    return fuelRate\n"
   ]
  },
  {
   "cell_type": "code",
   "execution_count": null,
   "metadata": {},
   "outputs": [],
   "source": [
    "frate = pd.Series(feulRate(df1l6))\n",
    "len(frate), len(df1l6)"
   ]
  },
  {
   "cell_type": "code",
   "execution_count": null,
   "metadata": {},
   "outputs": [],
   "source": [
    "plt.plot(frate.index, frate, 'b-')\n",
    "#plt.ylim(0,20000)"
   ]
  },
  {
   "cell_type": "code",
   "execution_count": null,
   "metadata": {},
   "outputs": [],
   "source": [
    "plt.plot"
   ]
  },
  {
   "cell_type": "code",
   "execution_count": null,
   "metadata": {
    "collapsed": true
   },
   "outputs": [],
   "source": []
  },
  {
   "cell_type": "code",
   "execution_count": null,
   "metadata": {},
   "outputs": [],
   "source": [
    "frate2 = pd.Series(feulRate(dff1))\n",
    "len(frate2), len(dff1)"
   ]
  },
  {
   "cell_type": "code",
   "execution_count": null,
   "metadata": {},
   "outputs": [],
   "source": [
    "frate = frate[frate>100000]\n",
    "plt.plot(frate.index, frate, 'b.')\n",
    "# for pt in theftpts1:\n",
    "#     plt.axvline(pt, color = 'black')\n",
    "# #plt.ylim(0,50000)"
   ]
  },
  {
   "cell_type": "code",
   "execution_count": null,
   "metadata": {},
   "outputs": [],
   "source": [
    "len(frate),len(theftpts1)"
   ]
  },
  {
   "cell_type": "code",
   "execution_count": null,
   "metadata": {
    "scrolled": true
   },
   "outputs": [],
   "source": [
    "frate"
   ]
  },
  {
   "cell_type": "code",
   "execution_count": null,
   "metadata": {
    "collapsed": true
   },
   "outputs": [],
   "source": [
    "plt.hist(feulRate, bins=100)"
   ]
  },
  {
   "cell_type": "markdown",
   "metadata": {},
   "source": [
    "### Final Plot\n",
    "Plotting Original Data, CLeaned Data, Cleaned Data with Prediction,  CLeaned Data (Excluding Zero and Static Zone)"
   ]
  },
  {
   "cell_type": "code",
   "execution_count": null,
   "metadata": {
    "collapsed": true,
    "scrolled": false
   },
   "outputs": [],
   "source": [
    "plt.rcParams['figure.figsize'] = [16,16]\n",
    "\n",
    "plt.subplot(4,1,1)\n",
    "plt.plot(df1.datetime, df1.fuelVoltage, 'g.', markersize = 3, linewidth = 1);\n",
    "#plt.xlim(0,3200)\n",
    "plt.ylim(0,1.1)\n",
    "\n",
    "plt.subplot(4,1,2)\n",
    "plt.plot(df1l6.datetime, df1l6.fuelVoltage, 'g.', markersize = 3, linewidth = 1);\n",
    "plt.ylim(0,1.1)\n",
    "\n",
    "plt.subplot(4,1,3)\n",
    "plt.plot(dff1.datetime, predict_Data, 'g.', markersize = 3, linewidth = 1);\n",
    "plt.plot(df1l6.datetime, df1l6.distance, 'b-', markersize = 1, linewidth = 1);\n",
    "\n",
    "\n",
    "plt.subplot(4,1,4)\n",
    "plt.plot(df1l6.index, df1l6.fuelVoltage, 'g.', markersize = 3, linewidth = 1);\n",
    "plt.plot(df1l6.index, df1l6.distance, 'b-', markersize = 1, linewidth = 1);\n",
    "#plt.xlim(0,3200)\n",
    "#plt.ylim(0.6,1.1)\n",
    "# plt.plot( dfff2.index, dfff2.fuelVoltage, 'g.', markersize = 2, linewidth = 1);\n",
    "\n",
    "\n",
    "plt.savefig('Conti/Output_Level3.1.png')\n"
   ]
  },
  {
   "cell_type": "code",
   "execution_count": null,
   "metadata": {
    "collapsed": true
   },
   "outputs": [],
   "source": []
  },
  {
   "cell_type": "code",
   "execution_count": null,
   "metadata": {
    "collapsed": true
   },
   "outputs": [],
   "source": []
  },
  {
   "cell_type": "code",
   "execution_count": null,
   "metadata": {
    "collapsed": true
   },
   "outputs": [],
   "source": [
    "plt.rcParams['figure.figsize'] = [16,12]\n",
    "\n",
    "plt.subplot(3,1,1)\n",
    "plt.plot(df1.index, df1.fuelVoltage, 'g.', markersize = 1, linewidth = 1);\n",
    "plt.xlim(datetime.datetime(2018,1,27,2,0), datetime.datetime(2018,2,15,6,55))\n",
    "\n",
    "plt.subplot(3,1,2)\n",
    "plt.plot(dff1.index, dff1.fuelVoltage, 'g.', markersize = 1, linewidth = 1);\n",
    "plt.xlim(7000,11000)\n",
    "#plt.ylim(0.6,1.1)\n",
    "\n",
    "plt.subplot(3,1,3)\n",
    "plt.plot(dfff1.index, dfff1.fuelVoltage, 'g.', markersize = 1, linewidth = 1);\n",
    "plt.plot(dfff1.index, dfff1.distance, 'b-', markersize = 1, linewidth = 1);\n",
    "plt.xlim(0, 4000)\n",
    "#plt.ylim(0.6,1.1)\n",
    "# plt.plot( dfff2.index, dfff2.fuelVoltage, 'g.', markersize = 2, linewidth = 1);\n",
    "\n",
    "\n",
    "plt.savefig('Conti/Output_Level3.3.png')"
   ]
  },
  {
   "cell_type": "code",
   "execution_count": null,
   "metadata": {
    "collapsed": true
   },
   "outputs": [],
   "source": []
  },
  {
   "cell_type": "code",
   "execution_count": null,
   "metadata": {
    "collapsed": true
   },
   "outputs": [],
   "source": [
    "plt.rcParams['figure.figsize'] = [16,8]\n",
    "\n",
    "plt.subplot(2,1,1)\n",
    "plt.plot(dff1.index, dff1.fuelVoltage, 'g.', markersize = 1, linewidth = 1);\n",
    "plt.xlim(11000, 15000)\n",
    "#plt.ylim(0.6,1.1)\n",
    "\n",
    "plt.subplot(2,1,2)\n",
    "plt.plot(dfff1.index, dfff1.fuelVoltage, 'g.', markersize = 1, linewidth = 1);\n",
    "plt.plot(dfff1.index, dfff1.distance, 'b-', markersize = 1, linewidth = 1);\n",
    "plt.xlim(4800, 7500)\n",
    "#plt.ylim(0.6,1.1)\n",
    "# plt.plot( dfff2.index, dfff2.fuelVoltage, 'g.', markersize = 2, linewidth = 1);\n",
    "\n",
    "\n",
    "plt.savefig('Conti/Output_Level3.4.png')"
   ]
  },
  {
   "cell_type": "code",
   "execution_count": null,
   "metadata": {
    "collapsed": true
   },
   "outputs": [],
   "source": []
  },
  {
   "cell_type": "code",
   "execution_count": null,
   "metadata": {
    "collapsed": true
   },
   "outputs": [],
   "source": [
    "plt.rcParams['figure.figsize'] = [16,8]\n",
    "\n",
    "plt.subplot(2,1,1)\n",
    "plt.plot(dff1.index, dff1.fuelVoltage, 'g.', markersize = 1, linewidth = 1);\n",
    "plt.xlim(15000, 20000)\n",
    "#plt.ylim(0.6,1.1)\n",
    "\n",
    "plt.subplot(2,1,2)\n",
    "plt.plot(dfff1.index, dfff1.fuelVoltage, 'g.', markersize = 1, linewidth = 1);\n",
    "plt.plot(dfff1.index, dfff1.dd1, 'b-', markersize = 1, linewidth = 1);\n",
    "plt.xlim(7500, 10000)\n",
    "#plt.ylim(0.6,1.1)\n",
    "# plt.plot( dfff2.index, dfff2.fuelVoltage, 'g.', markersize = 2, linewidth = 1);\n",
    "\n",
    "\n",
    "plt.savefig('Conti/Output_Level3.5.png')"
   ]
  },
  {
   "cell_type": "code",
   "execution_count": null,
   "metadata": {
    "collapsed": true
   },
   "outputs": [],
   "source": []
  },
  {
   "cell_type": "code",
   "execution_count": null,
   "metadata": {
    "collapsed": true
   },
   "outputs": [],
   "source": []
  },
  {
   "cell_type": "code",
   "execution_count": null,
   "metadata": {
    "collapsed": true,
    "scrolled": false
   },
   "outputs": [],
   "source": [
    "plt.rcParams['figure.figsize'] = [16,16]\n",
    "plt.subplot(4,1,1)\n",
    "plt.plot(df1.index, df1.fuelVoltage, 'g.', markersize = 1, linewidth = 1);\n",
    "plt.xlim(0,8000)\n",
    "#plt.ylim(0.6,1.1)\n",
    "\n",
    "plt.subplot(4,1,2)\n",
    "plt.plot(dff1.index, dff1.fuelVoltage, 'g.', markersize = 1, linewidth = 1);\n",
    "plt.xlim(0,3500)\n",
    "#plt.ylim(0.6,1.1)\n",
    "\n",
    "plt.subplot(4,1,3)\n",
    "plt.plot(dfff1.index, dfff1.fuelVoltage, 'g.', markersize = 1, linewidth = 1);\n",
    "plt.xlim(0,1800)"
   ]
  },
  {
   "cell_type": "code",
   "execution_count": null,
   "metadata": {
    "collapsed": true
   },
   "outputs": [],
   "source": [
    "dfff1.head()"
   ]
  },
  {
   "cell_type": "code",
   "execution_count": null,
   "metadata": {
    "collapsed": true
   },
   "outputs": [],
   "source": []
  },
  {
   "cell_type": "code",
   "execution_count": null,
   "metadata": {
    "collapsed": true
   },
   "outputs": [],
   "source": []
  },
  {
   "cell_type": "code",
   "execution_count": null,
   "metadata": {
    "collapsed": true
   },
   "outputs": [],
   "source": [
    "dff1.to_csv(\"Conti/datafinal_v1_3.csv\")\n",
    "dfff1.to_csv(\"Conti/datafinal_v1_3.2.csv\")\n",
    "# dff2.to_csv(\"data/datafinal_v1_2.csv\")\n",
    "# dff3.to_csv(\"data/datafinal_v1_3.csv\")\n",
    "# dff4.to_csv(\"data/datafinal_v1_4.csv\")\n",
    "# dff5.to_csv(\"data/datafinal_v1_5.csv\")\n",
    "# dff6.to_csv(\"data/datafinal_v1_6.csv\")"
   ]
  },
  {
   "cell_type": "code",
   "execution_count": null,
   "metadata": {
    "collapsed": true
   },
   "outputs": [],
   "source": []
  },
  {
   "cell_type": "code",
   "execution_count": null,
   "metadata": {
    "collapsed": true
   },
   "outputs": [],
   "source": []
  }
 ],
 "metadata": {
  "kernelspec": {
   "display_name": "Python 3",
   "language": "python",
   "name": "python3"
  },
  "language_info": {
   "codemirror_mode": {
    "name": "ipython",
    "version": 3
   },
   "file_extension": ".py",
   "mimetype": "text/x-python",
   "name": "python",
   "nbconvert_exporter": "python",
   "pygments_lexer": "ipython3",
   "version": "3.6.4"
  }
 },
 "nbformat": 4,
 "nbformat_minor": 2
}
