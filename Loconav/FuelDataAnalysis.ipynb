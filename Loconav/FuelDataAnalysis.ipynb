{
 "cells": [
  {
   "cell_type": "code",
   "execution_count": 58,
   "metadata": {
    "collapsed": true
   },
   "outputs": [],
   "source": [
    "import numpy as np\n",
    "import pandas as pd\n",
    "import matplotlib.pyplot as plt\n",
    "from sklearn import svm, naive_bayes\n",
    "import statsmodels \n",
    "%matplotlib inline"
   ]
  },
  {
   "cell_type": "code",
   "execution_count": 125,
   "metadata": {},
   "outputs": [],
   "source": [
    "df = pd.read_csv(r\"G:\\Manjeet\\Intern_Loconav\\csvs\\009821702910.csv\")"
   ]
  },
  {
   "cell_type": "code",
   "execution_count": 126,
   "metadata": {
    "scrolled": true
   },
   "outputs": [
    {
     "data": {
      "text/html": [
       "<div>\n",
       "<style scoped>\n",
       "    .dataframe tbody tr th:only-of-type {\n",
       "        vertical-align: middle;\n",
       "    }\n",
       "\n",
       "    .dataframe tbody tr th {\n",
       "        vertical-align: top;\n",
       "    }\n",
       "\n",
       "    .dataframe thead th {\n",
       "        text-align: right;\n",
       "    }\n",
       "</style>\n",
       "<table border=\"1\" class=\"dataframe\">\n",
       "  <thead>\n",
       "    <tr style=\"text-align: right;\">\n",
       "      <th></th>\n",
       "      <th>id</th>\n",
       "      <th>lat</th>\n",
       "      <th>long</th>\n",
       "      <th>created_at</th>\n",
       "      <th>updated_at</th>\n",
       "      <th>device_id</th>\n",
       "      <th>speed</th>\n",
       "      <th>orientation</th>\n",
       "      <th>distance</th>\n",
       "      <th>received_at</th>\n",
       "      <th>io_state</th>\n",
       "      <th>availability</th>\n",
       "      <th>raw_data</th>\n",
       "      <th>new_cordinate_id</th>\n",
       "    </tr>\n",
       "  </thead>\n",
       "  <tbody>\n",
       "    <tr>\n",
       "      <th>0</th>\n",
       "      <td>2.120476e+09</td>\n",
       "      <td>28.710490</td>\n",
       "      <td>77.179423</td>\n",
       "      <td>2018-01-23 06:05:58</td>\n",
       "      <td>NaN</td>\n",
       "      <td>9821702910</td>\n",
       "      <td>0.3</td>\n",
       "      <td>0.0</td>\n",
       "      <td>66</td>\n",
       "      <td>2018-01-23 06:05:53</td>\n",
       "      <td>01000007</td>\n",
       "      <td>A</td>\n",
       "      <td>NaN</td>\n",
       "      <td>NaN</td>\n",
       "    </tr>\n",
       "    <tr>\n",
       "      <th>1</th>\n",
       "      <td>2.120480e+09</td>\n",
       "      <td>28.710492</td>\n",
       "      <td>77.179190</td>\n",
       "      <td>2018-01-23 05:11:15</td>\n",
       "      <td>NaN</td>\n",
       "      <td>9821702910</td>\n",
       "      <td>1.4</td>\n",
       "      <td>0.0</td>\n",
       "      <td>54</td>\n",
       "      <td>2018-01-23 05:11:14</td>\n",
       "      <td>01000007</td>\n",
       "      <td>A</td>\n",
       "      <td>NaN</td>\n",
       "      <td>NaN</td>\n",
       "    </tr>\n",
       "    <tr>\n",
       "      <th>2</th>\n",
       "      <td>2.120480e+09</td>\n",
       "      <td>28.710500</td>\n",
       "      <td>77.179227</td>\n",
       "      <td>2018-01-23 05:11:46</td>\n",
       "      <td>NaN</td>\n",
       "      <td>9821702910</td>\n",
       "      <td>0.3</td>\n",
       "      <td>0.0</td>\n",
       "      <td>54</td>\n",
       "      <td>2018-01-23 05:11:44</td>\n",
       "      <td>01000007</td>\n",
       "      <td>A</td>\n",
       "      <td>NaN</td>\n",
       "      <td>NaN</td>\n",
       "    </tr>\n",
       "    <tr>\n",
       "      <th>3</th>\n",
       "      <td>2.120480e+09</td>\n",
       "      <td>28.710520</td>\n",
       "      <td>77.179352</td>\n",
       "      <td>2018-01-23 05:12:17</td>\n",
       "      <td>NaN</td>\n",
       "      <td>9821702910</td>\n",
       "      <td>0.1</td>\n",
       "      <td>0.0</td>\n",
       "      <td>54</td>\n",
       "      <td>2018-01-23 05:12:14</td>\n",
       "      <td>01000007</td>\n",
       "      <td>A</td>\n",
       "      <td>NaN</td>\n",
       "      <td>NaN</td>\n",
       "    </tr>\n",
       "    <tr>\n",
       "      <th>4</th>\n",
       "      <td>2.120480e+09</td>\n",
       "      <td>28.710593</td>\n",
       "      <td>77.179480</td>\n",
       "      <td>2018-01-22 14:07:09</td>\n",
       "      <td>NaN</td>\n",
       "      <td>9821702910</td>\n",
       "      <td>1.1</td>\n",
       "      <td>0.0</td>\n",
       "      <td>139</td>\n",
       "      <td>2018-01-22 14:04:38</td>\n",
       "      <td>01000006</td>\n",
       "      <td>A</td>\n",
       "      <td>NaN</td>\n",
       "      <td>NaN</td>\n",
       "    </tr>\n",
       "    <tr>\n",
       "      <th>5</th>\n",
       "      <td>2.120480e+09</td>\n",
       "      <td>28.710303</td>\n",
       "      <td>77.179150</td>\n",
       "      <td>2018-01-22 13:22:35</td>\n",
       "      <td>NaN</td>\n",
       "      <td>9821702910</td>\n",
       "      <td>0.5</td>\n",
       "      <td>0.0</td>\n",
       "      <td>0</td>\n",
       "      <td>2018-01-22 13:22:30</td>\n",
       "      <td>01000005</td>\n",
       "      <td>A</td>\n",
       "      <td>NaN</td>\n",
       "      <td>NaN</td>\n",
       "    </tr>\n",
       "    <tr>\n",
       "      <th>6</th>\n",
       "      <td>2.120480e+09</td>\n",
       "      <td>28.710557</td>\n",
       "      <td>77.179248</td>\n",
       "      <td>2018-01-22 13:23:06</td>\n",
       "      <td>NaN</td>\n",
       "      <td>9821702910</td>\n",
       "      <td>0.0</td>\n",
       "      <td>0.0</td>\n",
       "      <td>0</td>\n",
       "      <td>2018-01-22 13:23:00</td>\n",
       "      <td>01000006</td>\n",
       "      <td>A</td>\n",
       "      <td>NaN</td>\n",
       "      <td>NaN</td>\n",
       "    </tr>\n",
       "    <tr>\n",
       "      <th>7</th>\n",
       "      <td>2.120480e+09</td>\n",
       "      <td>28.710463</td>\n",
       "      <td>77.179230</td>\n",
       "      <td>2018-01-22 13:23:36</td>\n",
       "      <td>NaN</td>\n",
       "      <td>9821702910</td>\n",
       "      <td>1.2</td>\n",
       "      <td>0.0</td>\n",
       "      <td>4</td>\n",
       "      <td>2018-01-22 13:23:31</td>\n",
       "      <td>01000007</td>\n",
       "      <td>A</td>\n",
       "      <td>NaN</td>\n",
       "      <td>NaN</td>\n",
       "    </tr>\n",
       "    <tr>\n",
       "      <th>8</th>\n",
       "      <td>2.120480e+09</td>\n",
       "      <td>28.710520</td>\n",
       "      <td>77.179198</td>\n",
       "      <td>2018-01-22 13:24:07</td>\n",
       "      <td>NaN</td>\n",
       "      <td>9821702910</td>\n",
       "      <td>0.7</td>\n",
       "      <td>0.0</td>\n",
       "      <td>12</td>\n",
       "      <td>2018-01-22 13:24:01</td>\n",
       "      <td>01000007</td>\n",
       "      <td>A</td>\n",
       "      <td>NaN</td>\n",
       "      <td>NaN</td>\n",
       "    </tr>\n",
       "    <tr>\n",
       "      <th>9</th>\n",
       "      <td>2.120480e+09</td>\n",
       "      <td>28.710843</td>\n",
       "      <td>77.179143</td>\n",
       "      <td>2018-01-22 13:24:36</td>\n",
       "      <td>NaN</td>\n",
       "      <td>9821702910</td>\n",
       "      <td>0.7</td>\n",
       "      <td>0.0</td>\n",
       "      <td>22</td>\n",
       "      <td>2018-01-22 13:24:31</td>\n",
       "      <td>01000007</td>\n",
       "      <td>A</td>\n",
       "      <td>NaN</td>\n",
       "      <td>NaN</td>\n",
       "    </tr>\n",
       "    <tr>\n",
       "      <th>10</th>\n",
       "      <td>2.120480e+09</td>\n",
       "      <td>28.710757</td>\n",
       "      <td>77.179035</td>\n",
       "      <td>2018-01-22 13:25:04</td>\n",
       "      <td>NaN</td>\n",
       "      <td>9821702910</td>\n",
       "      <td>2.0</td>\n",
       "      <td>0.0</td>\n",
       "      <td>26</td>\n",
       "      <td>2018-01-22 13:25:01</td>\n",
       "      <td>01000007</td>\n",
       "      <td>A</td>\n",
       "      <td>NaN</td>\n",
       "      <td>NaN</td>\n",
       "    </tr>\n",
       "    <tr>\n",
       "      <th>11</th>\n",
       "      <td>2.120480e+09</td>\n",
       "      <td>28.710492</td>\n",
       "      <td>77.179185</td>\n",
       "      <td>2018-01-22 13:25:35</td>\n",
       "      <td>NaN</td>\n",
       "      <td>9821702910</td>\n",
       "      <td>0.5</td>\n",
       "      <td>0.0</td>\n",
       "      <td>35</td>\n",
       "      <td>2018-01-22 13:25:31</td>\n",
       "      <td>01000007</td>\n",
       "      <td>A</td>\n",
       "      <td>NaN</td>\n",
       "      <td>NaN</td>\n",
       "    </tr>\n",
       "    <tr>\n",
       "      <th>12</th>\n",
       "      <td>2.120480e+09</td>\n",
       "      <td>28.710478</td>\n",
       "      <td>77.179103</td>\n",
       "      <td>2018-01-22 13:26:13</td>\n",
       "      <td>NaN</td>\n",
       "      <td>9821702910</td>\n",
       "      <td>1.2</td>\n",
       "      <td>0.0</td>\n",
       "      <td>35</td>\n",
       "      <td>2018-01-22 13:26:01</td>\n",
       "      <td>01000007</td>\n",
       "      <td>A</td>\n",
       "      <td>NaN</td>\n",
       "      <td>NaN</td>\n",
       "    </tr>\n",
       "    <tr>\n",
       "      <th>13</th>\n",
       "      <td>2.120480e+09</td>\n",
       "      <td>28.710492</td>\n",
       "      <td>77.179140</td>\n",
       "      <td>2018-01-22 13:26:48</td>\n",
       "      <td>NaN</td>\n",
       "      <td>9821702910</td>\n",
       "      <td>1.2</td>\n",
       "      <td>0.0</td>\n",
       "      <td>35</td>\n",
       "      <td>2018-01-22 13:26:32</td>\n",
       "      <td>01000007</td>\n",
       "      <td>A</td>\n",
       "      <td>NaN</td>\n",
       "      <td>NaN</td>\n",
       "    </tr>\n",
       "    <tr>\n",
       "      <th>14</th>\n",
       "      <td>2.120480e+09</td>\n",
       "      <td>28.710492</td>\n",
       "      <td>77.179140</td>\n",
       "      <td>2018-01-22 13:26:55</td>\n",
       "      <td>NaN</td>\n",
       "      <td>9821702910</td>\n",
       "      <td>1.2</td>\n",
       "      <td>0.0</td>\n",
       "      <td>35</td>\n",
       "      <td>2018-01-22 13:26:32</td>\n",
       "      <td>01000007</td>\n",
       "      <td>A</td>\n",
       "      <td>NaN</td>\n",
       "      <td>NaN</td>\n",
       "    </tr>\n",
       "    <tr>\n",
       "      <th>15</th>\n",
       "      <td>2.120480e+09</td>\n",
       "      <td>28.710530</td>\n",
       "      <td>77.179163</td>\n",
       "      <td>2018-01-22 13:27:05</td>\n",
       "      <td>NaN</td>\n",
       "      <td>9821702910</td>\n",
       "      <td>0.7</td>\n",
       "      <td>0.0</td>\n",
       "      <td>36</td>\n",
       "      <td>2018-01-22 13:27:01</td>\n",
       "      <td>01000007</td>\n",
       "      <td>A</td>\n",
       "      <td>NaN</td>\n",
       "      <td>NaN</td>\n",
       "    </tr>\n",
       "    <tr>\n",
       "      <th>16</th>\n",
       "      <td>2.120480e+09</td>\n",
       "      <td>28.710485</td>\n",
       "      <td>77.179078</td>\n",
       "      <td>2018-01-22 13:27:36</td>\n",
       "      <td>NaN</td>\n",
       "      <td>9821702910</td>\n",
       "      <td>0.1</td>\n",
       "      <td>0.0</td>\n",
       "      <td>37</td>\n",
       "      <td>2018-01-22 13:27:31</td>\n",
       "      <td>01000007</td>\n",
       "      <td>A</td>\n",
       "      <td>NaN</td>\n",
       "      <td>NaN</td>\n",
       "    </tr>\n",
       "    <tr>\n",
       "      <th>17</th>\n",
       "      <td>2.120480e+09</td>\n",
       "      <td>28.710487</td>\n",
       "      <td>77.179110</td>\n",
       "      <td>2018-01-22 13:28:04</td>\n",
       "      <td>NaN</td>\n",
       "      <td>9821702910</td>\n",
       "      <td>0.0</td>\n",
       "      <td>0.0</td>\n",
       "      <td>37</td>\n",
       "      <td>2018-01-22 13:28:01</td>\n",
       "      <td>01000007</td>\n",
       "      <td>A</td>\n",
       "      <td>NaN</td>\n",
       "      <td>NaN</td>\n",
       "    </tr>\n",
       "    <tr>\n",
       "      <th>18</th>\n",
       "      <td>2.120480e+09</td>\n",
       "      <td>28.710500</td>\n",
       "      <td>77.179108</td>\n",
       "      <td>2018-01-22 13:28:36</td>\n",
       "      <td>NaN</td>\n",
       "      <td>9821702910</td>\n",
       "      <td>0.7</td>\n",
       "      <td>0.0</td>\n",
       "      <td>46</td>\n",
       "      <td>2018-01-22 13:28:32</td>\n",
       "      <td>01000007</td>\n",
       "      <td>A</td>\n",
       "      <td>NaN</td>\n",
       "      <td>NaN</td>\n",
       "    </tr>\n",
       "    <tr>\n",
       "      <th>19</th>\n",
       "      <td>2.120480e+09</td>\n",
       "      <td>28.710515</td>\n",
       "      <td>77.179127</td>\n",
       "      <td>2018-01-22 13:29:08</td>\n",
       "      <td>NaN</td>\n",
       "      <td>9821702910</td>\n",
       "      <td>0.1</td>\n",
       "      <td>0.0</td>\n",
       "      <td>46</td>\n",
       "      <td>2018-01-22 13:29:02</td>\n",
       "      <td>01000007</td>\n",
       "      <td>A</td>\n",
       "      <td>NaN</td>\n",
       "      <td>NaN</td>\n",
       "    </tr>\n",
       "  </tbody>\n",
       "</table>\n",
       "</div>"
      ],
      "text/plain": [
       "              id        lat       long           created_at  updated_at  \\\n",
       "0   2.120476e+09  28.710490  77.179423  2018-01-23 06:05:58         NaN   \n",
       "1   2.120480e+09  28.710492  77.179190  2018-01-23 05:11:15         NaN   \n",
       "2   2.120480e+09  28.710500  77.179227  2018-01-23 05:11:46         NaN   \n",
       "3   2.120480e+09  28.710520  77.179352  2018-01-23 05:12:17         NaN   \n",
       "4   2.120480e+09  28.710593  77.179480  2018-01-22 14:07:09         NaN   \n",
       "5   2.120480e+09  28.710303  77.179150  2018-01-22 13:22:35         NaN   \n",
       "6   2.120480e+09  28.710557  77.179248  2018-01-22 13:23:06         NaN   \n",
       "7   2.120480e+09  28.710463  77.179230  2018-01-22 13:23:36         NaN   \n",
       "8   2.120480e+09  28.710520  77.179198  2018-01-22 13:24:07         NaN   \n",
       "9   2.120480e+09  28.710843  77.179143  2018-01-22 13:24:36         NaN   \n",
       "10  2.120480e+09  28.710757  77.179035  2018-01-22 13:25:04         NaN   \n",
       "11  2.120480e+09  28.710492  77.179185  2018-01-22 13:25:35         NaN   \n",
       "12  2.120480e+09  28.710478  77.179103  2018-01-22 13:26:13         NaN   \n",
       "13  2.120480e+09  28.710492  77.179140  2018-01-22 13:26:48         NaN   \n",
       "14  2.120480e+09  28.710492  77.179140  2018-01-22 13:26:55         NaN   \n",
       "15  2.120480e+09  28.710530  77.179163  2018-01-22 13:27:05         NaN   \n",
       "16  2.120480e+09  28.710485  77.179078  2018-01-22 13:27:36         NaN   \n",
       "17  2.120480e+09  28.710487  77.179110  2018-01-22 13:28:04         NaN   \n",
       "18  2.120480e+09  28.710500  77.179108  2018-01-22 13:28:36         NaN   \n",
       "19  2.120480e+09  28.710515  77.179127  2018-01-22 13:29:08         NaN   \n",
       "\n",
       "     device_id  speed  orientation  distance          received_at  io_state  \\\n",
       "0   9821702910    0.3          0.0        66  2018-01-23 06:05:53  01000007   \n",
       "1   9821702910    1.4          0.0        54  2018-01-23 05:11:14  01000007   \n",
       "2   9821702910    0.3          0.0        54  2018-01-23 05:11:44  01000007   \n",
       "3   9821702910    0.1          0.0        54  2018-01-23 05:12:14  01000007   \n",
       "4   9821702910    1.1          0.0       139  2018-01-22 14:04:38  01000006   \n",
       "5   9821702910    0.5          0.0         0  2018-01-22 13:22:30  01000005   \n",
       "6   9821702910    0.0          0.0         0  2018-01-22 13:23:00  01000006   \n",
       "7   9821702910    1.2          0.0         4  2018-01-22 13:23:31  01000007   \n",
       "8   9821702910    0.7          0.0        12  2018-01-22 13:24:01  01000007   \n",
       "9   9821702910    0.7          0.0        22  2018-01-22 13:24:31  01000007   \n",
       "10  9821702910    2.0          0.0        26  2018-01-22 13:25:01  01000007   \n",
       "11  9821702910    0.5          0.0        35  2018-01-22 13:25:31  01000007   \n",
       "12  9821702910    1.2          0.0        35  2018-01-22 13:26:01  01000007   \n",
       "13  9821702910    1.2          0.0        35  2018-01-22 13:26:32  01000007   \n",
       "14  9821702910    1.2          0.0        35  2018-01-22 13:26:32  01000007   \n",
       "15  9821702910    0.7          0.0        36  2018-01-22 13:27:01  01000007   \n",
       "16  9821702910    0.1          0.0        37  2018-01-22 13:27:31  01000007   \n",
       "17  9821702910    0.0          0.0        37  2018-01-22 13:28:01  01000007   \n",
       "18  9821702910    0.7          0.0        46  2018-01-22 13:28:32  01000007   \n",
       "19  9821702910    0.1          0.0        46  2018-01-22 13:29:02  01000007   \n",
       "\n",
       "   availability  raw_data  new_cordinate_id  \n",
       "0             A       NaN               NaN  \n",
       "1             A       NaN               NaN  \n",
       "2             A       NaN               NaN  \n",
       "3             A       NaN               NaN  \n",
       "4             A       NaN               NaN  \n",
       "5             A       NaN               NaN  \n",
       "6             A       NaN               NaN  \n",
       "7             A       NaN               NaN  \n",
       "8             A       NaN               NaN  \n",
       "9             A       NaN               NaN  \n",
       "10            A       NaN               NaN  \n",
       "11            A       NaN               NaN  \n",
       "12            A       NaN               NaN  \n",
       "13            A       NaN               NaN  \n",
       "14            A       NaN               NaN  \n",
       "15            A       NaN               NaN  \n",
       "16            A       NaN               NaN  \n",
       "17            A       NaN               NaN  \n",
       "18            A       NaN               NaN  \n",
       "19            A       NaN               NaN  "
      ]
     },
     "execution_count": 126,
     "metadata": {},
     "output_type": "execute_result"
    }
   ],
   "source": [
    "df.head(20)"
   ]
  },
  {
   "cell_type": "code",
   "execution_count": 127,
   "metadata": {},
   "outputs": [
    {
     "data": {
      "text/plain": [
       "'007'"
      ]
     },
     "execution_count": 127,
     "metadata": {},
     "output_type": "execute_result"
    }
   ],
   "source": [
    "df.io_state[2][-3:]"
   ]
  },
  {
   "cell_type": "code",
   "execution_count": 128,
   "metadata": {},
   "outputs": [
    {
     "data": {
      "text/plain": [
       "7"
      ]
     },
     "execution_count": 128,
     "metadata": {},
     "output_type": "execute_result"
    }
   ],
   "source": [
    "a = df.io_state[2][-3:]\n",
    "int(a,16)"
   ]
  },
  {
   "cell_type": "code",
   "execution_count": 129,
   "metadata": {
    "collapsed": true
   },
   "outputs": [],
   "source": [
    "df['FuelVoltage']= df.io_state.apply(lambda x: int(x[-3:],16))"
   ]
  },
  {
   "cell_type": "code",
   "execution_count": 130,
   "metadata": {},
   "outputs": [
    {
     "data": {
      "text/plain": [
       "count    48782.000000\n",
       "mean        74.103624\n",
       "std        146.212434\n",
       "min          0.000000\n",
       "25%          3.000000\n",
       "50%          7.000000\n",
       "75%          7.000000\n",
       "max        579.000000\n",
       "Name: FuelVoltage, dtype: float64"
      ]
     },
     "execution_count": 130,
     "metadata": {},
     "output_type": "execute_result"
    }
   ],
   "source": [
    "df.FuelVoltage.describe()"
   ]
  },
  {
   "cell_type": "code",
   "execution_count": 131,
   "metadata": {},
   "outputs": [
    {
     "name": "stdout",
     "output_type": "stream",
     "text": [
      "<class 'pandas.core.frame.DataFrame'>\n",
      "RangeIndex: 48782 entries, 0 to 48781\n",
      "Data columns (total 15 columns):\n",
      "id                  555 non-null float64\n",
      "lat                 48782 non-null float64\n",
      "long                48782 non-null float64\n",
      "created_at          48782 non-null object\n",
      "updated_at          0 non-null float64\n",
      "device_id           48782 non-null int64\n",
      "speed               48782 non-null float64\n",
      "orientation         48782 non-null float64\n",
      "distance            48782 non-null int64\n",
      "received_at         48782 non-null object\n",
      "io_state            48782 non-null object\n",
      "availability        48782 non-null object\n",
      "raw_data            0 non-null float64\n",
      "new_cordinate_id    48227 non-null float64\n",
      "FuelVoltage         48782 non-null int64\n",
      "dtypes: float64(8), int64(3), object(4)\n",
      "memory usage: 5.6+ MB\n"
     ]
    }
   ],
   "source": [
    "df.info()"
   ]
  },
  {
   "cell_type": "code",
   "execution_count": 132,
   "metadata": {},
   "outputs": [],
   "source": [
    "mydf = pd.DataFrame()\n",
    "mydf[['datetime','speed','distance','fuelVoltage']] = df[['received_at','speed','distance','FuelVoltage']]"
   ]
  },
  {
   "cell_type": "code",
   "execution_count": 133,
   "metadata": {},
   "outputs": [
    {
     "name": "stdout",
     "output_type": "stream",
     "text": [
      "<class 'pandas.core.frame.DataFrame'>\n",
      "RangeIndex: 48782 entries, 0 to 48781\n",
      "Data columns (total 4 columns):\n",
      "datetime       48782 non-null object\n",
      "speed          48782 non-null float64\n",
      "distance       48782 non-null int64\n",
      "fuelVoltage    48782 non-null int64\n",
      "dtypes: float64(1), int64(2), object(1)\n",
      "memory usage: 1.5+ MB\n"
     ]
    }
   ],
   "source": [
    "mydf.info()"
   ]
  },
  {
   "cell_type": "code",
   "execution_count": 134,
   "metadata": {},
   "outputs": [
    {
     "name": "stdout",
     "output_type": "stream",
     "text": [
      "<class 'pandas.core.frame.DataFrame'>\n",
      "RangeIndex: 48782 entries, 0 to 48781\n",
      "Data columns (total 4 columns):\n",
      "datetime       48782 non-null datetime64[ns]\n",
      "speed          48782 non-null float64\n",
      "distance       48782 non-null int64\n",
      "fuelVoltage    48782 non-null int64\n",
      "dtypes: datetime64[ns](1), float64(1), int64(2)\n",
      "memory usage: 1.5 MB\n"
     ]
    }
   ],
   "source": [
    "mydf.datetime = pd.to_datetime(mydf.datetime)\n",
    "mydf.info()"
   ]
  },
  {
   "cell_type": "code",
   "execution_count": 135,
   "metadata": {
    "collapsed": true
   },
   "outputs": [],
   "source": [
    "mydf.to_csv(\"G:\\Manjeet\\Intern_Loconav\\csvs\\data6.csv\")"
   ]
  },
  {
   "cell_type": "code",
   "execution_count": 137,
   "metadata": {},
   "outputs": [
    {
     "data": {
      "image/png": "[encoded data removed]",
      "text/plain": [
       "<Figure size 1152x288 with 1 Axes>"
      ]
     },
     "metadata": {},
     "output_type": "display_data"
    }
   ],
   "source": [
    "plt.rcParams['figure.figsize'] = [16,4]\n",
    "plt.plot(mydf.datetime,mydf.fuelVoltage);"
   ]
  },
  {
   "cell_type": "code",
   "execution_count": 124,
   "metadata": {},
   "outputs": [
    {
     "data": {
      "image/png": "[encoded data removed]",
      "text/plain": [
       "<Figure size 1152x288 with 1 Axes>"
      ]
     },
     "metadata": {},
     "output_type": "display_data"
    }
   ],
   "source": [
    "plt.plot(mydf.index[:10000],mydf.fuelVoltage[:10000]);"
   ]
  },
  {
   "cell_type": "markdown",
   "metadata": {},
   "source": [
    "### Points to Address\n",
    "1. Data data has error in some places, day and month has to be rearranged\n",
    "2. Database is not exactly sorted w.r.t. to date\n"
   ]
  },
  {
   "cell_type": "code",
   "execution_count": null,
   "metadata": {
    "collapsed": true
   },
   "outputs": [],
   "source": []
  },
  {
   "cell_type": "code",
   "execution_count": null,
   "metadata": {
    "collapsed": true
   },
   "outputs": [],
   "source": []
  }
 ],
 "metadata": {
  "kernelspec": {
   "display_name": "Python 3",
   "language": "python",
   "name": "python3"
  },
  "language_info": {
   "codemirror_mode": {
    "name": "ipython",
    "version": 3
   },
   "file_extension": ".py",
   "mimetype": "text/x-python",
   "name": "python",
   "nbconvert_exporter": "python",
   "pygments_lexer": "ipython3",
   "version": "3.6.4"
  }
 },
 "nbformat": 4,
 "nbformat_minor": 2
}
