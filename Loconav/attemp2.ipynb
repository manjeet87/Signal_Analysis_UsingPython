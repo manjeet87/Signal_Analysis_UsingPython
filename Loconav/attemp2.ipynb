{
 "cells": [
  {
   "cell_type": "markdown",
   "metadata": {},
   "source": [
    "### Analyzing the fuel data"
   ]
  },
  {
   "cell_type": "markdown",
   "metadata": {},
   "source": [
    "Loading the csv as a dataframe:"
   ]
  },
  {
   "cell_type": "code",
   "execution_count": 1,
   "metadata": {
    "collapsed": true
   },
   "outputs": [],
   "source": [
    "import pandas as pd\n",
    "df = pd.read_csv('./csvs/008527945276.csv')"
   ]
  },
  {
   "cell_type": "code",
   "execution_count": 2,
   "metadata": {},
   "outputs": [
    {
     "data": {
      "text/html": [
       "<div>\n",
       "<table border=\"1\" class=\"dataframe\">\n",
       "  <thead>\n",
       "    <tr style=\"text-align: right;\">\n",
       "      <th></th>\n",
       "      <th>id</th>\n",
       "      <th>lat</th>\n",
       "      <th>long</th>\n",
       "      <th>created_at</th>\n",
       "      <th>updated_at</th>\n",
       "      <th>device_id</th>\n",
       "      <th>speed</th>\n",
       "      <th>orientation</th>\n",
       "      <th>distance</th>\n",
       "      <th>received_at</th>\n",
       "      <th>io_state</th>\n",
       "      <th>availability</th>\n",
       "      <th>raw_data</th>\n",
       "      <th>new_cordinate_id</th>\n",
       "    </tr>\n",
       "  </thead>\n",
       "  <tbody>\n",
       "    <tr>\n",
       "      <th>0</th>\n",
       "      <td>2.025505e+09</td>\n",
       "      <td>28.710563</td>\n",
       "      <td>77.179337</td>\n",
       "      <td>2018-01-13 07:24:59</td>\n",
       "      <td>NaN</td>\n",
       "      <td>8527945276</td>\n",
       "      <td>0.9</td>\n",
       "      <td>0.0</td>\n",
       "      <td>256</td>\n",
       "      <td>2018-01-13 07:24:55</td>\n",
       "      <td>01000007</td>\n",
       "      <td>A</td>\n",
       "      <td>NaN</td>\n",
       "      <td>NaN</td>\n",
       "    </tr>\n",
       "    <tr>\n",
       "      <th>1</th>\n",
       "      <td>2.025505e+09</td>\n",
       "      <td>28.710615</td>\n",
       "      <td>77.179970</td>\n",
       "      <td>2018-01-13 07:10:41</td>\n",
       "      <td>NaN</td>\n",
       "      <td>8527945276</td>\n",
       "      <td>1.1</td>\n",
       "      <td>0.0</td>\n",
       "      <td>6</td>\n",
       "      <td>2018-01-13 07:10:24</td>\n",
       "      <td>01000007</td>\n",
       "      <td>A</td>\n",
       "      <td>NaN</td>\n",
       "      <td>NaN</td>\n",
       "    </tr>\n",
       "    <tr>\n",
       "      <th>2</th>\n",
       "      <td>2.025505e+09</td>\n",
       "      <td>28.710595</td>\n",
       "      <td>77.180145</td>\n",
       "      <td>2018-01-13 07:11:14</td>\n",
       "      <td>NaN</td>\n",
       "      <td>8527945276</td>\n",
       "      <td>1.8</td>\n",
       "      <td>87.4</td>\n",
       "      <td>21</td>\n",
       "      <td>2018-01-13 07:10:58</td>\n",
       "      <td>01000007</td>\n",
       "      <td>A</td>\n",
       "      <td>NaN</td>\n",
       "      <td>NaN</td>\n",
       "    </tr>\n",
       "    <tr>\n",
       "      <th>3</th>\n",
       "      <td>2.025505e+09</td>\n",
       "      <td>28.710597</td>\n",
       "      <td>77.180138</td>\n",
       "      <td>2018-01-13 07:11:24</td>\n",
       "      <td>NaN</td>\n",
       "      <td>8527945276</td>\n",
       "      <td>1.1</td>\n",
       "      <td>0.0</td>\n",
       "      <td>26</td>\n",
       "      <td>2018-01-13 07:11:22</td>\n",
       "      <td>01000007</td>\n",
       "      <td>A</td>\n",
       "      <td>NaN</td>\n",
       "      <td>NaN</td>\n",
       "    </tr>\n",
       "    <tr>\n",
       "      <th>4</th>\n",
       "      <td>2.025505e+09</td>\n",
       "      <td>28.710588</td>\n",
       "      <td>77.180013</td>\n",
       "      <td>2018-01-13 07:12:26</td>\n",
       "      <td>NaN</td>\n",
       "      <td>8527945276</td>\n",
       "      <td>0.9</td>\n",
       "      <td>0.0</td>\n",
       "      <td>50</td>\n",
       "      <td>2018-01-13 07:12:22</td>\n",
       "      <td>01000007</td>\n",
       "      <td>A</td>\n",
       "      <td>NaN</td>\n",
       "      <td>NaN</td>\n",
       "    </tr>\n",
       "  </tbody>\n",
       "</table>\n",
       "</div>"
      ],
      "text/plain": [
       "             id        lat       long           created_at  updated_at  \\\n",
       "0  2.025505e+09  28.710563  77.179337  2018-01-13 07:24:59         NaN   \n",
       "1  2.025505e+09  28.710615  77.179970  2018-01-13 07:10:41         NaN   \n",
       "2  2.025505e+09  28.710595  77.180145  2018-01-13 07:11:14         NaN   \n",
       "3  2.025505e+09  28.710597  77.180138  2018-01-13 07:11:24         NaN   \n",
       "4  2.025505e+09  28.710588  77.180013  2018-01-13 07:12:26         NaN   \n",
       "\n",
       "    device_id  speed  orientation  distance          received_at  io_state  \\\n",
       "0  8527945276    0.9          0.0       256  2018-01-13 07:24:55  01000007   \n",
       "1  8527945276    1.1          0.0         6  2018-01-13 07:10:24  01000007   \n",
       "2  8527945276    1.8         87.4        21  2018-01-13 07:10:58  01000007   \n",
       "3  8527945276    1.1          0.0        26  2018-01-13 07:11:22  01000007   \n",
       "4  8527945276    0.9          0.0        50  2018-01-13 07:12:22  01000007   \n",
       "\n",
       "  availability  raw_data  new_cordinate_id  \n",
       "0            A       NaN               NaN  \n",
       "1            A       NaN               NaN  \n",
       "2            A       NaN               NaN  \n",
       "3            A       NaN               NaN  \n",
       "4            A       NaN               NaN  "
      ]
     },
     "execution_count": 2,
     "metadata": {},
     "output_type": "execute_result"
    }
   ],
   "source": [
    "df.head()"
   ]
  },
  {
   "cell_type": "markdown",
   "metadata": {},
   "source": [
    "Helper functions:\n"
   ]
  },
  {
   "cell_type": "code",
   "execution_count": 3,
   "metadata": {
    "collapsed": true
   },
   "outputs": [],
   "source": [
    "def fuel_from_io_state(io_state, fuel_start_index=6, fuel_end_index=8):\n",
    "    if io_state[1] == '1':\n",
    "        return int(io_state[fuel_start_index - 1:fuel_end_index], 16)\n",
    "    else:\n",
    "        return -1\n",
    "\n",
    "def read_and_add_deltas(file_name):\n",
    "    device_data = pd.read_csv(file_name)\n",
    "    device_data['fuel'] = device_data['io_state'].apply(fuel_from_io_state)\n",
    "    device_data['distance_diff'] = device_data['distance'].diff()\n",
    "    device_data['received_date'] = pd.to_datetime(device_data['received_at'])\n",
    "    device_data.set_index('received_date', inplace=True)\n",
    "    device_data.reindex()\n",
    "    device_data.sort_index(inplace=True)\n",
    "    return device_data\n"
   ]
  },
  {
   "cell_type": "code",
   "execution_count": 4,
   "metadata": {},
   "outputs": [],
   "source": [
    "d_data = read_and_add_deltas('./csvs/008527945276.csv')"
   ]
  },
  {
   "cell_type": "code",
   "execution_count": 5,
   "metadata": {},
   "outputs": [
    {
     "data": {
      "text/html": [
       "<div>\n",
       "<table border=\"1\" class=\"dataframe\">\n",
       "  <thead>\n",
       "    <tr style=\"text-align: right;\">\n",
       "      <th></th>\n",
       "      <th>id</th>\n",
       "      <th>lat</th>\n",
       "      <th>long</th>\n",
       "      <th>created_at</th>\n",
       "      <th>updated_at</th>\n",
       "      <th>device_id</th>\n",
       "      <th>speed</th>\n",
       "      <th>orientation</th>\n",
       "      <th>distance</th>\n",
       "      <th>received_at</th>\n",
       "      <th>io_state</th>\n",
       "      <th>availability</th>\n",
       "      <th>raw_data</th>\n",
       "      <th>new_cordinate_id</th>\n",
       "      <th>fuel</th>\n",
       "      <th>distance_diff</th>\n",
       "    </tr>\n",
       "    <tr>\n",
       "      <th>received_date</th>\n",
       "      <th></th>\n",
       "      <th></th>\n",
       "      <th></th>\n",
       "      <th></th>\n",
       "      <th></th>\n",
       "      <th></th>\n",
       "      <th></th>\n",
       "      <th></th>\n",
       "      <th></th>\n",
       "      <th></th>\n",
       "      <th></th>\n",
       "      <th></th>\n",
       "      <th></th>\n",
       "      <th></th>\n",
       "      <th></th>\n",
       "      <th></th>\n",
       "    </tr>\n",
       "  </thead>\n",
       "  <tbody>\n",
       "    <tr>\n",
       "      <th>2018-01-13 07:10:24</th>\n",
       "      <td>2.025505e+09</td>\n",
       "      <td>28.710615</td>\n",
       "      <td>77.179970</td>\n",
       "      <td>2018-01-13 07:10:41</td>\n",
       "      <td>NaN</td>\n",
       "      <td>8527945276</td>\n",
       "      <td>1.1</td>\n",
       "      <td>0.0</td>\n",
       "      <td>6</td>\n",
       "      <td>2018-01-13 07:10:24</td>\n",
       "      <td>01000007</td>\n",
       "      <td>A</td>\n",
       "      <td>NaN</td>\n",
       "      <td>NaN</td>\n",
       "      <td>7</td>\n",
       "      <td>-250.0</td>\n",
       "    </tr>\n",
       "    <tr>\n",
       "      <th>2018-01-13 07:10:58</th>\n",
       "      <td>2.025505e+09</td>\n",
       "      <td>28.710595</td>\n",
       "      <td>77.180145</td>\n",
       "      <td>2018-01-13 07:11:14</td>\n",
       "      <td>NaN</td>\n",
       "      <td>8527945276</td>\n",
       "      <td>1.8</td>\n",
       "      <td>87.4</td>\n",
       "      <td>21</td>\n",
       "      <td>2018-01-13 07:10:58</td>\n",
       "      <td>01000007</td>\n",
       "      <td>A</td>\n",
       "      <td>NaN</td>\n",
       "      <td>NaN</td>\n",
       "      <td>7</td>\n",
       "      <td>15.0</td>\n",
       "    </tr>\n",
       "    <tr>\n",
       "      <th>2018-01-13 07:11:22</th>\n",
       "      <td>2.025505e+09</td>\n",
       "      <td>28.710597</td>\n",
       "      <td>77.180138</td>\n",
       "      <td>2018-01-13 07:11:24</td>\n",
       "      <td>NaN</td>\n",
       "      <td>8527945276</td>\n",
       "      <td>1.1</td>\n",
       "      <td>0.0</td>\n",
       "      <td>26</td>\n",
       "      <td>2018-01-13 07:11:22</td>\n",
       "      <td>01000007</td>\n",
       "      <td>A</td>\n",
       "      <td>NaN</td>\n",
       "      <td>NaN</td>\n",
       "      <td>7</td>\n",
       "      <td>5.0</td>\n",
       "    </tr>\n",
       "    <tr>\n",
       "      <th>2018-01-13 07:12:22</th>\n",
       "      <td>2.025505e+09</td>\n",
       "      <td>28.710588</td>\n",
       "      <td>77.180013</td>\n",
       "      <td>2018-01-13 07:12:26</td>\n",
       "      <td>NaN</td>\n",
       "      <td>8527945276</td>\n",
       "      <td>0.9</td>\n",
       "      <td>0.0</td>\n",
       "      <td>50</td>\n",
       "      <td>2018-01-13 07:12:22</td>\n",
       "      <td>01000007</td>\n",
       "      <td>A</td>\n",
       "      <td>NaN</td>\n",
       "      <td>NaN</td>\n",
       "      <td>7</td>\n",
       "      <td>24.0</td>\n",
       "    </tr>\n",
       "    <tr>\n",
       "      <th>2018-01-13 07:13:22</th>\n",
       "      <td>2.025505e+09</td>\n",
       "      <td>28.710562</td>\n",
       "      <td>77.180140</td>\n",
       "      <td>2018-01-13 07:13:26</td>\n",
       "      <td>NaN</td>\n",
       "      <td>8527945276</td>\n",
       "      <td>1.1</td>\n",
       "      <td>0.0</td>\n",
       "      <td>70</td>\n",
       "      <td>2018-01-13 07:13:22</td>\n",
       "      <td>01000007</td>\n",
       "      <td>A</td>\n",
       "      <td>NaN</td>\n",
       "      <td>NaN</td>\n",
       "      <td>7</td>\n",
       "      <td>20.0</td>\n",
       "    </tr>\n",
       "  </tbody>\n",
       "</table>\n",
       "</div>"
      ],
      "text/plain": [
       "                               id        lat       long           created_at  \\\n",
       "received_date                                                                  \n",
       "2018-01-13 07:10:24  2.025505e+09  28.710615  77.179970  2018-01-13 07:10:41   \n",
       "2018-01-13 07:10:58  2.025505e+09  28.710595  77.180145  2018-01-13 07:11:14   \n",
       "2018-01-13 07:11:22  2.025505e+09  28.710597  77.180138  2018-01-13 07:11:24   \n",
       "2018-01-13 07:12:22  2.025505e+09  28.710588  77.180013  2018-01-13 07:12:26   \n",
       "2018-01-13 07:13:22  2.025505e+09  28.710562  77.180140  2018-01-13 07:13:26   \n",
       "\n",
       "                     updated_at   device_id  speed  orientation  distance  \\\n",
       "received_date                                                               \n",
       "2018-01-13 07:10:24         NaN  8527945276    1.1          0.0         6   \n",
       "2018-01-13 07:10:58         NaN  8527945276    1.8         87.4        21   \n",
       "2018-01-13 07:11:22         NaN  8527945276    1.1          0.0        26   \n",
       "2018-01-13 07:12:22         NaN  8527945276    0.9          0.0        50   \n",
       "2018-01-13 07:13:22         NaN  8527945276    1.1          0.0        70   \n",
       "\n",
       "                             received_at  io_state availability  raw_data  \\\n",
       "received_date                                                               \n",
       "2018-01-13 07:10:24  2018-01-13 07:10:24  01000007            A       NaN   \n",
       "2018-01-13 07:10:58  2018-01-13 07:10:58  01000007            A       NaN   \n",
       "2018-01-13 07:11:22  2018-01-13 07:11:22  01000007            A       NaN   \n",
       "2018-01-13 07:12:22  2018-01-13 07:12:22  01000007            A       NaN   \n",
       "2018-01-13 07:13:22  2018-01-13 07:13:22  01000007            A       NaN   \n",
       "\n",
       "                     new_cordinate_id  fuel  distance_diff  \n",
       "received_date                                               \n",
       "2018-01-13 07:10:24               NaN     7         -250.0  \n",
       "2018-01-13 07:10:58               NaN     7           15.0  \n",
       "2018-01-13 07:11:22               NaN     7            5.0  \n",
       "2018-01-13 07:12:22               NaN     7           24.0  \n",
       "2018-01-13 07:13:22               NaN     7           20.0  "
      ]
     },
     "execution_count": 5,
     "metadata": {},
     "output_type": "execute_result"
    }
   ],
   "source": [
    "d_data.head()"
   ]
  },
  {
   "cell_type": "code",
   "execution_count": 6,
   "metadata": {
    "collapsed": true
   },
   "outputs": [],
   "source": [
    "import matplotlib.pyplot as plt\n",
    "%matplotlib inline"
   ]
  },
  {
   "cell_type": "code",
   "execution_count": 7,
   "metadata": {},
   "outputs": [
    {
     "name": "stderr",
     "output_type": "stream",
     "text": [
      "/home/piyush/anaconda/lib/python3.5/site-packages/numpy/lib/function_base.py:3834: RuntimeWarning: Invalid value encountered in percentile\n",
      "  RuntimeWarning)\n"
     ]
    },
    {
     "data": {
      "text/html": [
       "<div>\n",
       "<table border=\"1\" class=\"dataframe\">\n",
       "  <thead>\n",
       "    <tr style=\"text-align: right;\">\n",
       "      <th></th>\n",
       "      <th>id</th>\n",
       "      <th>lat</th>\n",
       "      <th>long</th>\n",
       "      <th>updated_at</th>\n",
       "      <th>device_id</th>\n",
       "      <th>speed</th>\n",
       "      <th>orientation</th>\n",
       "      <th>distance</th>\n",
       "      <th>raw_data</th>\n",
       "      <th>new_cordinate_id</th>\n",
       "      <th>fuel</th>\n",
       "      <th>distance_diff</th>\n",
       "    </tr>\n",
       "  </thead>\n",
       "  <tbody>\n",
       "    <tr>\n",
       "      <th>count</th>\n",
       "      <td>1.474000e+04</td>\n",
       "      <td>67848.000000</td>\n",
       "      <td>67848.000000</td>\n",
       "      <td>0.0</td>\n",
       "      <td>6.784800e+04</td>\n",
       "      <td>67848.000000</td>\n",
       "      <td>67848.000000</td>\n",
       "      <td>6.784800e+04</td>\n",
       "      <td>0.0</td>\n",
       "      <td>5.310800e+04</td>\n",
       "      <td>67848.000000</td>\n",
       "      <td>67847.000000</td>\n",
       "    </tr>\n",
       "    <tr>\n",
       "      <th>mean</th>\n",
       "      <td>2.118573e+09</td>\n",
       "      <td>25.700896</td>\n",
       "      <td>81.195784</td>\n",
       "      <td>NaN</td>\n",
       "      <td>8.527945e+09</td>\n",
       "      <td>9.100312</td>\n",
       "      <td>46.088113</td>\n",
       "      <td>2.456494e+06</td>\n",
       "      <td>NaN</td>\n",
       "      <td>2.255783e+09</td>\n",
       "      <td>94.841027</td>\n",
       "      <td>77.216443</td>\n",
       "    </tr>\n",
       "    <tr>\n",
       "      <th>std</th>\n",
       "      <td>1.749940e+07</td>\n",
       "      <td>1.917497</td>\n",
       "      <td>3.963588</td>\n",
       "      <td>NaN</td>\n",
       "      <td>0.000000e+00</td>\n",
       "      <td>17.076101</td>\n",
       "      <td>91.752710</td>\n",
       "      <td>1.621015e+06</td>\n",
       "      <td>NaN</td>\n",
       "      <td>6.370789e+07</td>\n",
       "      <td>171.824029</td>\n",
       "      <td>14342.764120</td>\n",
       "    </tr>\n",
       "    <tr>\n",
       "      <th>min</th>\n",
       "      <td>2.025505e+09</td>\n",
       "      <td>20.163948</td>\n",
       "      <td>74.846973</td>\n",
       "      <td>NaN</td>\n",
       "      <td>8.527945e+09</td>\n",
       "      <td>0.000000</td>\n",
       "      <td>0.000000</td>\n",
       "      <td>0.000000e+00</td>\n",
       "      <td>NaN</td>\n",
       "      <td>2.147498e+09</td>\n",
       "      <td>-1.000000</td>\n",
       "      <td>-191312.000000</td>\n",
       "    </tr>\n",
       "    <tr>\n",
       "      <th>25%</th>\n",
       "      <td>NaN</td>\n",
       "      <td>25.248470</td>\n",
       "      <td>77.727443</td>\n",
       "      <td>NaN</td>\n",
       "      <td>8.527945e+09</td>\n",
       "      <td>0.000000</td>\n",
       "      <td>0.000000</td>\n",
       "      <td>9.775350e+05</td>\n",
       "      <td>NaN</td>\n",
       "      <td>NaN</td>\n",
       "      <td>-1.000000</td>\n",
       "      <td>NaN</td>\n",
       "    </tr>\n",
       "    <tr>\n",
       "      <th>50%</th>\n",
       "      <td>NaN</td>\n",
       "      <td>26.556853</td>\n",
       "      <td>80.942253</td>\n",
       "      <td>NaN</td>\n",
       "      <td>8.527945e+09</td>\n",
       "      <td>0.000000</td>\n",
       "      <td>0.000000</td>\n",
       "      <td>2.428795e+06</td>\n",
       "      <td>NaN</td>\n",
       "      <td>NaN</td>\n",
       "      <td>-1.000000</td>\n",
       "      <td>NaN</td>\n",
       "    </tr>\n",
       "    <tr>\n",
       "      <th>75%</th>\n",
       "      <td>NaN</td>\n",
       "      <td>26.785690</td>\n",
       "      <td>85.358423</td>\n",
       "      <td>NaN</td>\n",
       "      <td>8.527945e+09</td>\n",
       "      <td>6.450000</td>\n",
       "      <td>32.780000</td>\n",
       "      <td>4.029578e+06</td>\n",
       "      <td>NaN</td>\n",
       "      <td>NaN</td>\n",
       "      <td>102.000000</td>\n",
       "      <td>NaN</td>\n",
       "    </tr>\n",
       "    <tr>\n",
       "      <th>max</th>\n",
       "      <td>2.147482e+09</td>\n",
       "      <td>28.710867</td>\n",
       "      <td>86.737023</td>\n",
       "      <td>NaN</td>\n",
       "      <td>8.527945e+09</td>\n",
       "      <td>69.400000</td>\n",
       "      <td>360.000000</td>\n",
       "      <td>5.239160e+06</td>\n",
       "      <td>NaN</td>\n",
       "      <td>2.369778e+09</td>\n",
       "      <td>599.000000</td>\n",
       "      <td>191420.000000</td>\n",
       "    </tr>\n",
       "  </tbody>\n",
       "</table>\n",
       "</div>"
      ],
      "text/plain": [
       "                 id           lat          long  updated_at     device_id  \\\n",
       "count  1.474000e+04  67848.000000  67848.000000         0.0  6.784800e+04   \n",
       "mean   2.118573e+09     25.700896     81.195784         NaN  8.527945e+09   \n",
       "std    1.749940e+07      1.917497      3.963588         NaN  0.000000e+00   \n",
       "min    2.025505e+09     20.163948     74.846973         NaN  8.527945e+09   \n",
       "25%             NaN     25.248470     77.727443         NaN  8.527945e+09   \n",
       "50%             NaN     26.556853     80.942253         NaN  8.527945e+09   \n",
       "75%             NaN     26.785690     85.358423         NaN  8.527945e+09   \n",
       "max    2.147482e+09     28.710867     86.737023         NaN  8.527945e+09   \n",
       "\n",
       "              speed   orientation      distance  raw_data  new_cordinate_id  \\\n",
       "count  67848.000000  67848.000000  6.784800e+04       0.0      5.310800e+04   \n",
       "mean       9.100312     46.088113  2.456494e+06       NaN      2.255783e+09   \n",
       "std       17.076101     91.752710  1.621015e+06       NaN      6.370789e+07   \n",
       "min        0.000000      0.000000  0.000000e+00       NaN      2.147498e+09   \n",
       "25%        0.000000      0.000000  9.775350e+05       NaN               NaN   \n",
       "50%        0.000000      0.000000  2.428795e+06       NaN               NaN   \n",
       "75%        6.450000     32.780000  4.029578e+06       NaN               NaN   \n",
       "max       69.400000    360.000000  5.239160e+06       NaN      2.369778e+09   \n",
       "\n",
       "               fuel  distance_diff  \n",
       "count  67848.000000   67847.000000  \n",
       "mean      94.841027      77.216443  \n",
       "std      171.824029   14342.764120  \n",
       "min       -1.000000 -191312.000000  \n",
       "25%       -1.000000            NaN  \n",
       "50%       -1.000000            NaN  \n",
       "75%      102.000000            NaN  \n",
       "max      599.000000  191420.000000  "
      ]
     },
     "execution_count": 7,
     "metadata": {},
     "output_type": "execute_result"
    }
   ],
   "source": [
    "d_data.describe()"
   ]
  },
  {
   "cell_type": "code",
   "execution_count": 8,
   "metadata": {},
   "outputs": [
    {
     "name": "stdout",
     "output_type": "stream",
     "text": [
      "<class 'pandas.core.frame.DataFrame'>\n",
      "DatetimeIndex: 67848 entries, 2018-01-13 07:10:24 to 2018-02-15 11:50:23\n",
      "Data columns (total 16 columns):\n",
      "id                  14740 non-null float64\n",
      "lat                 67848 non-null float64\n",
      "long                67848 non-null float64\n",
      "created_at          67848 non-null object\n",
      "updated_at          0 non-null float64\n",
      "device_id           67848 non-null int64\n",
      "speed               67848 non-null float64\n",
      "orientation         67848 non-null float64\n",
      "distance            67848 non-null int64\n",
      "received_at         67848 non-null object\n",
      "io_state            67848 non-null object\n",
      "availability        67848 non-null object\n",
      "raw_data            0 non-null float64\n",
      "new_cordinate_id    53108 non-null float64\n",
      "fuel                67848 non-null int64\n",
      "distance_diff       67847 non-null float64\n",
      "dtypes: float64(9), int64(3), object(4)\n",
      "memory usage: 8.8+ MB\n"
     ]
    }
   ],
   "source": [
    "d_data.info()"
   ]
  },
  {
   "cell_type": "markdown",
   "metadata": {},
   "source": [
    "Dropping the null and irrelevant columns."
   ]
  },
  {
   "cell_type": "code",
   "execution_count": 9,
   "metadata": {},
   "outputs": [],
   "source": [
    "relevant_data = d_data.loc[:,['id', 'speed', 'orientation', 'distance', 'fuel', 'distance_diff']]"
   ]
  },
  {
   "cell_type": "code",
   "execution_count": 10,
   "metadata": {},
   "outputs": [
    {
     "data": {
      "text/html": [
       "<div>\n",
       "<table border=\"1\" class=\"dataframe\">\n",
       "  <thead>\n",
       "    <tr style=\"text-align: right;\">\n",
       "      <th></th>\n",
       "      <th>id</th>\n",
       "      <th>speed</th>\n",
       "      <th>orientation</th>\n",
       "      <th>distance</th>\n",
       "      <th>fuel</th>\n",
       "      <th>distance_diff</th>\n",
       "    </tr>\n",
       "    <tr>\n",
       "      <th>received_date</th>\n",
       "      <th></th>\n",
       "      <th></th>\n",
       "      <th></th>\n",
       "      <th></th>\n",
       "      <th></th>\n",
       "      <th></th>\n",
       "    </tr>\n",
       "  </thead>\n",
       "  <tbody>\n",
       "    <tr>\n",
       "      <th>2018-01-13 07:10:24</th>\n",
       "      <td>2.025505e+09</td>\n",
       "      <td>1.1</td>\n",
       "      <td>0.0</td>\n",
       "      <td>6</td>\n",
       "      <td>7</td>\n",
       "      <td>-250.0</td>\n",
       "    </tr>\n",
       "    <tr>\n",
       "      <th>2018-01-13 07:10:58</th>\n",
       "      <td>2.025505e+09</td>\n",
       "      <td>1.8</td>\n",
       "      <td>87.4</td>\n",
       "      <td>21</td>\n",
       "      <td>7</td>\n",
       "      <td>15.0</td>\n",
       "    </tr>\n",
       "    <tr>\n",
       "      <th>2018-01-13 07:11:22</th>\n",
       "      <td>2.025505e+09</td>\n",
       "      <td>1.1</td>\n",
       "      <td>0.0</td>\n",
       "      <td>26</td>\n",
       "      <td>7</td>\n",
       "      <td>5.0</td>\n",
       "    </tr>\n",
       "    <tr>\n",
       "      <th>2018-01-13 07:12:22</th>\n",
       "      <td>2.025505e+09</td>\n",
       "      <td>0.9</td>\n",
       "      <td>0.0</td>\n",
       "      <td>50</td>\n",
       "      <td>7</td>\n",
       "      <td>24.0</td>\n",
       "    </tr>\n",
       "    <tr>\n",
       "      <th>2018-01-13 07:13:22</th>\n",
       "      <td>2.025505e+09</td>\n",
       "      <td>1.1</td>\n",
       "      <td>0.0</td>\n",
       "      <td>70</td>\n",
       "      <td>7</td>\n",
       "      <td>20.0</td>\n",
       "    </tr>\n",
       "  </tbody>\n",
       "</table>\n",
       "</div>"
      ],
      "text/plain": [
       "                               id  speed  orientation  distance  fuel  \\\n",
       "received_date                                                           \n",
       "2018-01-13 07:10:24  2.025505e+09    1.1          0.0         6     7   \n",
       "2018-01-13 07:10:58  2.025505e+09    1.8         87.4        21     7   \n",
       "2018-01-13 07:11:22  2.025505e+09    1.1          0.0        26     7   \n",
       "2018-01-13 07:12:22  2.025505e+09    0.9          0.0        50     7   \n",
       "2018-01-13 07:13:22  2.025505e+09    1.1          0.0        70     7   \n",
       "\n",
       "                     distance_diff  \n",
       "received_date                       \n",
       "2018-01-13 07:10:24         -250.0  \n",
       "2018-01-13 07:10:58           15.0  \n",
       "2018-01-13 07:11:22            5.0  \n",
       "2018-01-13 07:12:22           24.0  \n",
       "2018-01-13 07:13:22           20.0  "
      ]
     },
     "execution_count": 10,
     "metadata": {},
     "output_type": "execute_result"
    }
   ],
   "source": [
    "relevant_data.head()"
   ]
  },
  {
   "cell_type": "code",
   "execution_count": 11,
   "metadata": {},
   "outputs": [
    {
     "name": "stdout",
     "output_type": "stream",
     "text": [
      "<class 'pandas.core.frame.DataFrame'>\n",
      "DatetimeIndex: 67848 entries, 2018-01-13 07:10:24 to 2018-02-15 11:50:23\n",
      "Data columns (total 6 columns):\n",
      "id               14740 non-null float64\n",
      "speed            67848 non-null float64\n",
      "orientation      67848 non-null float64\n",
      "distance         67848 non-null int64\n",
      "fuel             67848 non-null int64\n",
      "distance_diff    67847 non-null float64\n",
      "dtypes: float64(4), int64(2)\n",
      "memory usage: 3.6 MB\n"
     ]
    }
   ],
   "source": [
    "relevant_data.info()"
   ]
  },
  {
   "cell_type": "code",
   "execution_count": 12,
   "metadata": {},
   "outputs": [
    {
     "name": "stderr",
     "output_type": "stream",
     "text": [
      "/home/piyush/anaconda/lib/python3.5/site-packages/numpy/lib/function_base.py:3834: RuntimeWarning: Invalid value encountered in percentile\n",
      "  RuntimeWarning)\n"
     ]
    },
    {
     "data": {
      "text/html": [
       "<div>\n",
       "<table border=\"1\" class=\"dataframe\">\n",
       "  <thead>\n",
       "    <tr style=\"text-align: right;\">\n",
       "      <th></th>\n",
       "      <th>id</th>\n",
       "      <th>speed</th>\n",
       "      <th>orientation</th>\n",
       "      <th>distance</th>\n",
       "      <th>fuel</th>\n",
       "      <th>distance_diff</th>\n",
       "    </tr>\n",
       "  </thead>\n",
       "  <tbody>\n",
       "    <tr>\n",
       "      <th>count</th>\n",
       "      <td>1.474000e+04</td>\n",
       "      <td>67848.000000</td>\n",
       "      <td>67848.000000</td>\n",
       "      <td>6.784800e+04</td>\n",
       "      <td>67848.000000</td>\n",
       "      <td>67847.000000</td>\n",
       "    </tr>\n",
       "    <tr>\n",
       "      <th>mean</th>\n",
       "      <td>2.118573e+09</td>\n",
       "      <td>9.100312</td>\n",
       "      <td>46.088113</td>\n",
       "      <td>2.456494e+06</td>\n",
       "      <td>94.841027</td>\n",
       "      <td>77.216443</td>\n",
       "    </tr>\n",
       "    <tr>\n",
       "      <th>std</th>\n",
       "      <td>1.749940e+07</td>\n",
       "      <td>17.076101</td>\n",
       "      <td>91.752710</td>\n",
       "      <td>1.621015e+06</td>\n",
       "      <td>171.824029</td>\n",
       "      <td>14342.764120</td>\n",
       "    </tr>\n",
       "    <tr>\n",
       "      <th>min</th>\n",
       "      <td>2.025505e+09</td>\n",
       "      <td>0.000000</td>\n",
       "      <td>0.000000</td>\n",
       "      <td>0.000000e+00</td>\n",
       "      <td>-1.000000</td>\n",
       "      <td>-191312.000000</td>\n",
       "    </tr>\n",
       "    <tr>\n",
       "      <th>25%</th>\n",
       "      <td>NaN</td>\n",
       "      <td>0.000000</td>\n",
       "      <td>0.000000</td>\n",
       "      <td>9.775350e+05</td>\n",
       "      <td>-1.000000</td>\n",
       "      <td>NaN</td>\n",
       "    </tr>\n",
       "    <tr>\n",
       "      <th>50%</th>\n",
       "      <td>NaN</td>\n",
       "      <td>0.000000</td>\n",
       "      <td>0.000000</td>\n",
       "      <td>2.428795e+06</td>\n",
       "      <td>-1.000000</td>\n",
       "      <td>NaN</td>\n",
       "    </tr>\n",
       "    <tr>\n",
       "      <th>75%</th>\n",
       "      <td>NaN</td>\n",
       "      <td>6.450000</td>\n",
       "      <td>32.780000</td>\n",
       "      <td>4.029578e+06</td>\n",
       "      <td>102.000000</td>\n",
       "      <td>NaN</td>\n",
       "    </tr>\n",
       "    <tr>\n",
       "      <th>max</th>\n",
       "      <td>2.147482e+09</td>\n",
       "      <td>69.400000</td>\n",
       "      <td>360.000000</td>\n",
       "      <td>5.239160e+06</td>\n",
       "      <td>599.000000</td>\n",
       "      <td>191420.000000</td>\n",
       "    </tr>\n",
       "  </tbody>\n",
       "</table>\n",
       "</div>"
      ],
      "text/plain": [
       "                 id         speed   orientation      distance          fuel  \\\n",
       "count  1.474000e+04  67848.000000  67848.000000  6.784800e+04  67848.000000   \n",
       "mean   2.118573e+09      9.100312     46.088113  2.456494e+06     94.841027   \n",
       "std    1.749940e+07     17.076101     91.752710  1.621015e+06    171.824029   \n",
       "min    2.025505e+09      0.000000      0.000000  0.000000e+00     -1.000000   \n",
       "25%             NaN      0.000000      0.000000  9.775350e+05     -1.000000   \n",
       "50%             NaN      0.000000      0.000000  2.428795e+06     -1.000000   \n",
       "75%             NaN      6.450000     32.780000  4.029578e+06    102.000000   \n",
       "max    2.147482e+09     69.400000    360.000000  5.239160e+06    599.000000   \n",
       "\n",
       "       distance_diff  \n",
       "count   67847.000000  \n",
       "mean       77.216443  \n",
       "std     14342.764120  \n",
       "min   -191312.000000  \n",
       "25%              NaN  \n",
       "50%              NaN  \n",
       "75%              NaN  \n",
       "max    191420.000000  "
      ]
     },
     "execution_count": 12,
     "metadata": {},
     "output_type": "execute_result"
    }
   ],
   "source": [
    "relevant_data.describe()"
   ]
  },
  {
   "cell_type": "code",
   "execution_count": 13,
   "metadata": {},
   "outputs": [
    {
     "data": {
      "text/plain": [
       "<matplotlib.axes._subplots.AxesSubplot at 0x7f6509233668>"
      ]
     },
     "execution_count": 13,
     "metadata": {},
     "output_type": "execute_result"
    },
    {
     "data": {
      "image/png": "[encoded data removed]",
      "text/plain": [
       "<matplotlib.figure.Figure at 0x7f65074c5eb8>"
      ]
     },
     "metadata": {},
     "output_type": "display_data"
    }
   ],
   "source": [
    "relevant_data['distance_diff'].hist()"
   ]
  },
  {
   "cell_type": "code",
   "execution_count": 14,
   "metadata": {},
   "outputs": [
    {
     "data": {
      "text/plain": [
       "<matplotlib.axes._subplots.AxesSubplot at 0x7f650b2d3be0>"
      ]
     },
     "execution_count": 14,
     "metadata": {},
     "output_type": "execute_result"
    },
    {
     "data": {
      "image/png": "[encoded data removed]",
      "text/plain": [
       "<matplotlib.figure.Figure at 0x7f65074c5cf8>"
      ]
     },
     "metadata": {},
     "output_type": "display_data"
    }
   ],
   "source": [
    "relevant_data['fuel'].plot()"
   ]
  },
  {
   "cell_type": "markdown",
   "metadata": {},
   "source": [
    "Looking at the data where the fuel levels are less than equal to zero"
   ]
  },
  {
   "cell_type": "code",
   "execution_count": 15,
   "metadata": {
    "collapsed": true
   },
   "outputs": [],
   "source": [
    "condition = relevant_data['fuel'] <= 0\n",
    "lowfuel_data = relevant_data[condition]"
   ]
  },
  {
   "cell_type": "code",
   "execution_count": 16,
   "metadata": {},
   "outputs": [
    {
     "data": {
      "text/html": [
       "<div>\n",
       "<table border=\"1\" class=\"dataframe\">\n",
       "  <thead>\n",
       "    <tr style=\"text-align: right;\">\n",
       "      <th></th>\n",
       "      <th>id</th>\n",
       "      <th>speed</th>\n",
       "      <th>orientation</th>\n",
       "      <th>distance</th>\n",
       "      <th>fuel</th>\n",
       "      <th>distance_diff</th>\n",
       "    </tr>\n",
       "    <tr>\n",
       "      <th>received_date</th>\n",
       "      <th></th>\n",
       "      <th></th>\n",
       "      <th></th>\n",
       "      <th></th>\n",
       "      <th></th>\n",
       "      <th></th>\n",
       "    </tr>\n",
       "  </thead>\n",
       "  <tbody>\n",
       "    <tr>\n",
       "      <th>2018-01-20 05:31:58</th>\n",
       "      <td>2.090984e+09</td>\n",
       "      <td>0.0</td>\n",
       "      <td>0.0</td>\n",
       "      <td>0</td>\n",
       "      <td>-1</td>\n",
       "      <td>-499.0</td>\n",
       "    </tr>\n",
       "    <tr>\n",
       "      <th>2018-01-20 05:32:42</th>\n",
       "      <td>2.090988e+09</td>\n",
       "      <td>0.1</td>\n",
       "      <td>0.0</td>\n",
       "      <td>0</td>\n",
       "      <td>-1</td>\n",
       "      <td>0.0</td>\n",
       "    </tr>\n",
       "    <tr>\n",
       "      <th>2018-01-20 05:37:14</th>\n",
       "      <td>2.091022e+09</td>\n",
       "      <td>0.0</td>\n",
       "      <td>0.0</td>\n",
       "      <td>1</td>\n",
       "      <td>-1</td>\n",
       "      <td>1.0</td>\n",
       "    </tr>\n",
       "    <tr>\n",
       "      <th>2018-01-20 05:37:45</th>\n",
       "      <td>2.091026e+09</td>\n",
       "      <td>0.0</td>\n",
       "      <td>0.0</td>\n",
       "      <td>1</td>\n",
       "      <td>-1</td>\n",
       "      <td>0.0</td>\n",
       "    </tr>\n",
       "    <tr>\n",
       "      <th>2018-01-20 05:38:14</th>\n",
       "      <td>2.091029e+09</td>\n",
       "      <td>0.0</td>\n",
       "      <td>0.0</td>\n",
       "      <td>1</td>\n",
       "      <td>-1</td>\n",
       "      <td>0.0</td>\n",
       "    </tr>\n",
       "  </tbody>\n",
       "</table>\n",
       "</div>"
      ],
      "text/plain": [
       "                               id  speed  orientation  distance  fuel  \\\n",
       "received_date                                                           \n",
       "2018-01-20 05:31:58  2.090984e+09    0.0          0.0         0    -1   \n",
       "2018-01-20 05:32:42  2.090988e+09    0.1          0.0         0    -1   \n",
       "2018-01-20 05:37:14  2.091022e+09    0.0          0.0         1    -1   \n",
       "2018-01-20 05:37:45  2.091026e+09    0.0          0.0         1    -1   \n",
       "2018-01-20 05:38:14  2.091029e+09    0.0          0.0         1    -1   \n",
       "\n",
       "                     distance_diff  \n",
       "received_date                       \n",
       "2018-01-20 05:31:58         -499.0  \n",
       "2018-01-20 05:32:42            0.0  \n",
       "2018-01-20 05:37:14            1.0  \n",
       "2018-01-20 05:37:45            0.0  \n",
       "2018-01-20 05:38:14            0.0  "
      ]
     },
     "execution_count": 16,
     "metadata": {},
     "output_type": "execute_result"
    }
   ],
   "source": [
    "lowfuel_data.head()"
   ]
  },
  {
   "cell_type": "code",
   "execution_count": 17,
   "metadata": {},
   "outputs": [
    {
     "name": "stderr",
     "output_type": "stream",
     "text": [
      "/home/piyush/anaconda/lib/python3.5/site-packages/numpy/lib/function_base.py:3834: RuntimeWarning: Invalid value encountered in percentile\n",
      "  RuntimeWarning)\n"
     ]
    },
    {
     "data": {
      "text/html": [
       "<div>\n",
       "<table border=\"1\" class=\"dataframe\">\n",
       "  <thead>\n",
       "    <tr style=\"text-align: right;\">\n",
       "      <th></th>\n",
       "      <th>id</th>\n",
       "      <th>speed</th>\n",
       "      <th>orientation</th>\n",
       "      <th>distance</th>\n",
       "      <th>fuel</th>\n",
       "      <th>distance_diff</th>\n",
       "    </tr>\n",
       "  </thead>\n",
       "  <tbody>\n",
       "    <tr>\n",
       "      <th>count</th>\n",
       "      <td>1.118100e+04</td>\n",
       "      <td>47258.000000</td>\n",
       "      <td>47258.000000</td>\n",
       "      <td>4.725800e+04</td>\n",
       "      <td>47258.0</td>\n",
       "      <td>47258.000000</td>\n",
       "    </tr>\n",
       "    <tr>\n",
       "      <th>mean</th>\n",
       "      <td>2.117639e+09</td>\n",
       "      <td>0.001361</td>\n",
       "      <td>0.087134</td>\n",
       "      <td>2.412794e+06</td>\n",
       "      <td>-1.0</td>\n",
       "      <td>-168.084769</td>\n",
       "    </tr>\n",
       "    <tr>\n",
       "      <th>std</th>\n",
       "      <td>1.634545e+07</td>\n",
       "      <td>0.145397</td>\n",
       "      <td>4.992688</td>\n",
       "      <td>1.676113e+06</td>\n",
       "      <td>0.0</td>\n",
       "      <td>13876.301028</td>\n",
       "    </tr>\n",
       "    <tr>\n",
       "      <th>min</th>\n",
       "      <td>2.090984e+09</td>\n",
       "      <td>0.000000</td>\n",
       "      <td>0.000000</td>\n",
       "      <td>0.000000e+00</td>\n",
       "      <td>-1.0</td>\n",
       "      <td>-189633.000000</td>\n",
       "    </tr>\n",
       "    <tr>\n",
       "      <th>25%</th>\n",
       "      <td>NaN</td>\n",
       "      <td>0.000000</td>\n",
       "      <td>0.000000</td>\n",
       "      <td>9.377630e+05</td>\n",
       "      <td>-1.0</td>\n",
       "      <td>0.000000</td>\n",
       "    </tr>\n",
       "    <tr>\n",
       "      <th>50%</th>\n",
       "      <td>NaN</td>\n",
       "      <td>0.000000</td>\n",
       "      <td>0.000000</td>\n",
       "      <td>2.246898e+06</td>\n",
       "      <td>-1.0</td>\n",
       "      <td>0.000000</td>\n",
       "    </tr>\n",
       "    <tr>\n",
       "      <th>75%</th>\n",
       "      <td>NaN</td>\n",
       "      <td>0.000000</td>\n",
       "      <td>0.000000</td>\n",
       "      <td>4.029578e+06</td>\n",
       "      <td>-1.0</td>\n",
       "      <td>0.000000</td>\n",
       "    </tr>\n",
       "    <tr>\n",
       "      <th>max</th>\n",
       "      <td>2.146868e+09</td>\n",
       "      <td>19.800000</td>\n",
       "      <td>359.830000</td>\n",
       "      <td>5.239160e+06</td>\n",
       "      <td>-1.0</td>\n",
       "      <td>135053.000000</td>\n",
       "    </tr>\n",
       "  </tbody>\n",
       "</table>\n",
       "</div>"
      ],
      "text/plain": [
       "                 id         speed   orientation      distance     fuel  \\\n",
       "count  1.118100e+04  47258.000000  47258.000000  4.725800e+04  47258.0   \n",
       "mean   2.117639e+09      0.001361      0.087134  2.412794e+06     -1.0   \n",
       "std    1.634545e+07      0.145397      4.992688  1.676113e+06      0.0   \n",
       "min    2.090984e+09      0.000000      0.000000  0.000000e+00     -1.0   \n",
       "25%             NaN      0.000000      0.000000  9.377630e+05     -1.0   \n",
       "50%             NaN      0.000000      0.000000  2.246898e+06     -1.0   \n",
       "75%             NaN      0.000000      0.000000  4.029578e+06     -1.0   \n",
       "max    2.146868e+09     19.800000    359.830000  5.239160e+06     -1.0   \n",
       "\n",
       "       distance_diff  \n",
       "count   47258.000000  \n",
       "mean     -168.084769  \n",
       "std     13876.301028  \n",
       "min   -189633.000000  \n",
       "25%         0.000000  \n",
       "50%         0.000000  \n",
       "75%         0.000000  \n",
       "max    135053.000000  "
      ]
     },
     "execution_count": 17,
     "metadata": {},
     "output_type": "execute_result"
    }
   ],
   "source": [
    "lowfuel_data.describe()"
   ]
  },
  {
   "cell_type": "markdown",
   "metadata": {},
   "source": [
    "One interesting obersvation is that most of the data points(47258 out of 67848) in our data frame belong to the case of fuel level less than equal to zero."
   ]
  },
  {
   "cell_type": "markdown",
   "metadata": {},
   "source": [
    "Looking at the data where the fuel levels are greater than 0"
   ]
  },
  {
   "cell_type": "code",
   "execution_count": 18,
   "metadata": {
    "collapsed": true
   },
   "outputs": [],
   "source": [
    "condition = relevant_data['fuel'] > 0\n",
    "highfuel_data = relevant_data[condition]"
   ]
  },
  {
   "cell_type": "code",
   "execution_count": 19,
   "metadata": {},
   "outputs": [
    {
     "data": {
      "text/html": [
       "<div>\n",
       "<table border=\"1\" class=\"dataframe\">\n",
       "  <thead>\n",
       "    <tr style=\"text-align: right;\">\n",
       "      <th></th>\n",
       "      <th>id</th>\n",
       "      <th>speed</th>\n",
       "      <th>orientation</th>\n",
       "      <th>distance</th>\n",
       "      <th>fuel</th>\n",
       "      <th>distance_diff</th>\n",
       "    </tr>\n",
       "    <tr>\n",
       "      <th>received_date</th>\n",
       "      <th></th>\n",
       "      <th></th>\n",
       "      <th></th>\n",
       "      <th></th>\n",
       "      <th></th>\n",
       "      <th></th>\n",
       "    </tr>\n",
       "  </thead>\n",
       "  <tbody>\n",
       "    <tr>\n",
       "      <th>2018-01-13 07:10:24</th>\n",
       "      <td>2.025505e+09</td>\n",
       "      <td>1.1</td>\n",
       "      <td>0.0</td>\n",
       "      <td>6</td>\n",
       "      <td>7</td>\n",
       "      <td>-250.0</td>\n",
       "    </tr>\n",
       "    <tr>\n",
       "      <th>2018-01-13 07:10:58</th>\n",
       "      <td>2.025505e+09</td>\n",
       "      <td>1.8</td>\n",
       "      <td>87.4</td>\n",
       "      <td>21</td>\n",
       "      <td>7</td>\n",
       "      <td>15.0</td>\n",
       "    </tr>\n",
       "    <tr>\n",
       "      <th>2018-01-13 07:11:22</th>\n",
       "      <td>2.025505e+09</td>\n",
       "      <td>1.1</td>\n",
       "      <td>0.0</td>\n",
       "      <td>26</td>\n",
       "      <td>7</td>\n",
       "      <td>5.0</td>\n",
       "    </tr>\n",
       "    <tr>\n",
       "      <th>2018-01-13 07:12:22</th>\n",
       "      <td>2.025505e+09</td>\n",
       "      <td>0.9</td>\n",
       "      <td>0.0</td>\n",
       "      <td>50</td>\n",
       "      <td>7</td>\n",
       "      <td>24.0</td>\n",
       "    </tr>\n",
       "    <tr>\n",
       "      <th>2018-01-13 07:13:22</th>\n",
       "      <td>2.025505e+09</td>\n",
       "      <td>1.1</td>\n",
       "      <td>0.0</td>\n",
       "      <td>70</td>\n",
       "      <td>7</td>\n",
       "      <td>20.0</td>\n",
       "    </tr>\n",
       "  </tbody>\n",
       "</table>\n",
       "</div>"
      ],
      "text/plain": [
       "                               id  speed  orientation  distance  fuel  \\\n",
       "received_date                                                           \n",
       "2018-01-13 07:10:24  2.025505e+09    1.1          0.0         6     7   \n",
       "2018-01-13 07:10:58  2.025505e+09    1.8         87.4        21     7   \n",
       "2018-01-13 07:11:22  2.025505e+09    1.1          0.0        26     7   \n",
       "2018-01-13 07:12:22  2.025505e+09    0.9          0.0        50     7   \n",
       "2018-01-13 07:13:22  2.025505e+09    1.1          0.0        70     7   \n",
       "\n",
       "                     distance_diff  \n",
       "received_date                       \n",
       "2018-01-13 07:10:24         -250.0  \n",
       "2018-01-13 07:10:58           15.0  \n",
       "2018-01-13 07:11:22            5.0  \n",
       "2018-01-13 07:12:22           24.0  \n",
       "2018-01-13 07:13:22           20.0  "
      ]
     },
     "execution_count": 19,
     "metadata": {},
     "output_type": "execute_result"
    }
   ],
   "source": [
    "highfuel_data.head()"
   ]
  },
  {
   "cell_type": "code",
   "execution_count": 20,
   "metadata": {},
   "outputs": [
    {
     "name": "stderr",
     "output_type": "stream",
     "text": [
      "/home/piyush/anaconda/lib/python3.5/site-packages/numpy/lib/function_base.py:3834: RuntimeWarning: Invalid value encountered in percentile\n",
      "  RuntimeWarning)\n"
     ]
    },
    {
     "data": {
      "text/html": [
       "<div>\n",
       "<table border=\"1\" class=\"dataframe\">\n",
       "  <thead>\n",
       "    <tr style=\"text-align: right;\">\n",
       "      <th></th>\n",
       "      <th>id</th>\n",
       "      <th>speed</th>\n",
       "      <th>orientation</th>\n",
       "      <th>distance</th>\n",
       "      <th>fuel</th>\n",
       "      <th>distance_diff</th>\n",
       "    </tr>\n",
       "  </thead>\n",
       "  <tbody>\n",
       "    <tr>\n",
       "      <th>count</th>\n",
       "      <td>3.559000e+03</td>\n",
       "      <td>20590.000000</td>\n",
       "      <td>20590.000000</td>\n",
       "      <td>2.059000e+04</td>\n",
       "      <td>20590.000000</td>\n",
       "      <td>20589.000000</td>\n",
       "    </tr>\n",
       "    <tr>\n",
       "      <th>mean</th>\n",
       "      <td>2.121506e+09</td>\n",
       "      <td>29.984153</td>\n",
       "      <td>151.669185</td>\n",
       "      <td>2.556793e+06</td>\n",
       "      <td>314.814570</td>\n",
       "      <td>640.257128</td>\n",
       "    </tr>\n",
       "    <tr>\n",
       "      <th>std</th>\n",
       "      <td>2.043757e+07</td>\n",
       "      <td>18.293534</td>\n",
       "      <td>108.071837</td>\n",
       "      <td>1.482027e+06</td>\n",
       "      <td>166.777256</td>\n",
       "      <td>15345.487238</td>\n",
       "    </tr>\n",
       "    <tr>\n",
       "      <th>min</th>\n",
       "      <td>2.025505e+09</td>\n",
       "      <td>0.000000</td>\n",
       "      <td>0.000000</td>\n",
       "      <td>0.000000e+00</td>\n",
       "      <td>3.000000</td>\n",
       "      <td>-191312.000000</td>\n",
       "    </tr>\n",
       "    <tr>\n",
       "      <th>25%</th>\n",
       "      <td>NaN</td>\n",
       "      <td>15.000000</td>\n",
       "      <td>64.277500</td>\n",
       "      <td>1.321525e+06</td>\n",
       "      <td>158.000000</td>\n",
       "      <td>NaN</td>\n",
       "    </tr>\n",
       "    <tr>\n",
       "      <th>50%</th>\n",
       "      <td>NaN</td>\n",
       "      <td>33.100000</td>\n",
       "      <td>132.905000</td>\n",
       "      <td>2.572180e+06</td>\n",
       "      <td>352.000000</td>\n",
       "      <td>NaN</td>\n",
       "    </tr>\n",
       "    <tr>\n",
       "      <th>75%</th>\n",
       "      <td>NaN</td>\n",
       "      <td>45.300000</td>\n",
       "      <td>251.800000</td>\n",
       "      <td>3.801237e+06</td>\n",
       "      <td>460.000000</td>\n",
       "      <td>NaN</td>\n",
       "    </tr>\n",
       "    <tr>\n",
       "      <th>max</th>\n",
       "      <td>2.147482e+09</td>\n",
       "      <td>69.400000</td>\n",
       "      <td>360.000000</td>\n",
       "      <td>5.239156e+06</td>\n",
       "      <td>599.000000</td>\n",
       "      <td>191420.000000</td>\n",
       "    </tr>\n",
       "  </tbody>\n",
       "</table>\n",
       "</div>"
      ],
      "text/plain": [
       "                 id         speed   orientation      distance          fuel  \\\n",
       "count  3.559000e+03  20590.000000  20590.000000  2.059000e+04  20590.000000   \n",
       "mean   2.121506e+09     29.984153    151.669185  2.556793e+06    314.814570   \n",
       "std    2.043757e+07     18.293534    108.071837  1.482027e+06    166.777256   \n",
       "min    2.025505e+09      0.000000      0.000000  0.000000e+00      3.000000   \n",
       "25%             NaN     15.000000     64.277500  1.321525e+06    158.000000   \n",
       "50%             NaN     33.100000    132.905000  2.572180e+06    352.000000   \n",
       "75%             NaN     45.300000    251.800000  3.801237e+06    460.000000   \n",
       "max    2.147482e+09     69.400000    360.000000  5.239156e+06    599.000000   \n",
       "\n",
       "       distance_diff  \n",
       "count   20589.000000  \n",
       "mean      640.257128  \n",
       "std     15345.487238  \n",
       "min   -191312.000000  \n",
       "25%              NaN  \n",
       "50%              NaN  \n",
       "75%              NaN  \n",
       "max    191420.000000  "
      ]
     },
     "execution_count": 20,
     "metadata": {},
     "output_type": "execute_result"
    }
   ],
   "source": [
    "highfuel_data.describe()"
   ]
  },
  {
   "cell_type": "code",
   "execution_count": 21,
   "metadata": {},
   "outputs": [
    {
     "data": {
      "text/plain": [
       "<matplotlib.axes._subplots.AxesSubplot at 0x7f65074e20f0>"
      ]
     },
     "execution_count": 21,
     "metadata": {},
     "output_type": "execute_result"
    },
    {
     "data": {
      "image/png": "[encoded data removed]",
      "text/plain": [
       "<matplotlib.figure.Figure at 0x7f6504c07b70>"
      ]
     },
     "metadata": {},
     "output_type": "display_data"
    }
   ],
   "source": [
    "highfuel_data['fuel'].plot()"
   ]
  },
  {
   "cell_type": "code",
   "execution_count": 22,
   "metadata": {},
   "outputs": [
    {
     "name": "stderr",
     "output_type": "stream",
     "text": [
      "/home/piyush/anaconda/lib/python3.5/site-packages/ipykernel/__main__.py:1: SettingWithCopyWarning: \n",
      "A value is trying to be set on a copy of a slice from a DataFrame.\n",
      "Try using .loc[row_indexer,col_indexer] = value instead\n",
      "\n",
      "See the caveats in the documentation: http://pandas.pydata.org/pandas-docs/stable/indexing.html#indexing-view-versus-copy\n",
      "  if __name__ == '__main__':\n"
     ]
    }
   ],
   "source": [
    "highfuel_data['std_fuel'] = highfuel_data['fuel'].apply(lambda x: (x - highfuel_data['fuel'].mean())/highfuel_data['fuel'].std())"
   ]
  },
  {
   "cell_type": "code",
   "execution_count": 23,
   "metadata": {},
   "outputs": [
    {
     "data": {
      "text/html": [
       "<div>\n",
       "<table border=\"1\" class=\"dataframe\">\n",
       "  <thead>\n",
       "    <tr style=\"text-align: right;\">\n",
       "      <th></th>\n",
       "      <th>id</th>\n",
       "      <th>speed</th>\n",
       "      <th>orientation</th>\n",
       "      <th>distance</th>\n",
       "      <th>fuel</th>\n",
       "      <th>distance_diff</th>\n",
       "      <th>std_fuel</th>\n",
       "    </tr>\n",
       "    <tr>\n",
       "      <th>received_date</th>\n",
       "      <th></th>\n",
       "      <th></th>\n",
       "      <th></th>\n",
       "      <th></th>\n",
       "      <th></th>\n",
       "      <th></th>\n",
       "      <th></th>\n",
       "    </tr>\n",
       "  </thead>\n",
       "  <tbody>\n",
       "    <tr>\n",
       "      <th>2018-01-13 07:10:24</th>\n",
       "      <td>2.025505e+09</td>\n",
       "      <td>1.1</td>\n",
       "      <td>0.0</td>\n",
       "      <td>6</td>\n",
       "      <td>7</td>\n",
       "      <td>-250.0</td>\n",
       "      <td>-1.845663</td>\n",
       "    </tr>\n",
       "    <tr>\n",
       "      <th>2018-01-13 07:10:58</th>\n",
       "      <td>2.025505e+09</td>\n",
       "      <td>1.8</td>\n",
       "      <td>87.4</td>\n",
       "      <td>21</td>\n",
       "      <td>7</td>\n",
       "      <td>15.0</td>\n",
       "      <td>-1.845663</td>\n",
       "    </tr>\n",
       "    <tr>\n",
       "      <th>2018-01-13 07:11:22</th>\n",
       "      <td>2.025505e+09</td>\n",
       "      <td>1.1</td>\n",
       "      <td>0.0</td>\n",
       "      <td>26</td>\n",
       "      <td>7</td>\n",
       "      <td>5.0</td>\n",
       "      <td>-1.845663</td>\n",
       "    </tr>\n",
       "    <tr>\n",
       "      <th>2018-01-13 07:12:22</th>\n",
       "      <td>2.025505e+09</td>\n",
       "      <td>0.9</td>\n",
       "      <td>0.0</td>\n",
       "      <td>50</td>\n",
       "      <td>7</td>\n",
       "      <td>24.0</td>\n",
       "      <td>-1.845663</td>\n",
       "    </tr>\n",
       "    <tr>\n",
       "      <th>2018-01-13 07:13:22</th>\n",
       "      <td>2.025505e+09</td>\n",
       "      <td>1.1</td>\n",
       "      <td>0.0</td>\n",
       "      <td>70</td>\n",
       "      <td>7</td>\n",
       "      <td>20.0</td>\n",
       "      <td>-1.845663</td>\n",
       "    </tr>\n",
       "  </tbody>\n",
       "</table>\n",
       "</div>"
      ],
      "text/plain": [
       "                               id  speed  orientation  distance  fuel  \\\n",
       "received_date                                                           \n",
       "2018-01-13 07:10:24  2.025505e+09    1.1          0.0         6     7   \n",
       "2018-01-13 07:10:58  2.025505e+09    1.8         87.4        21     7   \n",
       "2018-01-13 07:11:22  2.025505e+09    1.1          0.0        26     7   \n",
       "2018-01-13 07:12:22  2.025505e+09    0.9          0.0        50     7   \n",
       "2018-01-13 07:13:22  2.025505e+09    1.1          0.0        70     7   \n",
       "\n",
       "                     distance_diff  std_fuel  \n",
       "received_date                                 \n",
       "2018-01-13 07:10:24         -250.0 -1.845663  \n",
       "2018-01-13 07:10:58           15.0 -1.845663  \n",
       "2018-01-13 07:11:22            5.0 -1.845663  \n",
       "2018-01-13 07:12:22           24.0 -1.845663  \n",
       "2018-01-13 07:13:22           20.0 -1.845663  "
      ]
     },
     "execution_count": 23,
     "metadata": {},
     "output_type": "execute_result"
    }
   ],
   "source": [
    "highfuel_data.head()"
   ]
  },
  {
   "cell_type": "code",
   "execution_count": 24,
   "metadata": {},
   "outputs": [
    {
     "name": "stderr",
     "output_type": "stream",
     "text": [
      "/home/piyush/anaconda/lib/python3.5/site-packages/numpy/lib/function_base.py:3834: RuntimeWarning: Invalid value encountered in percentile\n",
      "  RuntimeWarning)\n"
     ]
    },
    {
     "data": {
      "text/html": [
       "<div>\n",
       "<table border=\"1\" class=\"dataframe\">\n",
       "  <thead>\n",
       "    <tr style=\"text-align: right;\">\n",
       "      <th></th>\n",
       "      <th>id</th>\n",
       "      <th>speed</th>\n",
       "      <th>orientation</th>\n",
       "      <th>distance</th>\n",
       "      <th>fuel</th>\n",
       "      <th>distance_diff</th>\n",
       "      <th>std_fuel</th>\n",
       "    </tr>\n",
       "  </thead>\n",
       "  <tbody>\n",
       "    <tr>\n",
       "      <th>count</th>\n",
       "      <td>3.559000e+03</td>\n",
       "      <td>20590.000000</td>\n",
       "      <td>20590.000000</td>\n",
       "      <td>2.059000e+04</td>\n",
       "      <td>20590.000000</td>\n",
       "      <td>20589.000000</td>\n",
       "      <td>2.059000e+04</td>\n",
       "    </tr>\n",
       "    <tr>\n",
       "      <th>mean</th>\n",
       "      <td>2.121506e+09</td>\n",
       "      <td>29.984153</td>\n",
       "      <td>151.669185</td>\n",
       "      <td>2.556793e+06</td>\n",
       "      <td>314.814570</td>\n",
       "      <td>640.257128</td>\n",
       "      <td>6.560075e-16</td>\n",
       "    </tr>\n",
       "    <tr>\n",
       "      <th>std</th>\n",
       "      <td>2.043757e+07</td>\n",
       "      <td>18.293534</td>\n",
       "      <td>108.071837</td>\n",
       "      <td>1.482027e+06</td>\n",
       "      <td>166.777256</td>\n",
       "      <td>15345.487238</td>\n",
       "      <td>1.000000e+00</td>\n",
       "    </tr>\n",
       "    <tr>\n",
       "      <th>min</th>\n",
       "      <td>2.025505e+09</td>\n",
       "      <td>0.000000</td>\n",
       "      <td>0.000000</td>\n",
       "      <td>0.000000e+00</td>\n",
       "      <td>3.000000</td>\n",
       "      <td>-191312.000000</td>\n",
       "      <td>-1.869647e+00</td>\n",
       "    </tr>\n",
       "    <tr>\n",
       "      <th>25%</th>\n",
       "      <td>NaN</td>\n",
       "      <td>15.000000</td>\n",
       "      <td>64.277500</td>\n",
       "      <td>1.321525e+06</td>\n",
       "      <td>158.000000</td>\n",
       "      <td>NaN</td>\n",
       "      <td>-9.402635e-01</td>\n",
       "    </tr>\n",
       "    <tr>\n",
       "      <th>50%</th>\n",
       "      <td>NaN</td>\n",
       "      <td>33.100000</td>\n",
       "      <td>132.905000</td>\n",
       "      <td>2.572180e+06</td>\n",
       "      <td>352.000000</td>\n",
       "      <td>NaN</td>\n",
       "      <td>2.229646e-01</td>\n",
       "    </tr>\n",
       "    <tr>\n",
       "      <th>75%</th>\n",
       "      <td>NaN</td>\n",
       "      <td>45.300000</td>\n",
       "      <td>251.800000</td>\n",
       "      <td>3.801237e+06</td>\n",
       "      <td>460.000000</td>\n",
       "      <td>NaN</td>\n",
       "      <td>8.705349e-01</td>\n",
       "    </tr>\n",
       "    <tr>\n",
       "      <th>max</th>\n",
       "      <td>2.147482e+09</td>\n",
       "      <td>69.400000</td>\n",
       "      <td>360.000000</td>\n",
       "      <td>5.239156e+06</td>\n",
       "      <td>599.000000</td>\n",
       "      <td>191420.000000</td>\n",
       "      <td>1.703982e+00</td>\n",
       "    </tr>\n",
       "  </tbody>\n",
       "</table>\n",
       "</div>"
      ],
      "text/plain": [
       "                 id         speed   orientation      distance          fuel  \\\n",
       "count  3.559000e+03  20590.000000  20590.000000  2.059000e+04  20590.000000   \n",
       "mean   2.121506e+09     29.984153    151.669185  2.556793e+06    314.814570   \n",
       "std    2.043757e+07     18.293534    108.071837  1.482027e+06    166.777256   \n",
       "min    2.025505e+09      0.000000      0.000000  0.000000e+00      3.000000   \n",
       "25%             NaN     15.000000     64.277500  1.321525e+06    158.000000   \n",
       "50%             NaN     33.100000    132.905000  2.572180e+06    352.000000   \n",
       "75%             NaN     45.300000    251.800000  3.801237e+06    460.000000   \n",
       "max    2.147482e+09     69.400000    360.000000  5.239156e+06    599.000000   \n",
       "\n",
       "       distance_diff      std_fuel  \n",
       "count   20589.000000  2.059000e+04  \n",
       "mean      640.257128  6.560075e-16  \n",
       "std     15345.487238  1.000000e+00  \n",
       "min   -191312.000000 -1.869647e+00  \n",
       "25%              NaN -9.402635e-01  \n",
       "50%              NaN  2.229646e-01  \n",
       "75%              NaN  8.705349e-01  \n",
       "max    191420.000000  1.703982e+00  "
      ]
     },
     "execution_count": 24,
     "metadata": {},
     "output_type": "execute_result"
    }
   ],
   "source": [
    "highfuel_data.describe()"
   ]
  },
  {
   "cell_type": "markdown",
   "metadata": {},
   "source": [
    "Considering only those data points which have finite values of distance_diff"
   ]
  },
  {
   "cell_type": "code",
   "execution_count": 25,
   "metadata": {
    "collapsed": true
   },
   "outputs": [],
   "source": [
    "import numpy as np\n",
    "highfuel_data = highfuel_data[np.isfinite(highfuel_data['distance_diff'])]"
   ]
  },
  {
   "cell_type": "code",
   "execution_count": 26,
   "metadata": {},
   "outputs": [
    {
     "name": "stderr",
     "output_type": "stream",
     "text": [
      "/home/piyush/anaconda/lib/python3.5/site-packages/numpy/lib/function_base.py:3834: RuntimeWarning: Invalid value encountered in percentile\n",
      "  RuntimeWarning)\n"
     ]
    },
    {
     "data": {
      "text/html": [
       "<div>\n",
       "<table border=\"1\" class=\"dataframe\">\n",
       "  <thead>\n",
       "    <tr style=\"text-align: right;\">\n",
       "      <th></th>\n",
       "      <th>id</th>\n",
       "      <th>speed</th>\n",
       "      <th>orientation</th>\n",
       "      <th>distance</th>\n",
       "      <th>fuel</th>\n",
       "      <th>distance_diff</th>\n",
       "      <th>std_fuel</th>\n",
       "    </tr>\n",
       "  </thead>\n",
       "  <tbody>\n",
       "    <tr>\n",
       "      <th>count</th>\n",
       "      <td>3.558000e+03</td>\n",
       "      <td>20589.000000</td>\n",
       "      <td>20589.000000</td>\n",
       "      <td>2.058900e+04</td>\n",
       "      <td>20589.000000</td>\n",
       "      <td>20589.000000</td>\n",
       "      <td>20589.000000</td>\n",
       "    </tr>\n",
       "    <tr>\n",
       "      <th>mean</th>\n",
       "      <td>2.121533e+09</td>\n",
       "      <td>29.985565</td>\n",
       "      <td>151.676551</td>\n",
       "      <td>2.556917e+06</td>\n",
       "      <td>314.829521</td>\n",
       "      <td>640.257128</td>\n",
       "      <td>0.000090</td>\n",
       "    </tr>\n",
       "    <tr>\n",
       "      <th>std</th>\n",
       "      <td>2.037695e+07</td>\n",
       "      <td>18.292856</td>\n",
       "      <td>108.069292</td>\n",
       "      <td>1.481955e+06</td>\n",
       "      <td>166.767508</td>\n",
       "      <td>15345.487238</td>\n",
       "      <td>0.999942</td>\n",
       "    </tr>\n",
       "    <tr>\n",
       "      <th>min</th>\n",
       "      <td>2.025505e+09</td>\n",
       "      <td>0.000000</td>\n",
       "      <td>0.000000</td>\n",
       "      <td>0.000000e+00</td>\n",
       "      <td>3.000000</td>\n",
       "      <td>-191312.000000</td>\n",
       "      <td>-1.869647</td>\n",
       "    </tr>\n",
       "    <tr>\n",
       "      <th>25%</th>\n",
       "      <td>NaN</td>\n",
       "      <td>15.000000</td>\n",
       "      <td>64.300000</td>\n",
       "      <td>1.321525e+06</td>\n",
       "      <td>158.000000</td>\n",
       "      <td>84.000000</td>\n",
       "      <td>-0.940264</td>\n",
       "    </tr>\n",
       "    <tr>\n",
       "      <th>50%</th>\n",
       "      <td>NaN</td>\n",
       "      <td>33.100000</td>\n",
       "      <td>132.910000</td>\n",
       "      <td>2.572180e+06</td>\n",
       "      <td>352.000000</td>\n",
       "      <td>268.000000</td>\n",
       "      <td>0.222965</td>\n",
       "    </tr>\n",
       "    <tr>\n",
       "      <th>75%</th>\n",
       "      <td>NaN</td>\n",
       "      <td>45.300000</td>\n",
       "      <td>251.810000</td>\n",
       "      <td>3.801237e+06</td>\n",
       "      <td>460.000000</td>\n",
       "      <td>390.000000</td>\n",
       "      <td>0.870535</td>\n",
       "    </tr>\n",
       "    <tr>\n",
       "      <th>max</th>\n",
       "      <td>2.147482e+09</td>\n",
       "      <td>69.400000</td>\n",
       "      <td>360.000000</td>\n",
       "      <td>5.239156e+06</td>\n",
       "      <td>599.000000</td>\n",
       "      <td>191420.000000</td>\n",
       "      <td>1.703982</td>\n",
       "    </tr>\n",
       "  </tbody>\n",
       "</table>\n",
       "</div>"
      ],
      "text/plain": [
       "                 id         speed   orientation      distance          fuel  \\\n",
       "count  3.558000e+03  20589.000000  20589.000000  2.058900e+04  20589.000000   \n",
       "mean   2.121533e+09     29.985565    151.676551  2.556917e+06    314.829521   \n",
       "std    2.037695e+07     18.292856    108.069292  1.481955e+06    166.767508   \n",
       "min    2.025505e+09      0.000000      0.000000  0.000000e+00      3.000000   \n",
       "25%             NaN     15.000000     64.300000  1.321525e+06    158.000000   \n",
       "50%             NaN     33.100000    132.910000  2.572180e+06    352.000000   \n",
       "75%             NaN     45.300000    251.810000  3.801237e+06    460.000000   \n",
       "max    2.147482e+09     69.400000    360.000000  5.239156e+06    599.000000   \n",
       "\n",
       "       distance_diff      std_fuel  \n",
       "count   20589.000000  20589.000000  \n",
       "mean      640.257128      0.000090  \n",
       "std     15345.487238      0.999942  \n",
       "min   -191312.000000     -1.869647  \n",
       "25%        84.000000     -0.940264  \n",
       "50%       268.000000      0.222965  \n",
       "75%       390.000000      0.870535  \n",
       "max    191420.000000      1.703982  "
      ]
     },
     "execution_count": 26,
     "metadata": {},
     "output_type": "execute_result"
    }
   ],
   "source": [
    "highfuel_data.describe()"
   ]
  },
  {
   "cell_type": "code",
   "execution_count": 27,
   "metadata": {},
   "outputs": [
    {
     "data": {
      "text/plain": [
       "array([[<matplotlib.axes._subplots.AxesSubplot object at 0x7f650b2d3e48>]], dtype=object)"
      ]
     },
     "execution_count": 27,
     "metadata": {},
     "output_type": "execute_result"
    },
    {
     "data": {
      "image/png": "[encoded data removed]",
      "text/plain": [
       "<matplotlib.figure.Figure at 0x7f6504c18080>"
      ]
     },
     "metadata": {},
     "output_type": "display_data"
    }
   ],
   "source": [
    "highfuel_data.hist('distance_diff')"
   ]
  },
  {
   "cell_type": "code",
   "execution_count": 28,
   "metadata": {},
   "outputs": [
    {
     "name": "stderr",
     "output_type": "stream",
     "text": [
      "/home/piyush/anaconda/lib/python3.5/site-packages/statsmodels/nonparametric/kdetools.py:20: VisibleDeprecationWarning: using a non-integer number instead of an integer will result in an error in the future\n",
      "  y = X[:m/2+1] + np.r_[0,X[m/2+1:],0]*1j\n"
     ]
    },
    {
     "data": {
      "text/plain": [
       "<matplotlib.axes._subplots.AxesSubplot at 0x7f64fca8cc50>"
      ]
     },
     "execution_count": 28,
     "metadata": {},
     "output_type": "execute_result"
    },
    {
     "data": {
      "image/png": "[encoded data removed]",
      "text/plain": [
       "<matplotlib.figure.Figure at 0x7f6504a22898>"
      ]
     },
     "metadata": {},
     "output_type": "display_data"
    }
   ],
   "source": [
    "import seaborn as sns\n",
    "sns.distplot(highfuel_data['distance_diff'])"
   ]
  },
  {
   "cell_type": "markdown",
   "metadata": {},
   "source": [
    "There seems to be a lot of negative values in distance_diff, which I assume is the noise or faulty data\n"
   ]
  },
  {
   "cell_type": "code",
   "execution_count": 29,
   "metadata": {
    "collapsed": true
   },
   "outputs": [],
   "source": [
    "condition = highfuel_data['distance_diff'] >= 0\n",
    "new_highfuel_data = highfuel_data[condition]"
   ]
  },
  {
   "cell_type": "code",
   "execution_count": 30,
   "metadata": {},
   "outputs": [
    {
     "name": "stderr",
     "output_type": "stream",
     "text": [
      "/home/piyush/anaconda/lib/python3.5/site-packages/numpy/lib/function_base.py:3834: RuntimeWarning: Invalid value encountered in percentile\n",
      "  RuntimeWarning)\n"
     ]
    },
    {
     "data": {
      "text/html": [
       "<div>\n",
       "<table border=\"1\" class=\"dataframe\">\n",
       "  <thead>\n",
       "    <tr style=\"text-align: right;\">\n",
       "      <th></th>\n",
       "      <th>id</th>\n",
       "      <th>speed</th>\n",
       "      <th>orientation</th>\n",
       "      <th>distance</th>\n",
       "      <th>fuel</th>\n",
       "      <th>distance_diff</th>\n",
       "      <th>std_fuel</th>\n",
       "    </tr>\n",
       "  </thead>\n",
       "  <tbody>\n",
       "    <tr>\n",
       "      <th>count</th>\n",
       "      <td>3.466000e+03</td>\n",
       "      <td>19653.000000</td>\n",
       "      <td>19653.000000</td>\n",
       "      <td>1.965300e+04</td>\n",
       "      <td>19653.000000</td>\n",
       "      <td>19653.000000</td>\n",
       "      <td>19653.000000</td>\n",
       "    </tr>\n",
       "    <tr>\n",
       "      <th>mean</th>\n",
       "      <td>2.121269e+09</td>\n",
       "      <td>29.987941</td>\n",
       "      <td>151.415999</td>\n",
       "      <td>2.568044e+06</td>\n",
       "      <td>314.785529</td>\n",
       "      <td>1559.970335</td>\n",
       "      <td>-0.000174</td>\n",
       "    </tr>\n",
       "    <tr>\n",
       "      <th>std</th>\n",
       "      <td>2.031979e+07</td>\n",
       "      <td>18.312027</td>\n",
       "      <td>108.077784</td>\n",
       "      <td>1.493387e+06</td>\n",
       "      <td>166.661605</td>\n",
       "      <td>11896.758092</td>\n",
       "      <td>0.999307</td>\n",
       "    </tr>\n",
       "    <tr>\n",
       "      <th>min</th>\n",
       "      <td>2.025505e+09</td>\n",
       "      <td>0.000000</td>\n",
       "      <td>0.000000</td>\n",
       "      <td>0.000000e+00</td>\n",
       "      <td>3.000000</td>\n",
       "      <td>0.000000</td>\n",
       "      <td>-1.869647</td>\n",
       "    </tr>\n",
       "    <tr>\n",
       "      <th>25%</th>\n",
       "      <td>NaN</td>\n",
       "      <td>15.000000</td>\n",
       "      <td>64.110000</td>\n",
       "      <td>1.316165e+06</td>\n",
       "      <td>158.000000</td>\n",
       "      <td>115.000000</td>\n",
       "      <td>-0.940264</td>\n",
       "    </tr>\n",
       "    <tr>\n",
       "      <th>50%</th>\n",
       "      <td>NaN</td>\n",
       "      <td>33.300000</td>\n",
       "      <td>132.670000</td>\n",
       "      <td>2.577230e+06</td>\n",
       "      <td>352.000000</td>\n",
       "      <td>281.000000</td>\n",
       "      <td>0.222965</td>\n",
       "    </tr>\n",
       "    <tr>\n",
       "      <th>75%</th>\n",
       "      <td>NaN</td>\n",
       "      <td>45.300000</td>\n",
       "      <td>251.570000</td>\n",
       "      <td>3.833039e+06</td>\n",
       "      <td>460.000000</td>\n",
       "      <td>392.000000</td>\n",
       "      <td>0.870535</td>\n",
       "    </tr>\n",
       "    <tr>\n",
       "      <th>max</th>\n",
       "      <td>2.147482e+09</td>\n",
       "      <td>69.400000</td>\n",
       "      <td>360.000000</td>\n",
       "      <td>5.239150e+06</td>\n",
       "      <td>599.000000</td>\n",
       "      <td>191420.000000</td>\n",
       "      <td>1.703982</td>\n",
       "    </tr>\n",
       "  </tbody>\n",
       "</table>\n",
       "</div>"
      ],
      "text/plain": [
       "                 id         speed   orientation      distance          fuel  \\\n",
       "count  3.466000e+03  19653.000000  19653.000000  1.965300e+04  19653.000000   \n",
       "mean   2.121269e+09     29.987941    151.415999  2.568044e+06    314.785529   \n",
       "std    2.031979e+07     18.312027    108.077784  1.493387e+06    166.661605   \n",
       "min    2.025505e+09      0.000000      0.000000  0.000000e+00      3.000000   \n",
       "25%             NaN     15.000000     64.110000  1.316165e+06    158.000000   \n",
       "50%             NaN     33.300000    132.670000  2.577230e+06    352.000000   \n",
       "75%             NaN     45.300000    251.570000  3.833039e+06    460.000000   \n",
       "max    2.147482e+09     69.400000    360.000000  5.239150e+06    599.000000   \n",
       "\n",
       "       distance_diff      std_fuel  \n",
       "count   19653.000000  19653.000000  \n",
       "mean     1559.970335     -0.000174  \n",
       "std     11896.758092      0.999307  \n",
       "min         0.000000     -1.869647  \n",
       "25%       115.000000     -0.940264  \n",
       "50%       281.000000      0.222965  \n",
       "75%       392.000000      0.870535  \n",
       "max    191420.000000      1.703982  "
      ]
     },
     "execution_count": 30,
     "metadata": {},
     "output_type": "execute_result"
    }
   ],
   "source": [
    "new_highfuel_data.describe()"
   ]
  },
  {
   "cell_type": "markdown",
   "metadata": {},
   "source": [
    "Still we can see the standard deviation to be quite high, as the some data have really high values of distance diff."
   ]
  },
  {
   "cell_type": "markdown",
   "metadata": {},
   "source": [
    "Removing those higher outliers in the distance_diff column"
   ]
  },
  {
   "cell_type": "code",
   "execution_count": 31,
   "metadata": {
    "collapsed": true
   },
   "outputs": [],
   "source": [
    "condition = new_highfuel_data['distance_diff'] < (392 + 1.5*(392-115))"
   ]
  },
  {
   "cell_type": "code",
   "execution_count": 32,
   "metadata": {},
   "outputs": [],
   "source": [
    "ndf = new_highfuel_data[condition]"
   ]
  },
  {
   "cell_type": "code",
   "execution_count": 33,
   "metadata": {},
   "outputs": [
    {
     "name": "stderr",
     "output_type": "stream",
     "text": [
      "/home/piyush/anaconda/lib/python3.5/site-packages/numpy/lib/function_base.py:3834: RuntimeWarning: Invalid value encountered in percentile\n",
      "  RuntimeWarning)\n"
     ]
    },
    {
     "data": {
      "text/html": [
       "<div>\n",
       "<table border=\"1\" class=\"dataframe\">\n",
       "  <thead>\n",
       "    <tr style=\"text-align: right;\">\n",
       "      <th></th>\n",
       "      <th>id</th>\n",
       "      <th>speed</th>\n",
       "      <th>orientation</th>\n",
       "      <th>distance</th>\n",
       "      <th>fuel</th>\n",
       "      <th>distance_diff</th>\n",
       "      <th>std_fuel</th>\n",
       "    </tr>\n",
       "  </thead>\n",
       "  <tbody>\n",
       "    <tr>\n",
       "      <th>count</th>\n",
       "      <td>3.355000e+03</td>\n",
       "      <td>18210.000000</td>\n",
       "      <td>18210.000000</td>\n",
       "      <td>1.821000e+04</td>\n",
       "      <td>18210.000000</td>\n",
       "      <td>18210.000000</td>\n",
       "      <td>18210.000000</td>\n",
       "    </tr>\n",
       "    <tr>\n",
       "      <th>mean</th>\n",
       "      <td>2.120902e+09</td>\n",
       "      <td>29.432059</td>\n",
       "      <td>150.662069</td>\n",
       "      <td>2.580593e+06</td>\n",
       "      <td>313.252718</td>\n",
       "      <td>251.099341</td>\n",
       "      <td>-0.009365</td>\n",
       "    </tr>\n",
       "    <tr>\n",
       "      <th>std</th>\n",
       "      <td>2.038507e+07</td>\n",
       "      <td>18.346219</td>\n",
       "      <td>108.269595</td>\n",
       "      <td>1.512044e+06</td>\n",
       "      <td>167.099047</td>\n",
       "      <td>178.877363</td>\n",
       "      <td>1.001929</td>\n",
       "    </tr>\n",
       "    <tr>\n",
       "      <th>min</th>\n",
       "      <td>2.025505e+09</td>\n",
       "      <td>0.000000</td>\n",
       "      <td>0.000000</td>\n",
       "      <td>0.000000e+00</td>\n",
       "      <td>3.000000</td>\n",
       "      <td>0.000000</td>\n",
       "      <td>-1.869647</td>\n",
       "    </tr>\n",
       "    <tr>\n",
       "      <th>25%</th>\n",
       "      <td>NaN</td>\n",
       "      <td>14.000000</td>\n",
       "      <td>63.380000</td>\n",
       "      <td>1.278680e+06</td>\n",
       "      <td>158.000000</td>\n",
       "      <td>100.000000</td>\n",
       "      <td>-0.940264</td>\n",
       "    </tr>\n",
       "    <tr>\n",
       "      <th>50%</th>\n",
       "      <td>NaN</td>\n",
       "      <td>32.500000</td>\n",
       "      <td>132.560000</td>\n",
       "      <td>2.584615e+06</td>\n",
       "      <td>352.000000</td>\n",
       "      <td>260.000000</td>\n",
       "      <td>0.222965</td>\n",
       "    </tr>\n",
       "    <tr>\n",
       "      <th>75%</th>\n",
       "      <td>NaN</td>\n",
       "      <td>44.800000</td>\n",
       "      <td>250.660000</td>\n",
       "      <td>3.920063e+06</td>\n",
       "      <td>459.000000</td>\n",
       "      <td>370.000000</td>\n",
       "      <td>0.864539</td>\n",
       "    </tr>\n",
       "    <tr>\n",
       "      <th>max</th>\n",
       "      <td>2.147482e+09</td>\n",
       "      <td>69.400000</td>\n",
       "      <td>360.000000</td>\n",
       "      <td>5.239150e+06</td>\n",
       "      <td>599.000000</td>\n",
       "      <td>807.000000</td>\n",
       "      <td>1.703982</td>\n",
       "    </tr>\n",
       "  </tbody>\n",
       "</table>\n",
       "</div>"
      ],
      "text/plain": [
       "                 id         speed   orientation      distance          fuel  \\\n",
       "count  3.355000e+03  18210.000000  18210.000000  1.821000e+04  18210.000000   \n",
       "mean   2.120902e+09     29.432059    150.662069  2.580593e+06    313.252718   \n",
       "std    2.038507e+07     18.346219    108.269595  1.512044e+06    167.099047   \n",
       "min    2.025505e+09      0.000000      0.000000  0.000000e+00      3.000000   \n",
       "25%             NaN     14.000000     63.380000  1.278680e+06    158.000000   \n",
       "50%             NaN     32.500000    132.560000  2.584615e+06    352.000000   \n",
       "75%             NaN     44.800000    250.660000  3.920063e+06    459.000000   \n",
       "max    2.147482e+09     69.400000    360.000000  5.239150e+06    599.000000   \n",
       "\n",
       "       distance_diff      std_fuel  \n",
       "count   18210.000000  18210.000000  \n",
       "mean      251.099341     -0.009365  \n",
       "std       178.877363      1.001929  \n",
       "min         0.000000     -1.869647  \n",
       "25%       100.000000     -0.940264  \n",
       "50%       260.000000      0.222965  \n",
       "75%       370.000000      0.864539  \n",
       "max       807.000000      1.703982  "
      ]
     },
     "execution_count": 33,
     "metadata": {},
     "output_type": "execute_result"
    }
   ],
   "source": [
    "ndf.describe()"
   ]
  },
  {
   "cell_type": "markdown",
   "metadata": {},
   "source": [
    "Now the valued for distance_diff look much better with a digestable standard deviation."
   ]
  },
  {
   "cell_type": "code",
   "execution_count": 34,
   "metadata": {},
   "outputs": [
    {
     "name": "stderr",
     "output_type": "stream",
     "text": [
      "/home/piyush/anaconda/lib/python3.5/site-packages/statsmodels/nonparametric/kdetools.py:20: VisibleDeprecationWarning: using a non-integer number instead of an integer will result in an error in the future\n",
      "  y = X[:m/2+1] + np.r_[0,X[m/2+1:],0]*1j\n"
     ]
    },
    {
     "data": {
      "text/plain": [
       "<matplotlib.axes._subplots.AxesSubplot at 0x7f6504a1b780>"
      ]
     },
     "execution_count": 34,
     "metadata": {},
     "output_type": "execute_result"
    },
    {
     "data": {
      "image/png": "[encoded data removed]",
      "text/plain": [
       "<matplotlib.figure.Figure at 0x7f64fc4e3438>"
      ]
     },
     "metadata": {},
     "output_type": "display_data"
    }
   ],
   "source": [
    "sns.distplot(ndf['distance_diff'])"
   ]
  },
  {
   "cell_type": "markdown",
   "metadata": {},
   "source": [
    "Having removed the outliers using the distance_diff feature, let's plot the fuel time series data "
   ]
  },
  {
   "cell_type": "code",
   "execution_count": 35,
   "metadata": {},
   "outputs": [
    {
     "data": {
      "text/plain": [
       "<matplotlib.axes._subplots.AxesSubplot at 0x7f6504f0ce80>"
      ]
     },
     "execution_count": 35,
     "metadata": {},
     "output_type": "execute_result"
    },
    {
     "data": {
      "image/png": "[encoded data removed]",
      "text/plain": [
       "<matplotlib.figure.Figure at 0x7f64fc3f1358>"
      ]
     },
     "metadata": {},
     "output_type": "display_data"
    }
   ],
   "source": [
    "ndf['std_fuel'].plot()"
   ]
  },
  {
   "cell_type": "code",
   "execution_count": 36,
   "metadata": {},
   "outputs": [
    {
     "name": "stderr",
     "output_type": "stream",
     "text": [
      "/home/piyush/anaconda/lib/python3.5/site-packages/seaborn/timeseries.py:183: UserWarning: The tsplot function is deprecated and will be removed or replaced (in a substantially altered version) in a future release.\n",
      "  warnings.warn(msg, UserWarning)\n"
     ]
    },
    {
     "data": {
      "text/plain": [
       "<matplotlib.axes._subplots.AxesSubplot at 0x7f6504551208>"
      ]
     },
     "execution_count": 36,
     "metadata": {},
     "output_type": "execute_result"
    },
    {
     "data": {
      "image/png": "[encoded data removed]",
      "text/plain": [
       "<matplotlib.figure.Figure at 0x7f64fc3b1d30>"
      ]
     },
     "metadata": {},
     "output_type": "display_data"
    }
   ],
   "source": [
    "sns.tsplot(ndf['std_fuel'])"
   ]
  },
  {
   "cell_type": "markdown",
   "metadata": {},
   "source": [
    "Let us see the distribution of the fuel data"
   ]
  },
  {
   "cell_type": "code",
   "execution_count": 37,
   "metadata": {},
   "outputs": [
    {
     "name": "stderr",
     "output_type": "stream",
     "text": [
      "/home/piyush/anaconda/lib/python3.5/site-packages/statsmodels/nonparametric/kdetools.py:20: VisibleDeprecationWarning: using a non-integer number instead of an integer will result in an error in the future\n",
      "  y = X[:m/2+1] + np.r_[0,X[m/2+1:],0]*1j\n"
     ]
    },
    {
     "data": {
      "text/plain": [
       "<matplotlib.axes._subplots.AxesSubplot at 0x7f650455f240>"
      ]
     },
     "execution_count": 37,
     "metadata": {},
     "output_type": "execute_result"
    },
    {
     "data": {
      "image/png": "[encoded data removed]",
      "text/plain": [
       "<matplotlib.figure.Figure at 0x7f64fc2c54e0>"
      ]
     },
     "metadata": {},
     "output_type": "display_data"
    }
   ],
   "source": [
    "sns.distplot(ndf['fuel'])"
   ]
  },
  {
   "cell_type": "markdown",
   "metadata": {},
   "source": [
    "Calculating the fuel_diff as the difference in the fuel level between two points, I think the distance_diff and the fuel_diff should have some sort of linear correlation as with increasing distance fuel usage shoul also increase and hence the value of fuel_diff."
   ]
  },
  {
   "cell_type": "code",
   "execution_count": 38,
   "metadata": {},
   "outputs": [
    {
     "name": "stderr",
     "output_type": "stream",
     "text": [
      "/home/piyush/anaconda/lib/python3.5/site-packages/ipykernel/__main__.py:1: SettingWithCopyWarning: \n",
      "A value is trying to be set on a copy of a slice from a DataFrame.\n",
      "Try using .loc[row_indexer,col_indexer] = value instead\n",
      "\n",
      "See the caveats in the documentation: http://pandas.pydata.org/pandas-docs/stable/indexing.html#indexing-view-versus-copy\n",
      "  if __name__ == '__main__':\n"
     ]
    }
   ],
   "source": [
    "ndf['fuel_diff'] = ndf['fuel'].diff()"
   ]
  },
  {
   "cell_type": "code",
   "execution_count": 39,
   "metadata": {},
   "outputs": [
    {
     "data": {
      "text/html": [
       "<div>\n",
       "<table border=\"1\" class=\"dataframe\">\n",
       "  <thead>\n",
       "    <tr style=\"text-align: right;\">\n",
       "      <th></th>\n",
       "      <th>id</th>\n",
       "      <th>speed</th>\n",
       "      <th>orientation</th>\n",
       "      <th>distance</th>\n",
       "      <th>fuel</th>\n",
       "      <th>distance_diff</th>\n",
       "      <th>std_fuel</th>\n",
       "      <th>fuel_diff</th>\n",
       "    </tr>\n",
       "    <tr>\n",
       "      <th>received_date</th>\n",
       "      <th></th>\n",
       "      <th></th>\n",
       "      <th></th>\n",
       "      <th></th>\n",
       "      <th></th>\n",
       "      <th></th>\n",
       "      <th></th>\n",
       "      <th></th>\n",
       "    </tr>\n",
       "  </thead>\n",
       "  <tbody>\n",
       "    <tr>\n",
       "      <th>2018-01-13 07:10:58</th>\n",
       "      <td>2.025505e+09</td>\n",
       "      <td>1.8</td>\n",
       "      <td>87.4</td>\n",
       "      <td>21</td>\n",
       "      <td>7</td>\n",
       "      <td>15.0</td>\n",
       "      <td>-1.845663</td>\n",
       "      <td>NaN</td>\n",
       "    </tr>\n",
       "    <tr>\n",
       "      <th>2018-01-13 07:11:22</th>\n",
       "      <td>2.025505e+09</td>\n",
       "      <td>1.1</td>\n",
       "      <td>0.0</td>\n",
       "      <td>26</td>\n",
       "      <td>7</td>\n",
       "      <td>5.0</td>\n",
       "      <td>-1.845663</td>\n",
       "      <td>0.0</td>\n",
       "    </tr>\n",
       "    <tr>\n",
       "      <th>2018-01-13 07:12:22</th>\n",
       "      <td>2.025505e+09</td>\n",
       "      <td>0.9</td>\n",
       "      <td>0.0</td>\n",
       "      <td>50</td>\n",
       "      <td>7</td>\n",
       "      <td>24.0</td>\n",
       "      <td>-1.845663</td>\n",
       "      <td>0.0</td>\n",
       "    </tr>\n",
       "    <tr>\n",
       "      <th>2018-01-13 07:13:22</th>\n",
       "      <td>2.025505e+09</td>\n",
       "      <td>1.1</td>\n",
       "      <td>0.0</td>\n",
       "      <td>70</td>\n",
       "      <td>7</td>\n",
       "      <td>20.0</td>\n",
       "      <td>-1.845663</td>\n",
       "      <td>0.0</td>\n",
       "    </tr>\n",
       "    <tr>\n",
       "      <th>2018-01-13 07:13:52</th>\n",
       "      <td>2.025505e+09</td>\n",
       "      <td>0.5</td>\n",
       "      <td>0.0</td>\n",
       "      <td>72</td>\n",
       "      <td>7</td>\n",
       "      <td>2.0</td>\n",
       "      <td>-1.845663</td>\n",
       "      <td>0.0</td>\n",
       "    </tr>\n",
       "  </tbody>\n",
       "</table>\n",
       "</div>"
      ],
      "text/plain": [
       "                               id  speed  orientation  distance  fuel  \\\n",
       "received_date                                                           \n",
       "2018-01-13 07:10:58  2.025505e+09    1.8         87.4        21     7   \n",
       "2018-01-13 07:11:22  2.025505e+09    1.1          0.0        26     7   \n",
       "2018-01-13 07:12:22  2.025505e+09    0.9          0.0        50     7   \n",
       "2018-01-13 07:13:22  2.025505e+09    1.1          0.0        70     7   \n",
       "2018-01-13 07:13:52  2.025505e+09    0.5          0.0        72     7   \n",
       "\n",
       "                     distance_diff  std_fuel  fuel_diff  \n",
       "received_date                                            \n",
       "2018-01-13 07:10:58           15.0 -1.845663        NaN  \n",
       "2018-01-13 07:11:22            5.0 -1.845663        0.0  \n",
       "2018-01-13 07:12:22           24.0 -1.845663        0.0  \n",
       "2018-01-13 07:13:22           20.0 -1.845663        0.0  \n",
       "2018-01-13 07:13:52            2.0 -1.845663        0.0  "
      ]
     },
     "execution_count": 39,
     "metadata": {},
     "output_type": "execute_result"
    }
   ],
   "source": [
    "ndf.head()"
   ]
  },
  {
   "cell_type": "markdown",
   "metadata": {},
   "source": [
    "From the above table we can see that with increasing distance the fuel level does not change (in the first five entries), let's look at the first 15 entries in the dataset."
   ]
  },
  {
   "cell_type": "code",
   "execution_count": 42,
   "metadata": {},
   "outputs": [
    {
     "data": {
      "text/html": [
       "<div>\n",
       "<table border=\"1\" class=\"dataframe\">\n",
       "  <thead>\n",
       "    <tr style=\"text-align: right;\">\n",
       "      <th></th>\n",
       "      <th>id</th>\n",
       "      <th>speed</th>\n",
       "      <th>orientation</th>\n",
       "      <th>distance</th>\n",
       "      <th>fuel</th>\n",
       "      <th>distance_diff</th>\n",
       "      <th>std_fuel</th>\n",
       "      <th>fuel_diff</th>\n",
       "    </tr>\n",
       "    <tr>\n",
       "      <th>received_date</th>\n",
       "      <th></th>\n",
       "      <th></th>\n",
       "      <th></th>\n",
       "      <th></th>\n",
       "      <th></th>\n",
       "      <th></th>\n",
       "      <th></th>\n",
       "      <th></th>\n",
       "    </tr>\n",
       "  </thead>\n",
       "  <tbody>\n",
       "    <tr>\n",
       "      <th>2018-01-13 07:10:58</th>\n",
       "      <td>2.025505e+09</td>\n",
       "      <td>1.8</td>\n",
       "      <td>87.4</td>\n",
       "      <td>21</td>\n",
       "      <td>7</td>\n",
       "      <td>15.0</td>\n",
       "      <td>-1.845663</td>\n",
       "      <td>0.0</td>\n",
       "    </tr>\n",
       "    <tr>\n",
       "      <th>2018-01-13 07:11:22</th>\n",
       "      <td>2.025505e+09</td>\n",
       "      <td>1.1</td>\n",
       "      <td>0.0</td>\n",
       "      <td>26</td>\n",
       "      <td>7</td>\n",
       "      <td>5.0</td>\n",
       "      <td>-1.845663</td>\n",
       "      <td>0.0</td>\n",
       "    </tr>\n",
       "    <tr>\n",
       "      <th>2018-01-13 07:12:22</th>\n",
       "      <td>2.025505e+09</td>\n",
       "      <td>0.9</td>\n",
       "      <td>0.0</td>\n",
       "      <td>50</td>\n",
       "      <td>7</td>\n",
       "      <td>24.0</td>\n",
       "      <td>-1.845663</td>\n",
       "      <td>0.0</td>\n",
       "    </tr>\n",
       "    <tr>\n",
       "      <th>2018-01-13 07:13:22</th>\n",
       "      <td>2.025505e+09</td>\n",
       "      <td>1.1</td>\n",
       "      <td>0.0</td>\n",
       "      <td>70</td>\n",
       "      <td>7</td>\n",
       "      <td>20.0</td>\n",
       "      <td>-1.845663</td>\n",
       "      <td>0.0</td>\n",
       "    </tr>\n",
       "    <tr>\n",
       "      <th>2018-01-13 07:13:52</th>\n",
       "      <td>2.025505e+09</td>\n",
       "      <td>0.5</td>\n",
       "      <td>0.0</td>\n",
       "      <td>72</td>\n",
       "      <td>7</td>\n",
       "      <td>2.0</td>\n",
       "      <td>-1.845663</td>\n",
       "      <td>0.0</td>\n",
       "    </tr>\n",
       "    <tr>\n",
       "      <th>2018-01-13 07:14:23</th>\n",
       "      <td>2.025505e+09</td>\n",
       "      <td>0.7</td>\n",
       "      <td>0.0</td>\n",
       "      <td>75</td>\n",
       "      <td>7</td>\n",
       "      <td>3.0</td>\n",
       "      <td>-1.845663</td>\n",
       "      <td>0.0</td>\n",
       "    </tr>\n",
       "    <tr>\n",
       "      <th>2018-01-13 07:15:23</th>\n",
       "      <td>2.025505e+09</td>\n",
       "      <td>0.5</td>\n",
       "      <td>0.0</td>\n",
       "      <td>75</td>\n",
       "      <td>7</td>\n",
       "      <td>0.0</td>\n",
       "      <td>-1.845663</td>\n",
       "      <td>0.0</td>\n",
       "    </tr>\n",
       "    <tr>\n",
       "      <th>2018-01-13 07:16:23</th>\n",
       "      <td>2.025505e+09</td>\n",
       "      <td>0.9</td>\n",
       "      <td>0.0</td>\n",
       "      <td>83</td>\n",
       "      <td>7</td>\n",
       "      <td>8.0</td>\n",
       "      <td>-1.845663</td>\n",
       "      <td>0.0</td>\n",
       "    </tr>\n",
       "    <tr>\n",
       "      <th>2018-01-13 07:16:53</th>\n",
       "      <td>2.025505e+09</td>\n",
       "      <td>1.6</td>\n",
       "      <td>0.0</td>\n",
       "      <td>99</td>\n",
       "      <td>7</td>\n",
       "      <td>16.0</td>\n",
       "      <td>-1.845663</td>\n",
       "      <td>0.0</td>\n",
       "    </tr>\n",
       "    <tr>\n",
       "      <th>2018-01-13 07:17:23</th>\n",
       "      <td>2.025505e+09</td>\n",
       "      <td>0.7</td>\n",
       "      <td>0.0</td>\n",
       "      <td>104</td>\n",
       "      <td>7</td>\n",
       "      <td>5.0</td>\n",
       "      <td>-1.845663</td>\n",
       "      <td>0.0</td>\n",
       "    </tr>\n",
       "    <tr>\n",
       "      <th>2018-01-13 07:18:23</th>\n",
       "      <td>2.025505e+09</td>\n",
       "      <td>2.0</td>\n",
       "      <td>0.0</td>\n",
       "      <td>110</td>\n",
       "      <td>7</td>\n",
       "      <td>5.0</td>\n",
       "      <td>-1.845663</td>\n",
       "      <td>0.0</td>\n",
       "    </tr>\n",
       "    <tr>\n",
       "      <th>2018-01-13 07:18:53</th>\n",
       "      <td>2.025505e+09</td>\n",
       "      <td>2.9</td>\n",
       "      <td>0.0</td>\n",
       "      <td>137</td>\n",
       "      <td>7</td>\n",
       "      <td>27.0</td>\n",
       "      <td>-1.845663</td>\n",
       "      <td>0.0</td>\n",
       "    </tr>\n",
       "    <tr>\n",
       "      <th>2018-01-13 07:19:23</th>\n",
       "      <td>2.025505e+09</td>\n",
       "      <td>3.1</td>\n",
       "      <td>0.0</td>\n",
       "      <td>158</td>\n",
       "      <td>7</td>\n",
       "      <td>21.0</td>\n",
       "      <td>-1.845663</td>\n",
       "      <td>0.0</td>\n",
       "    </tr>\n",
       "    <tr>\n",
       "      <th>2018-01-13 07:19:54</th>\n",
       "      <td>2.025505e+09</td>\n",
       "      <td>1.2</td>\n",
       "      <td>0.0</td>\n",
       "      <td>170</td>\n",
       "      <td>7</td>\n",
       "      <td>12.0</td>\n",
       "      <td>-1.845663</td>\n",
       "      <td>0.0</td>\n",
       "    </tr>\n",
       "    <tr>\n",
       "      <th>2018-01-13 07:20:24</th>\n",
       "      <td>2.025505e+09</td>\n",
       "      <td>1.8</td>\n",
       "      <td>0.0</td>\n",
       "      <td>178</td>\n",
       "      <td>7</td>\n",
       "      <td>8.0</td>\n",
       "      <td>-1.845663</td>\n",
       "      <td>0.0</td>\n",
       "    </tr>\n",
       "  </tbody>\n",
       "</table>\n",
       "</div>"
      ],
      "text/plain": [
       "                               id  speed  orientation  distance  fuel  \\\n",
       "received_date                                                           \n",
       "2018-01-13 07:10:58  2.025505e+09    1.8         87.4        21     7   \n",
       "2018-01-13 07:11:22  2.025505e+09    1.1          0.0        26     7   \n",
       "2018-01-13 07:12:22  2.025505e+09    0.9          0.0        50     7   \n",
       "2018-01-13 07:13:22  2.025505e+09    1.1          0.0        70     7   \n",
       "2018-01-13 07:13:52  2.025505e+09    0.5          0.0        72     7   \n",
       "2018-01-13 07:14:23  2.025505e+09    0.7          0.0        75     7   \n",
       "2018-01-13 07:15:23  2.025505e+09    0.5          0.0        75     7   \n",
       "2018-01-13 07:16:23  2.025505e+09    0.9          0.0        83     7   \n",
       "2018-01-13 07:16:53  2.025505e+09    1.6          0.0        99     7   \n",
       "2018-01-13 07:17:23  2.025505e+09    0.7          0.0       104     7   \n",
       "2018-01-13 07:18:23  2.025505e+09    2.0          0.0       110     7   \n",
       "2018-01-13 07:18:53  2.025505e+09    2.9          0.0       137     7   \n",
       "2018-01-13 07:19:23  2.025505e+09    3.1          0.0       158     7   \n",
       "2018-01-13 07:19:54  2.025505e+09    1.2          0.0       170     7   \n",
       "2018-01-13 07:20:24  2.025505e+09    1.8          0.0       178     7   \n",
       "\n",
       "                     distance_diff  std_fuel  fuel_diff  \n",
       "received_date                                            \n",
       "2018-01-13 07:10:58           15.0 -1.845663        0.0  \n",
       "2018-01-13 07:11:22            5.0 -1.845663        0.0  \n",
       "2018-01-13 07:12:22           24.0 -1.845663        0.0  \n",
       "2018-01-13 07:13:22           20.0 -1.845663        0.0  \n",
       "2018-01-13 07:13:52            2.0 -1.845663        0.0  \n",
       "2018-01-13 07:14:23            3.0 -1.845663        0.0  \n",
       "2018-01-13 07:15:23            0.0 -1.845663        0.0  \n",
       "2018-01-13 07:16:23            8.0 -1.845663        0.0  \n",
       "2018-01-13 07:16:53           16.0 -1.845663        0.0  \n",
       "2018-01-13 07:17:23            5.0 -1.845663        0.0  \n",
       "2018-01-13 07:18:23            5.0 -1.845663        0.0  \n",
       "2018-01-13 07:18:53           27.0 -1.845663        0.0  \n",
       "2018-01-13 07:19:23           21.0 -1.845663        0.0  \n",
       "2018-01-13 07:19:54           12.0 -1.845663        0.0  \n",
       "2018-01-13 07:20:24            8.0 -1.845663        0.0  "
      ]
     },
     "execution_count": 42,
     "metadata": {},
     "output_type": "execute_result"
    }
   ],
   "source": [
    "ndf.head(15)"
   ]
  },
  {
   "cell_type": "markdown",
   "metadata": {},
   "source": [
    "Again we see that the fuel level do not change, this could indicate the following:\n",
    "1. The fuel data is wrong\n",
    "2. The fuel indicator is not very sensitive as compared to the distance metric.\n",
    "\n",
    "Let's visualize the fuel distribution once again."
   ]
  },
  {
   "cell_type": "code",
   "execution_count": 43,
   "metadata": {},
   "outputs": [
    {
     "name": "stderr",
     "output_type": "stream",
     "text": [
      "/home/piyush/anaconda/lib/python3.5/site-packages/statsmodels/nonparametric/kdetools.py:20: VisibleDeprecationWarning: using a non-integer number instead of an integer will result in an error in the future\n",
      "  y = X[:m/2+1] + np.r_[0,X[m/2+1:],0]*1j\n"
     ]
    },
    {
     "data": {
      "text/plain": [
       "<matplotlib.axes._subplots.AxesSubplot at 0x7f64fc2faf60>"
      ]
     },
     "execution_count": 43,
     "metadata": {},
     "output_type": "execute_result"
    },
    {
     "data": {
      "image/png": "[encoded data removed]",
      "text/plain": [
       "<matplotlib.figure.Figure at 0x7f64fc411eb8>"
      ]
     },
     "metadata": {},
     "output_type": "display_data"
    }
   ],
   "source": [
    "sns.distplot(ndf['fuel'])"
   ]
  },
  {
   "cell_type": "markdown",
   "metadata": {},
   "source": [
    "We can see a large number of values in the region 0 to 50, the important question here is that are these values anamolies or are they correct? We don't have enough evidence to rule them as anamoly as of now hence we'll continue to have them in the data."
   ]
  },
  {
   "cell_type": "code",
   "execution_count": 44,
   "metadata": {},
   "outputs": [
    {
     "data": {
      "text/plain": [
       "0.0"
      ]
     },
     "execution_count": 44,
     "metadata": {},
     "output_type": "execute_result"
    }
   ],
   "source": [
    "ndf['fuel_diff'][0]"
   ]
  },
  {
   "cell_type": "code",
   "execution_count": 45,
   "metadata": {},
   "outputs": [
    {
     "name": "stderr",
     "output_type": "stream",
     "text": [
      "/home/piyush/anaconda/lib/python3.5/site-packages/ipykernel/__main__.py:1: SettingWithCopyWarning: \n",
      "A value is trying to be set on a copy of a slice from a DataFrame\n",
      "\n",
      "See the caveats in the documentation: http://pandas.pydata.org/pandas-docs/stable/indexing.html#indexing-view-versus-copy\n",
      "  if __name__ == '__main__':\n",
      "/home/piyush/anaconda/lib/python3.5/site-packages/IPython/core/interactiveshell.py:2881: SettingWithCopyWarning: \n",
      "A value is trying to be set on a copy of a slice from a DataFrame\n",
      "\n",
      "See the caveats in the documentation: http://pandas.pydata.org/pandas-docs/stable/indexing.html#indexing-view-versus-copy\n",
      "  exec(code_obj, self.user_global_ns, self.user_ns)\n"
     ]
    }
   ],
   "source": [
    "ndf['fuel_diff'][0] = 0"
   ]
  },
  {
   "cell_type": "code",
   "execution_count": 46,
   "metadata": {},
   "outputs": [
    {
     "data": {
      "text/html": [
       "<div>\n",
       "<table border=\"1\" class=\"dataframe\">\n",
       "  <thead>\n",
       "    <tr style=\"text-align: right;\">\n",
       "      <th></th>\n",
       "      <th>id</th>\n",
       "      <th>speed</th>\n",
       "      <th>orientation</th>\n",
       "      <th>distance</th>\n",
       "      <th>fuel</th>\n",
       "      <th>distance_diff</th>\n",
       "      <th>std_fuel</th>\n",
       "      <th>fuel_diff</th>\n",
       "    </tr>\n",
       "    <tr>\n",
       "      <th>received_date</th>\n",
       "      <th></th>\n",
       "      <th></th>\n",
       "      <th></th>\n",
       "      <th></th>\n",
       "      <th></th>\n",
       "      <th></th>\n",
       "      <th></th>\n",
       "      <th></th>\n",
       "    </tr>\n",
       "  </thead>\n",
       "  <tbody>\n",
       "    <tr>\n",
       "      <th>2018-01-13 07:10:58</th>\n",
       "      <td>2.025505e+09</td>\n",
       "      <td>1.8</td>\n",
       "      <td>87.4</td>\n",
       "      <td>21</td>\n",
       "      <td>7</td>\n",
       "      <td>15.0</td>\n",
       "      <td>-1.845663</td>\n",
       "      <td>0.0</td>\n",
       "    </tr>\n",
       "    <tr>\n",
       "      <th>2018-01-13 07:11:22</th>\n",
       "      <td>2.025505e+09</td>\n",
       "      <td>1.1</td>\n",
       "      <td>0.0</td>\n",
       "      <td>26</td>\n",
       "      <td>7</td>\n",
       "      <td>5.0</td>\n",
       "      <td>-1.845663</td>\n",
       "      <td>0.0</td>\n",
       "    </tr>\n",
       "    <tr>\n",
       "      <th>2018-01-13 07:12:22</th>\n",
       "      <td>2.025505e+09</td>\n",
       "      <td>0.9</td>\n",
       "      <td>0.0</td>\n",
       "      <td>50</td>\n",
       "      <td>7</td>\n",
       "      <td>24.0</td>\n",
       "      <td>-1.845663</td>\n",
       "      <td>0.0</td>\n",
       "    </tr>\n",
       "    <tr>\n",
       "      <th>2018-01-13 07:13:22</th>\n",
       "      <td>2.025505e+09</td>\n",
       "      <td>1.1</td>\n",
       "      <td>0.0</td>\n",
       "      <td>70</td>\n",
       "      <td>7</td>\n",
       "      <td>20.0</td>\n",
       "      <td>-1.845663</td>\n",
       "      <td>0.0</td>\n",
       "    </tr>\n",
       "    <tr>\n",
       "      <th>2018-01-13 07:13:52</th>\n",
       "      <td>2.025505e+09</td>\n",
       "      <td>0.5</td>\n",
       "      <td>0.0</td>\n",
       "      <td>72</td>\n",
       "      <td>7</td>\n",
       "      <td>2.0</td>\n",
       "      <td>-1.845663</td>\n",
       "      <td>0.0</td>\n",
       "    </tr>\n",
       "  </tbody>\n",
       "</table>\n",
       "</div>"
      ],
      "text/plain": [
       "                               id  speed  orientation  distance  fuel  \\\n",
       "received_date                                                           \n",
       "2018-01-13 07:10:58  2.025505e+09    1.8         87.4        21     7   \n",
       "2018-01-13 07:11:22  2.025505e+09    1.1          0.0        26     7   \n",
       "2018-01-13 07:12:22  2.025505e+09    0.9          0.0        50     7   \n",
       "2018-01-13 07:13:22  2.025505e+09    1.1          0.0        70     7   \n",
       "2018-01-13 07:13:52  2.025505e+09    0.5          0.0        72     7   \n",
       "\n",
       "                     distance_diff  std_fuel  fuel_diff  \n",
       "received_date                                            \n",
       "2018-01-13 07:10:58           15.0 -1.845663        0.0  \n",
       "2018-01-13 07:11:22            5.0 -1.845663        0.0  \n",
       "2018-01-13 07:12:22           24.0 -1.845663        0.0  \n",
       "2018-01-13 07:13:22           20.0 -1.845663        0.0  \n",
       "2018-01-13 07:13:52            2.0 -1.845663        0.0  "
      ]
     },
     "execution_count": 46,
     "metadata": {},
     "output_type": "execute_result"
    }
   ],
   "source": [
    "ndf.head()"
   ]
  },
  {
   "cell_type": "code",
   "execution_count": 47,
   "metadata": {},
   "outputs": [
    {
     "name": "stderr",
     "output_type": "stream",
     "text": [
      "/home/piyush/anaconda/lib/python3.5/site-packages/numpy/lib/function_base.py:3834: RuntimeWarning: Invalid value encountered in percentile\n",
      "  RuntimeWarning)\n"
     ]
    },
    {
     "data": {
      "text/html": [
       "<div>\n",
       "<table border=\"1\" class=\"dataframe\">\n",
       "  <thead>\n",
       "    <tr style=\"text-align: right;\">\n",
       "      <th></th>\n",
       "      <th>id</th>\n",
       "      <th>speed</th>\n",
       "      <th>orientation</th>\n",
       "      <th>distance</th>\n",
       "      <th>fuel</th>\n",
       "      <th>distance_diff</th>\n",
       "      <th>std_fuel</th>\n",
       "      <th>fuel_diff</th>\n",
       "    </tr>\n",
       "  </thead>\n",
       "  <tbody>\n",
       "    <tr>\n",
       "      <th>count</th>\n",
       "      <td>3.355000e+03</td>\n",
       "      <td>18210.000000</td>\n",
       "      <td>18210.000000</td>\n",
       "      <td>1.821000e+04</td>\n",
       "      <td>18210.000000</td>\n",
       "      <td>18210.000000</td>\n",
       "      <td>18210.000000</td>\n",
       "      <td>18210.000000</td>\n",
       "    </tr>\n",
       "    <tr>\n",
       "      <th>mean</th>\n",
       "      <td>2.120902e+09</td>\n",
       "      <td>29.432059</td>\n",
       "      <td>150.662069</td>\n",
       "      <td>2.580593e+06</td>\n",
       "      <td>313.252718</td>\n",
       "      <td>251.099341</td>\n",
       "      <td>-0.009365</td>\n",
       "      <td>0.010983</td>\n",
       "    </tr>\n",
       "    <tr>\n",
       "      <th>std</th>\n",
       "      <td>2.038507e+07</td>\n",
       "      <td>18.346219</td>\n",
       "      <td>108.269595</td>\n",
       "      <td>1.512044e+06</td>\n",
       "      <td>167.099047</td>\n",
       "      <td>178.877363</td>\n",
       "      <td>1.001929</td>\n",
       "      <td>56.986914</td>\n",
       "    </tr>\n",
       "    <tr>\n",
       "      <th>min</th>\n",
       "      <td>2.025505e+09</td>\n",
       "      <td>0.000000</td>\n",
       "      <td>0.000000</td>\n",
       "      <td>0.000000e+00</td>\n",
       "      <td>3.000000</td>\n",
       "      <td>0.000000</td>\n",
       "      <td>-1.869647</td>\n",
       "      <td>-592.000000</td>\n",
       "    </tr>\n",
       "    <tr>\n",
       "      <th>25%</th>\n",
       "      <td>NaN</td>\n",
       "      <td>14.000000</td>\n",
       "      <td>63.380000</td>\n",
       "      <td>1.278680e+06</td>\n",
       "      <td>158.000000</td>\n",
       "      <td>100.000000</td>\n",
       "      <td>-0.940264</td>\n",
       "      <td>0.000000</td>\n",
       "    </tr>\n",
       "    <tr>\n",
       "      <th>50%</th>\n",
       "      <td>NaN</td>\n",
       "      <td>32.500000</td>\n",
       "      <td>132.560000</td>\n",
       "      <td>2.584615e+06</td>\n",
       "      <td>352.000000</td>\n",
       "      <td>260.000000</td>\n",
       "      <td>0.222965</td>\n",
       "      <td>0.000000</td>\n",
       "    </tr>\n",
       "    <tr>\n",
       "      <th>75%</th>\n",
       "      <td>NaN</td>\n",
       "      <td>44.800000</td>\n",
       "      <td>250.660000</td>\n",
       "      <td>3.920063e+06</td>\n",
       "      <td>459.000000</td>\n",
       "      <td>370.000000</td>\n",
       "      <td>0.864539</td>\n",
       "      <td>0.000000</td>\n",
       "    </tr>\n",
       "    <tr>\n",
       "      <th>max</th>\n",
       "      <td>2.147482e+09</td>\n",
       "      <td>69.400000</td>\n",
       "      <td>360.000000</td>\n",
       "      <td>5.239150e+06</td>\n",
       "      <td>599.000000</td>\n",
       "      <td>807.000000</td>\n",
       "      <td>1.703982</td>\n",
       "      <td>543.000000</td>\n",
       "    </tr>\n",
       "  </tbody>\n",
       "</table>\n",
       "</div>"
      ],
      "text/plain": [
       "                 id         speed   orientation      distance          fuel  \\\n",
       "count  3.355000e+03  18210.000000  18210.000000  1.821000e+04  18210.000000   \n",
       "mean   2.120902e+09     29.432059    150.662069  2.580593e+06    313.252718   \n",
       "std    2.038507e+07     18.346219    108.269595  1.512044e+06    167.099047   \n",
       "min    2.025505e+09      0.000000      0.000000  0.000000e+00      3.000000   \n",
       "25%             NaN     14.000000     63.380000  1.278680e+06    158.000000   \n",
       "50%             NaN     32.500000    132.560000  2.584615e+06    352.000000   \n",
       "75%             NaN     44.800000    250.660000  3.920063e+06    459.000000   \n",
       "max    2.147482e+09     69.400000    360.000000  5.239150e+06    599.000000   \n",
       "\n",
       "       distance_diff      std_fuel     fuel_diff  \n",
       "count   18210.000000  18210.000000  18210.000000  \n",
       "mean      251.099341     -0.009365      0.010983  \n",
       "std       178.877363      1.001929     56.986914  \n",
       "min         0.000000     -1.869647   -592.000000  \n",
       "25%       100.000000     -0.940264      0.000000  \n",
       "50%       260.000000      0.222965      0.000000  \n",
       "75%       370.000000      0.864539      0.000000  \n",
       "max       807.000000      1.703982    543.000000  "
      ]
     },
     "execution_count": 47,
     "metadata": {},
     "output_type": "execute_result"
    }
   ],
   "source": [
    "ndf.describe()"
   ]
  },
  {
   "cell_type": "code",
   "execution_count": 48,
   "metadata": {},
   "outputs": [
    {
     "data": {
      "text/plain": [
       "<matplotlib.axes._subplots.AxesSubplot at 0x7f65049f4b00>"
      ]
     },
     "execution_count": 48,
     "metadata": {},
     "output_type": "execute_result"
    },
    {
     "data": {
      "image/png": "[encoded data removed]",
      "text/plain": [
       "<matplotlib.figure.Figure at 0x7f64fc183828>"
      ]
     },
     "metadata": {},
     "output_type": "display_data"
    }
   ],
   "source": [
    "ndf['fuel_diff'].plot()"
   ]
  },
  {
   "cell_type": "markdown",
   "metadata": {},
   "source": [
    "Now let's see how the fuel levels vary with distance:"
   ]
  },
  {
   "cell_type": "code",
   "execution_count": 49,
   "metadata": {},
   "outputs": [
    {
     "data": {
      "text/plain": [
       "[<matplotlib.lines.Line2D at 0x7f64fbeb5cf8>]"
      ]
     },
     "execution_count": 49,
     "metadata": {},
     "output_type": "execute_result"
    },
    {
     "data": {
      "image/png": "[encoded data removed]",
      "text/plain": [
       "<matplotlib.figure.Figure at 0x7f64fbf2f860>"
      ]
     },
     "metadata": {},
     "output_type": "display_data"
    }
   ],
   "source": [
    "plt.plot( ndf['distance'],ndf['fuel'])"
   ]
  },
  {
   "cell_type": "markdown",
   "metadata": {},
   "source": [
    "The plot above shows that the fuel level increase with distance followed by sudden drops, the sudden drop could indicate the fuel refilling operation and the higher fuel values could mean lower fuel levels."
   ]
  },
  {
   "cell_type": "markdown",
   "metadata": {},
   "source": [
    "The distance_diff and fuel_diff could show some correlation as the fuel consumption is a function of distance travelled, let's see if there is a relationship between the two:"
   ]
  },
  {
   "cell_type": "code",
   "execution_count": 50,
   "metadata": {},
   "outputs": [
    {
     "data": {
      "image/png": "[encoded data removed]",
      "text/plain": [
       "<matplotlib.figure.Figure at 0x7f64fbec3e10>"
      ]
     },
     "metadata": {},
     "output_type": "display_data"
    }
   ],
   "source": [
    "cols = ['fuel_diff', 'distance_diff']\n",
    "sns.pairplot(ndf[cols], size=3)\n",
    "plt.show()"
   ]
  },
  {
   "cell_type": "markdown",
   "metadata": {
    "collapsed": true
   },
   "source": [
    "The correlation between the two is not quite visible here which could be due to the fact that the fuel refilling changes the the fuel levels drastically and this could disrupt the relationship between the two."
   ]
  },
  {
   "cell_type": "markdown",
   "metadata": {},
   "source": [
    "### Time series analysis using Prophet  \n",
    "Facebook's Prophet package is a useful tool to analyze time series data."
   ]
  },
  {
   "cell_type": "markdown",
   "metadata": {},
   "source": [
    "Removing the time stamp from index and adding it as a column:"
   ]
  },
  {
   "cell_type": "code",
   "execution_count": 51,
   "metadata": {},
   "outputs": [
    {
     "data": {
      "text/html": [
       "<div>\n",
       "<table border=\"1\" class=\"dataframe\">\n",
       "  <thead>\n",
       "    <tr style=\"text-align: right;\">\n",
       "      <th></th>\n",
       "      <th>received_date</th>\n",
       "      <th>id</th>\n",
       "      <th>speed</th>\n",
       "      <th>orientation</th>\n",
       "      <th>distance</th>\n",
       "      <th>fuel</th>\n",
       "      <th>distance_diff</th>\n",
       "      <th>std_fuel</th>\n",
       "      <th>fuel_diff</th>\n",
       "    </tr>\n",
       "  </thead>\n",
       "  <tbody>\n",
       "    <tr>\n",
       "      <th>0</th>\n",
       "      <td>2018-01-13 07:10:58</td>\n",
       "      <td>2.025505e+09</td>\n",
       "      <td>1.8</td>\n",
       "      <td>87.4</td>\n",
       "      <td>21</td>\n",
       "      <td>7</td>\n",
       "      <td>15.0</td>\n",
       "      <td>-1.845663</td>\n",
       "      <td>0.0</td>\n",
       "    </tr>\n",
       "    <tr>\n",
       "      <th>1</th>\n",
       "      <td>2018-01-13 07:11:22</td>\n",
       "      <td>2.025505e+09</td>\n",
       "      <td>1.1</td>\n",
       "      <td>0.0</td>\n",
       "      <td>26</td>\n",
       "      <td>7</td>\n",
       "      <td>5.0</td>\n",
       "      <td>-1.845663</td>\n",
       "      <td>0.0</td>\n",
       "    </tr>\n",
       "    <tr>\n",
       "      <th>2</th>\n",
       "      <td>2018-01-13 07:12:22</td>\n",
       "      <td>2.025505e+09</td>\n",
       "      <td>0.9</td>\n",
       "      <td>0.0</td>\n",
       "      <td>50</td>\n",
       "      <td>7</td>\n",
       "      <td>24.0</td>\n",
       "      <td>-1.845663</td>\n",
       "      <td>0.0</td>\n",
       "    </tr>\n",
       "    <tr>\n",
       "      <th>3</th>\n",
       "      <td>2018-01-13 07:13:22</td>\n",
       "      <td>2.025505e+09</td>\n",
       "      <td>1.1</td>\n",
       "      <td>0.0</td>\n",
       "      <td>70</td>\n",
       "      <td>7</td>\n",
       "      <td>20.0</td>\n",
       "      <td>-1.845663</td>\n",
       "      <td>0.0</td>\n",
       "    </tr>\n",
       "    <tr>\n",
       "      <th>4</th>\n",
       "      <td>2018-01-13 07:13:52</td>\n",
       "      <td>2.025505e+09</td>\n",
       "      <td>0.5</td>\n",
       "      <td>0.0</td>\n",
       "      <td>72</td>\n",
       "      <td>7</td>\n",
       "      <td>2.0</td>\n",
       "      <td>-1.845663</td>\n",
       "      <td>0.0</td>\n",
       "    </tr>\n",
       "  </tbody>\n",
       "</table>\n",
       "</div>"
      ],
      "text/plain": [
       "        received_date            id  speed  orientation  distance  fuel  \\\n",
       "0 2018-01-13 07:10:58  2.025505e+09    1.8         87.4        21     7   \n",
       "1 2018-01-13 07:11:22  2.025505e+09    1.1          0.0        26     7   \n",
       "2 2018-01-13 07:12:22  2.025505e+09    0.9          0.0        50     7   \n",
       "3 2018-01-13 07:13:22  2.025505e+09    1.1          0.0        70     7   \n",
       "4 2018-01-13 07:13:52  2.025505e+09    0.5          0.0        72     7   \n",
       "\n",
       "   distance_diff  std_fuel  fuel_diff  \n",
       "0           15.0 -1.845663        0.0  \n",
       "1            5.0 -1.845663        0.0  \n",
       "2           24.0 -1.845663        0.0  \n",
       "3           20.0 -1.845663        0.0  \n",
       "4            2.0 -1.845663        0.0  "
      ]
     },
     "execution_count": 51,
     "metadata": {},
     "output_type": "execute_result"
    }
   ],
   "source": [
    "ndf.reset_index(level=0, inplace=True)\n",
    "ndf.head()"
   ]
  },
  {
   "cell_type": "code",
   "execution_count": null,
   "metadata": {
    "collapsed": true
   },
   "outputs": [],
   "source": []
  }
 ],
 "metadata": {
  "anaconda-cloud": {},
  "kernelspec": {
   "display_name": "Python 3",
   "language": "python",
   "name": "python3"
  },
  "language_info": {
   "codemirror_mode": {
    "name": "ipython",
    "version": 3
   },
   "file_extension": ".py",
   "mimetype": "text/x-python",
   "name": "python",
   "nbconvert_exporter": "python",
   "pygments_lexer": "ipython3",
   "version": "3.6.4"
  }
 },
 "nbformat": 4,
 "nbformat_minor": 1
}
