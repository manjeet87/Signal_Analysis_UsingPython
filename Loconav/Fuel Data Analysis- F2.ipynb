{
 "cells": [
  {
   "cell_type": "markdown",
   "metadata": {},
   "source": [
    "## Analysing Fuel Voltage Signal Data"
   ]
  },
  {
   "cell_type": "code",
   "execution_count": 1,
   "metadata": {},
   "outputs": [
    {
     "name": "stderr",
     "output_type": "stream",
     "text": [
      "C:\\Users\\manje_000\\AppData\\Local\\Programs\\Python\\Python36\\lib\\site-packages\\statsmodels\\compat\\pandas.py:56: FutureWarning: The pandas.core.datetools module is deprecated and will be removed in a future version. Please use the pandas.tseries module instead.\n",
      "  from pandas.core import datetools\n"
     ]
    }
   ],
   "source": [
    "import numpy as np\n",
    "import pandas as pd\n",
    "from scipy.signal import butter, lfilter, freqz\n",
    "from scipy import signal as sg\n",
    "import matplotlib.pyplot as plt\n",
    "from scipy.fftpack import fft\n",
    "import statsmodels.api as sm\n",
    "import datetime\n",
    "\n",
    "%matplotlib inline"
   ]
  },
  {
   "cell_type": "markdown",
   "metadata": {
    "collapsed": true
   },
   "source": [
    "\n",
    "### Data Gathering (From First Step Wrangling in F1)\n",
    "#### Loading data in Pandas Dataframe"
   ]
  },
  {
   "cell_type": "code",
   "execution_count": 2,
   "metadata": {},
   "outputs": [
    {
     "name": "stdout",
     "output_type": "stream",
     "text": [
      "<class 'pandas.core.frame.DataFrame'>\n",
      "RangeIndex: 67848 entries, 0 to 67847\n",
      "Data columns (total 5 columns):\n",
      "Unnamed: 0     67848 non-null int64\n",
      "datetime       67848 non-null object\n",
      "speed          67848 non-null float64\n",
      "distance       67848 non-null int64\n",
      "fuelVoltage    67848 non-null int64\n",
      "dtypes: float64(1), int64(3), object(1)\n",
      "memory usage: 2.6+ MB\n"
     ]
    }
   ],
   "source": [
    "df1 = pd.read_csv(r\"data\\data1.csv\")\n",
    "df2 = pd.read_csv(r\"data\\data2.csv\")\n",
    "df3 = pd.read_csv(r\"data\\data3.csv\")\n",
    "df4 = pd.read_csv(r\"data\\data4.csv\")\n",
    "df5 = pd.read_csv(r\"data\\data5.csv\")\n",
    "df6 = pd.read_csv(r\"data\\data6.csv\")\n",
    "\n",
    "df1.info()"
   ]
  },
  {
   "cell_type": "code",
   "execution_count": 16,
   "metadata": {},
   "outputs": [],
   "source": [
    "## Convert Datetime row to Datetime Object\n",
    "# df1.datetime = pd.to_datetime(df1.datetime)\n",
    "# df2.datetime = pd.to_datetime(df2.datetime)\n",
    "# df3.datetime = pd.to_datetime(df3.datetime)\n",
    "# df4.datetime = pd.to_datetime(df4.datetime)\n",
    "# df5.datetime = pd.to_datetime(df5.datetime)\n",
    "# df6.datetime = pd.to_datetime(df6.datetime)\n",
    "\n",
    "\n",
    "#### Above method FAILS as it misinterprets somtimes day and month \n",
    "\n",
    "df1.datetime = df1.datetime.apply(lambda x: datetime.datetime.strptime(str(x), \"%d-%m-%y %H:%M\") )\n",
    "df2.datetime = df2.datetime.apply(lambda x: datetime.datetime.strptime(str(x), \"%Y-%m-%d %H:%M:%S\") )\n",
    "df3.datetime = df3.datetime.apply(lambda x: datetime.datetime.strptime(str(x), \"%Y-%m-%d %H:%M:%S\") )\n",
    "df4.datetime = df4.datetime.apply(lambda x: datetime.datetime.strptime(str(x), \"%Y-%m-%d %H:%M:%S\") )\n",
    "df5.datetime = df5.datetime.apply(lambda x: datetime.datetime.strptime(str(x), \"%Y-%m-%d %H:%M:%S\") )\n",
    "df6.datetime = df6.datetime.apply(lambda x: datetime.datetime.strptime(str(x), \"%Y-%m-%d %H:%M:%S\") )\n"
   ]
  },
  {
   "cell_type": "markdown",
   "metadata": {},
   "source": [
    "### Assessing \n",
    "#### 1. Checking order of Data, as per datetime"
   ]
  },
  {
   "cell_type": "code",
   "execution_count": null,
   "metadata": {},
   "outputs": [],
   "source": [
    "plt.rcParams['figure.figsize'] = [16,24]\n",
    "plt.subplot(6,1,1)\n",
    "plt.plot(df1.index, df1.datetime, 'g.', markersize = 1, linewidth = 1);\n",
    "\n",
    "plt.subplot(6,1,2)\n",
    "plt.plot(df2.index, df2.datetime, 'g.', markersize = 1, linewidth = 1);\n",
    "\n",
    "plt.subplot(6,1,3)\n",
    "plt.plot(df3.index, df3.datetime, 'g.', markersize = 1, linewidth = 1);\n",
    "\n",
    "plt.subplot(6,1,4)\n",
    "plt.plot(df4.index, df4.datetime, 'g.', markersize = 1, linewidth = 1);\n",
    "\n",
    "plt.subplot(6,1,5)\n",
    "plt.plot(df5.index, df5.datetime, 'g.', markersize = 1, linewidth = 1);\n",
    "\n",
    "plt.subplot(6,1,6)\n",
    "plt.plot(df6.index, df6.datetime, 'g.', markersize = 1, linewidth = 1);\n"
   ]
  },
  {
   "cell_type": "markdown",
   "metadata": {},
   "source": [
    "### Assessing \n",
    "#### 2. Plotting Fuel voltage vs Datetime"
   ]
  },
  {
   "cell_type": "code",
   "execution_count": null,
   "metadata": {},
   "outputs": [],
   "source": [
    "plt.rcParams['figure.figsize'] = [16,24]\n",
    "plt.subplot(6,1,1)\n",
    "plt.plot(df1.datetime, df1.fuelVoltage, 'g.', markersize = 2, linewidth = 1);\n",
    "\n",
    "plt.subplot(6,1,2)\n",
    "plt.plot( df2.datetime, df2.fuelVoltage, 'g.', markersize = 2, linewidth = 1);\n",
    "\n",
    "plt.subplot(6,1,3)\n",
    "plt.plot(df3.datetime, df3.fuelVoltage, 'g.', markersize = 2, linewidth = 1);\n",
    "\n",
    "plt.subplot(6,1,4)\n",
    "plt.plot(df4.datetime, df4.fuelVoltage, 'g.', markersize = 2, linewidth = 1);\n",
    "\n",
    "plt.subplot(6,1,5)\n",
    "plt.plot(df5.datetime, df5.fuelVoltage, 'g.', markersize = 2, linewidth = 1);\n",
    "\n",
    "plt.subplot(6,1,6)\n",
    "plt.plot(df6.datetime, df6.fuelVoltage, 'g.', markersize = 2, linewidth = 1);\n",
    "plt.xlim(datetime.datetime(2018,1,27,2,0), datetime.datetime(2018,2,15,6,55));\n"
   ]
  },
  {
   "cell_type": "code",
   "execution_count": null,
   "metadata": {},
   "outputs": [],
   "source": [
    "df = df1.copy()\n",
    "df.fuelVoltage = df.fuelVoltage.max() - df.fuelVoltage\n",
    "\n",
    "plt.rcParams['figure.figsize'] = (16,4)\n",
    "plt.plot(df.datetime, df.fuelVoltage);"
   ]
  },
  {
   "cell_type": "code",
   "execution_count": null,
   "metadata": {
    "scrolled": false
   },
   "outputs": [],
   "source": [
    "plt.rcParams['figure.figsize'] = [16,24]\n",
    "plt.subplot(6,1,1)\n",
    "plt.plot(df1.datetime, df1.fuelVoltage, 'g-', markersize = 2, linewidth = 1);\n",
    "\n",
    "plt.subplot(6,1,2)\n",
    "plt.plot( df2.datetime, df2.fuelVoltage, 'g-', markersize = 2, linewidth = 1);\n",
    "\n",
    "plt.subplot(6,1,3)\n",
    "plt.plot(df3.datetime, df3.fuelVoltage, 'g-', markersize = 2, linewidth = 1);\n",
    "\n",
    "plt.subplot(6,1,4)\n",
    "plt.plot(df4.datetime, df4.fuelVoltage, 'g-', markersize = 2, linewidth = 1);\n",
    "\n",
    "plt.subplot(6,1,5)\n",
    "plt.plot(df5.datetime, df5.fuelVoltage, 'g-', markersize = 2, linewidth = 1);\n",
    "\n",
    "plt.subplot(6,1,6)\n",
    "plt.plot(df6.datetime, df6.fuelVoltage, 'g-', markersize = 2, linewidth = 1);\n",
    "plt.xlim(datetime.datetime(2018,1,27,2,0), datetime.datetime(2018,2,15,6,55));\n"
   ]
  },
  {
   "cell_type": "markdown",
   "metadata": {},
   "source": [
    "### Assessing \n",
    "#### 3. Plotting Cumulative Distance vs time"
   ]
  },
  {
   "cell_type": "code",
   "execution_count": null,
   "metadata": {},
   "outputs": [],
   "source": [
    "plt.rcParams['figure.figsize'] = [16,24]\n",
    "plt.subplot(6,1,1)\n",
    "plt.plot(df1.datetime, df1.distance, 'g-', markersize = 2, linewidth = 1);\n",
    "plt.title(\"Cumulative Distance vs Time\", fontsize = 15)\n",
    "\n",
    "plt.subplot(6,1,2)\n",
    "plt.plot( df2.datetime, df2.distance, 'g-', markersize = 2, linewidth = 1);\n",
    "\n",
    "plt.subplot(6,1,3)\n",
    "plt.plot(df3.datetime, df3.distance, 'g-', markersize = 2, linewidth = 1);\n",
    "\n",
    "plt.subplot(6,1,4)\n",
    "plt.plot(df4.datetime, df4.distance, 'g-', markersize = 2, linewidth = 1);\n",
    "\n",
    "plt.subplot(6,1,5)\n",
    "plt.plot(df5.datetime, df5.distance, 'g-', markersize = 2, linewidth = 1);\n",
    "\n",
    "plt.subplot(6,1,6)\n",
    "plt.plot(df6.datetime, df6.distance, 'g-', markersize = 2, linewidth = 1);\n",
    "plt.xlim(datetime.datetime(2018,1,27,2,0), datetime.datetime(2018,2,15,6,55));\n"
   ]
  },
  {
   "cell_type": "code",
   "execution_count": null,
   "metadata": {
    "collapsed": true
   },
   "outputs": [],
   "source": []
  },
  {
   "cell_type": "markdown",
   "metadata": {
    "collapsed": true
   },
   "source": [
    "#### Sorting data as per DATETIME"
   ]
  },
  {
   "cell_type": "code",
   "execution_count": null,
   "metadata": {},
   "outputs": [],
   "source": []
  },
  {
   "cell_type": "code",
   "execution_count": null,
   "metadata": {
    "collapsed": true
   },
   "outputs": [],
   "source": []
  },
  {
   "cell_type": "code",
   "execution_count": null,
   "metadata": {
    "collapsed": true
   },
   "outputs": [],
   "source": []
  },
  {
   "cell_type": "markdown",
   "metadata": {},
   "source": [
    "### Sample Assessement on Data 1\n",
    "#### 1. Soritng as per date\n",
    "#### 2. Performing Spectral analysis\n"
   ]
  },
  {
   "cell_type": "code",
   "execution_count": null,
   "metadata": {},
   "outputs": [],
   "source": [
    "df2.datetime = pd.to_datetime(df.datetime)"
   ]
  },
  {
   "cell_type": "code",
   "execution_count": null,
   "metadata": {},
   "outputs": [],
   "source": [
    "df.describe()"
   ]
  },
  {
   "cell_type": "code",
   "execution_count": null,
   "metadata": {},
   "outputs": [],
   "source": [
    "df.head(10)"
   ]
  },
  {
   "cell_type": "code",
   "execution_count": null,
   "metadata": {
    "scrolled": true
   },
   "outputs": [],
   "source": [
    "plt.rcParams['figure.figsize'] = [16,4]\n",
    "plt.scatter(df.index, df.fuelVoltage);\n",
    "plt.title(\"FuelVoltage vs Index (Sorted)\", fontsize= 15)\n"
   ]
  },
  {
   "cell_type": "markdown",
   "metadata": {},
   "source": [
    "The above line plot donot give a clear picture, about where the maximum datapoints are located. The give a better picture, we will use Box plot  and scatter plot, that will help us in analysing where most of the data points are situated."
   ]
  },
  {
   "cell_type": "code",
   "execution_count": null,
   "metadata": {},
   "outputs": [],
   "source": [
    "plt.rcParams['figure.figsize'] = [4,8];\n",
    "plt.boxplot(df.fuelVoltage);\n",
    "plt.title('Fuel Level - Box Plot');"
   ]
  },
  {
   "cell_type": "markdown",
   "metadata": {},
   "source": [
    "Above is the box plot of fuel data"
   ]
  },
  {
   "cell_type": "code",
   "execution_count": null,
   "metadata": {},
   "outputs": [],
   "source": [
    "plt.rcParams['figure.figsize'] = [16,4]\n",
    "plt.plot(df.datetime, df.fuelVoltage,'b.' )\n",
    "plt.xlim(datetime.datetime(2018,1,27,2,0), datetime.datetime(2018,2,15,6,55))\n",
    "plt.title(\"FuelVoltage vs Time (Sorted)\", fontsize= 15)\n"
   ]
  },
  {
   "cell_type": "code",
   "execution_count": null,
   "metadata": {},
   "outputs": [],
   "source": [
    "plt.plot(df.datetime, df.fuelVoltage,'b-' )\n",
    "plt.xlim(datetime.datetime(2018,1,27,2,0), datetime.datetime(2018,2,17,6,55))"
   ]
  },
  {
   "cell_type": "code",
   "execution_count": null,
   "metadata": {},
   "outputs": [],
   "source": [
    "datetime.datetime(2018,1,22)"
   ]
  },
  {
   "cell_type": "markdown",
   "metadata": {},
   "source": [
    "\n",
    "\n",
    "### Paasing through Low Pass Butterworth filter. \n",
    "We can remove incorrect data by treating them as nose, and passing the time-bound signal through a low pass filter. But before that, it is important to analysis the Spectral plot of the voltage signal, in order to know the range and magnitude of noise frequency.\n"
   ]
  },
  {
   "cell_type": "markdown",
   "metadata": {},
   "source": []
  },
  {
   "cell_type": "markdown",
   "metadata": {},
   "source": [
    "### Spectral Analysis - Plotting FFT\n"
   ]
  },
  {
   "cell_type": "markdown",
   "metadata": {},
   "source": [
    "FFT will help in understanding the different frequency components available in the voltage signal in the form of noise."
   ]
  },
  {
   "cell_type": "code",
   "execution_count": null,
   "metadata": {},
   "outputs": [],
   "source": [
    "norm_data = df.fuelVoltage/df.fuelVoltage.max()\n",
    "yvolt = fft(norm_data)\n",
    "plt.ylim(0,3000);\n",
    "plt.plot(np.abs(yvolt[:1000]));\n",
    "plt.rcParams['figure.figsize'] = [16,4]\n",
    "plt.xscale('log')\n",
    "plt.ylabel('Amplitude Response (dB)')\n",
    "plt.xlabel('Frequency (Hz, Log Scale)')\n",
    "plt.axvline(2.5, color = 'black')\n",
    "plt.text(2.1,-50, \"Cut-off\", fontsize = 15);"
   ]
  },
  {
   "cell_type": "markdown",
   "metadata": {},
   "source": [
    "Hence most dominant frequency magnitudes are between 1-3 Hz signal, i.e. almost a DC signal. Remaining all are noise in the system. All these noise can be removed using a  low-pass butterworth filter. Hence our cut-off frequency will be 2.5Hz"
   ]
  },
  {
   "cell_type": "markdown",
   "metadata": {},
   "source": [
    "### SIgnal Filteration\n"
   ]
  },
  {
   "cell_type": "markdown",
   "metadata": {
    "collapsed": true
   },
   "source": [
    "This block defines the lowpass butterworth filter to be used for extracting true signal"
   ]
  },
  {
   "cell_type": "code",
   "execution_count": null,
   "metadata": {
    "collapsed": true
   },
   "outputs": [],
   "source": [
    "def butter_lowpass_filter(data, cutoff, fs, order=5, ftype = False):\n",
    "    nyq = 0.5 * fs\n",
    "    normal_cutoff = cutoff / nyq\n",
    "    b, a = butter(order, normal_cutoff, btype='low', analog=ftype)\n",
    "    y = lfilter(b, a, data)\n",
    "    y1 = sg.filtfilt(b,a, data)\n",
    "    return y,y1\n",
    "\n"
   ]
  },
  {
   "cell_type": "code",
   "execution_count": null,
   "metadata": {},
   "outputs": [],
   "source": [
    "df.fuelVoltage.describe()"
   ]
  },
  {
   "cell_type": "markdown",
   "metadata": {},
   "source": [
    "### Results"
   ]
  },
  {
   "cell_type": "code",
   "execution_count": null,
   "metadata": {
    "scrolled": false
   },
   "outputs": [],
   "source": [
    "# Filter the data, and plot both the original and filtered signals.\n",
    "fs = 4000             # Sampling Frequency\n",
    "order = 5             # Order of Filter\n",
    "cutoff = 50          # Filter Cut-off Frequency\n",
    "\n",
    "# Calling Butterworth filter\n",
    "y,y1 = butter_lowpass_filter(norm_data, cutoff, fs, order, ftype= False)\n",
    "\n",
    "time = df.datetime\n",
    "\n",
    "#Plotting Results\n",
    "plt.rcParams['figure.figsize'] = [16,16]\n",
    "\n",
    "plt.subplot(4, 1,1)\n",
    "#plt.plot(time, norm_data, 'b-', linewidth=1, label='Original Signal')\n",
    "plt.plot(df.index, df.datetime, 'g.', markersize = 1, linewidth = 1)\n",
    "plt.legend()\n",
    "plt.grid()\n",
    "plt.ylabel('Fuel Voltage (Normalised)',  fontsize = 14)\n",
    "plt.title('Original Fuel Voltage', fontsize = 20)\n",
    "plt.ylim(datetime.datetime(2018,1,27,2,0), datetime.datetime(2018,2,15,6,55))\n",
    "#plt.axvline(60000, color = 'black')\n",
    "\n",
    "plt.subplot(4, 1,2)\n",
    "plt.plot(time, y, 'r-', linewidth=1, label='Original Signal')\n",
    "plt.legend()\n",
    "plt.twinx()\n",
    "plt.ylabel('Cumulative Distance (Normalised)',  fontsize = 14)\n",
    "plt.xlim(datetime.datetime(2018,1,27,2,0), datetime.datetime(2018,2,15,6,55))\n",
    "\n",
    "plt.subplot(4, 1,3)\n",
    "plt.plot(df.datetime, df['distance']/df['distance'].max(), label='Cumulative Distance - DateSorted');\n",
    "plt.legend()\n",
    "plt.twinx()\n",
    "plt.ylabel('Cumulative Distance (Normalised)',  fontsize = 14)\n",
    "plt.xlim(datetime.datetime(2018,1,27,2,0), datetime.datetime(2018,2,15,6,55))\n",
    "\n",
    "df3 = df2.sort_values(by=['distance'], ascending=True);\n",
    "plt.subplot(4, 1,4)\n",
    "plt.plot(df3.index, df3['distance']/df3['distance'].max(), label='Cumulative Distance - Dist Sorted');\n",
    "plt.legend()\n",
    "plt.twinx()\n",
    "plt.ylabel('Cumulative Distance (Normalised)',  fontsize = 14)\n",
    "plt.xlim(datetime.datetime(2018,1,27,2,0), datetime.datetime(2018,2,15,6,55))\n",
    "\n",
    "#plt.xlim(pd.)\n",
    "\n",
    "# plt.subplot(4, 1,1)\n",
    "# plt.plot(df.datetime, y1, 'r-', linewidth=3, label='Fuel Voltage, filtered')\n",
    "# plt.ylim(0,1)\n",
    "plt.grid()\n",
    "plt.legend()\n",
    "plt.ylabel('Fuel Voltage (Normalised)',  fontsize = 14)\n",
    "plt.title('Filtered Voltage', fontsize = 20)\n",
    "plt.xlabel('Time [sec]',  fontsize = 14)\n",
    "\n",
    "\n",
    "plt.tight_layout()\n"
   ]
  },
  {
   "cell_type": "code",
   "execution_count": null,
   "metadata": {
    "collapsed": true
   },
   "outputs": [],
   "source": []
  },
  {
   "cell_type": "code",
   "execution_count": null,
   "metadata": {
    "collapsed": true
   },
   "outputs": [],
   "source": []
  },
  {
   "cell_type": "markdown",
   "metadata": {},
   "source": [
    "#### **%%%%%%%%%%%%%%%***Relevant Portion Till Now**%%%%%%%%%%%%%**"
   ]
  },
  {
   "cell_type": "markdown",
   "metadata": {},
   "source": [
    "### Cleaning Data 1"
   ]
  },
  {
   "cell_type": "code",
   "execution_count": 18,
   "metadata": {},
   "outputs": [
    {
     "data": {
      "image/png": "[encoded data removed]",
      "text/plain": [
       "<Figure size 1152x288 with 1 Axes>"
      ]
     },
     "metadata": {},
     "output_type": "display_data"
    }
   ],
   "source": [
    "plt.rcParams['figure.figsize'] = [16,4]\n",
    "plt.plot(df2.datetime, df2.distance, 'g-', markersize = 2, linewidth = 1);"
   ]
  },
  {
   "cell_type": "code",
   "execution_count": 24,
   "metadata": {},
   "outputs": [
    {
     "data": {
      "image/png": "[encoded data removed]",
      "text/plain": [
       "<Figure size 1152x288 with 1 Axes>"
      ]
     },
     "metadata": {},
     "output_type": "display_data"
    }
   ],
   "source": [
    "plt.plot(df.index[19700:19750], df.datetime[19700:19750], 'g.', markersize = 6, linewidth = 1);"
   ]
  },
  {
   "cell_type": "code",
   "execution_count": 20,
   "metadata": {},
   "outputs": [],
   "source": [
    "df = df1.sort_values(['datetime'], ascending= True)"
   ]
  },
  {
   "cell_type": "code",
   "execution_count": null,
   "metadata": {
    "scrolled": true
   },
   "outputs": [],
   "source": [
    "df = df2.copy()\n",
    "df.datetime = df.datetime.apply(lambda x: datetime.datetime.strptime(str(x), \"%Y-%d-%m %H:%M\") )"
   ]
  },
  {
   "cell_type": "code",
   "execution_count": 5,
   "metadata": {},
   "outputs": [
    {
     "data": {
      "text/plain": [
       "29875    31-01-18 23:58\n",
       "29876    31-01-18 23:59\n",
       "29877    31-01-18 23:59\n",
       "29878     01-02-18 0:00\n",
       "29879     01-02-18 0:00\n",
       "29880     01-02-18 0:01\n",
       "29881     01-02-18 0:01\n",
       "29882     01-02-18 0:02\n",
       "29883     01-02-18 0:02\n",
       "Name: datetime, dtype: object"
      ]
     },
     "execution_count": 5,
     "metadata": {},
     "output_type": "execute_result"
    }
   ],
   "source": [
    "df1.datetime[29875:29884]"
   ]
  },
  {
   "cell_type": "code",
   "execution_count": 6,
   "metadata": {},
   "outputs": [
    {
     "data": {
      "text/plain": [
       "29875    2018-02-07 02:07:05\n",
       "29876    2018-02-07 02:07:35\n",
       "29877    2018-02-07 02:08:05\n",
       "29878    2018-02-07 02:08:36\n",
       "29879    2018-02-07 02:09:05\n",
       "29880    2018-02-07 02:09:35\n",
       "29881    2018-02-07 02:11:07\n",
       "29882    2018-02-07 02:11:36\n",
       "29883    2018-02-07 02:12:06\n",
       "Name: datetime, dtype: object"
      ]
     },
     "execution_count": 6,
     "metadata": {},
     "output_type": "execute_result"
    }
   ],
   "source": [
    "df2.datetime[29875:29884]"
   ]
  },
  {
   "cell_type": "code",
   "execution_count": 15,
   "metadata": {},
   "outputs": [
    {
     "data": {
      "text/plain": [
       "29875    2018-02-09 14:16:56\n",
       "29876    2018-02-09 14:17:26\n",
       "29877    2018-02-09 14:17:56\n",
       "29878    2018-02-09 14:18:26\n",
       "29879    2018-02-09 14:18:56\n",
       "29880    2018-02-09 14:19:26\n",
       "29881    2018-02-09 14:19:56\n",
       "29882    2018-02-09 14:20:26\n",
       "29883    2018-02-09 14:20:57\n",
       "Name: datetime, dtype: object"
      ]
     },
     "execution_count": 15,
     "metadata": {},
     "output_type": "execute_result"
    }
   ],
   "source": [
    "df5.datetime[29875:29884]"
   ]
  },
  {
   "cell_type": "code",
   "execution_count": null,
   "metadata": {
    "collapsed": true
   },
   "outputs": [],
   "source": []
  },
  {
   "cell_type": "code",
   "execution_count": null,
   "metadata": {
    "collapsed": true
   },
   "outputs": [],
   "source": []
  },
  {
   "cell_type": "code",
   "execution_count": null,
   "metadata": {},
   "outputs": [],
   "source": [
    "str(df2.datetime[29875:29884])"
   ]
  },
  {
   "cell_type": "code",
   "execution_count": null,
   "metadata": {},
   "outputs": [],
   "source": [
    "df.datetime[35404:35410]"
   ]
  },
  {
   "cell_type": "code",
   "execution_count": 13,
   "metadata": {},
   "outputs": [
    {
     "data": {
      "text/plain": [
       "2"
      ]
     },
     "execution_count": 13,
     "metadata": {},
     "output_type": "execute_result"
    }
   ],
   "source": [
    "a = df2.datetime[35404]\n",
    "datetime.datetime.strptime(str(a), \"%Y-%m-%d %H:%M:%S\").month"
   ]
  },
  {
   "cell_type": "markdown",
   "metadata": {},
   "source": [
    "#### Replacing wrong data with corrected value\n",
    "The equivalent predicted values generated out of the low pass filter, can be used to replace the erreneous/noisy data by the better approximate from the filter data.\n"
   ]
  },
  {
   "cell_type": "code",
   "execution_count": null,
   "metadata": {
    "collapsed": true
   },
   "outputs": [],
   "source": [
    "# Function to replace noise data using filtered approximate\n",
    "df2 = df.copy()\n",
    "def f(x):\n",
    "    if x[4] > x[3] :\n",
    "        return x[4]\n",
    "    else:\n",
    "        return x[3]\n",
    "\n",
    "# Normalising fuel voltage data    \n",
    "df2['Fuel Level (mV)'] = df2['Fuel Level (mV)']/df2['Fuel Level (mV)'].max()\n",
    "\n",
    "df2['filter_dt'] = y1 \n",
    "df2['correction'] = df2.apply(f, axis= 1)\n",
    "df2.head()"
   ]
  },
  {
   "cell_type": "code",
   "execution_count": null,
   "metadata": {
    "collapsed": true
   },
   "outputs": [],
   "source": [
    "# Coverting timestamp to seconds, starting from time = 0\n",
    "df2['time_in_sec'] = df2.Timestamp.apply(lambda x : (x - df.Timestamp[0]).total_seconds())\n",
    "df2.head()"
   ]
  },
  {
   "cell_type": "code",
   "execution_count": null,
   "metadata": {
    "collapsed": true
   },
   "outputs": [],
   "source": [
    "plt.rcParams['figure.figsize'] = [16,4]\n",
    "plt.ylim(0,1)\n",
    "\n",
    "plt.subplot(1,1,1)\n",
    "plt.scatter(df2.time_in_sec, df2['correction'])\n",
    "plt.subplot(1,1,1)\n",
    "plt.plot(df2.time_in_sec, y1, 'red', linewidth = 2)\n",
    "plt.title('Voltage Data minus Noise', fontsize = 20)\n"
   ]
  },
  {
   "cell_type": "markdown",
   "metadata": {},
   "source": [
    "### 2nd level filtering\n",
    "Still the data, donot looks better approximate. Hence, after replacing with the approximate data, the corrected data can be again passed through low pass filter to obtain better approximate of fuel voltage data"
   ]
  },
  {
   "cell_type": "code",
   "execution_count": null,
   "metadata": {
    "collapsed": true
   },
   "outputs": [],
   "source": [
    "y,y2 = butter_lowpass_filter(df2['correction'], cutoff, fs, order, ftype= False)"
   ]
  },
  {
   "cell_type": "code",
   "execution_count": null,
   "metadata": {
    "collapsed": true
   },
   "outputs": [],
   "source": [
    "plt.subplot(1,1,1)\n",
    "plt.ylim(0,1)\n",
    "plt.scatter(df2.time_in_sec, df2['correction'], s= 3)\n",
    "plt.subplot(1,1,1)\n",
    "plt.plot(df2.time_in_sec, y1, 'red', linewidth = 2)\n",
    "plt.subplot(1,1,1)\n",
    "plt.plot(df2.time_in_sec, y2, 'black', linewidth = 2)\n",
    "plt.title('Voltage Data minus Noise', fontsize = 20)"
   ]
  },
  {
   "cell_type": "code",
   "execution_count": null,
   "metadata": {
    "collapsed": true
   },
   "outputs": [],
   "source": [
    "plt.ylim(0,1)\n",
    "plt.plot(df2.Timestamp, y2, 'black', linewidth = 2);\n",
    "plt.title('Final Approximation after 2-Stage Filteration', fontsize = 20);"
   ]
  },
  {
   "cell_type": "code",
   "execution_count": null,
   "metadata": {
    "collapsed": true
   },
   "outputs": [],
   "source": [
    "df2['filter_dt_L2'] = y2\n",
    "df2.head()"
   ]
  },
  {
   "cell_type": "markdown",
   "metadata": {},
   "source": [
    "  "
   ]
  },
  {
   "cell_type": "markdown",
   "metadata": {},
   "source": [
    "  "
   ]
  },
  {
   "cell_type": "markdown",
   "metadata": {},
   "source": [
    "### Method 2 : Regression\n",
    "This is implemted, but dividing the data into small windows of a finite size = sz. And then passing the data of that window to function, he perform linear or 2nd order regression to give approximate curve."
   ]
  },
  {
   "cell_type": "code",
   "execution_count": null,
   "metadata": {
    "collapsed": true
   },
   "outputs": [],
   "source": [
    "pd.set_option('display.width', 1000)\n",
    "\n",
    "#######################################\n",
    "### Defining Regression Function\n",
    "#####################################\n",
    "def regression_data(output_var , input_var):\n",
    "    lm = sm.OLS(output_var, input_var)\n",
    "    result = lm.fit()\n",
    "    return result.params\n",
    "\n",
    "# Linear Prediction\n",
    "#########################\n",
    "i = 0\n",
    "sz =500   # Window Size\n",
    "pred_dt = []\n",
    "while (i<= len(df2)):\n",
    "    dft = df2[i:i+sz].copy()\n",
    "    dft['intercept'] = 1\n",
    "    data = regression_data(dft['Fuel Level (mV)'], dft[['intercept','time_in_sec']])\n",
    "    prediction = dft['time_in_sec']*data[1] + data[0]\n",
    "    pred_dt.extend(prediction)\n",
    "    i = i+sz\n",
    "df2['Regress_1st'] = pred_dt"
   ]
  },
  {
   "cell_type": "code",
   "execution_count": null,
   "metadata": {
    "collapsed": true
   },
   "outputs": [],
   "source": [
    "# 2nd order Prediction\n",
    "################################\n",
    "i = 0\n",
    "#sz = 500  # Window Size\n",
    "pred_dt = []\n",
    "while (i<= len(df2)):\n",
    "    dft = df2[i:i+sz].copy()\n",
    "    dft['intercept'] = 1\n",
    "    dft['time_sq'] = dft['time_in_sec'].apply(lambda x: x*x)\n",
    "    \n",
    "    data = regression_data(dft['Fuel Level (mV)'], dft[['intercept','time_in_sec','time_sq']])\n",
    "    prediction = (dft['time_sq']*data[2] + dft['time_in_sec']*data[1] + 1*data[0])\n",
    "    pred_dt.extend(prediction)\n",
    "    i = i+sz\n",
    "    \n",
    "df2['Regress_2nd'] = pred_dt\n"
   ]
  },
  {
   "cell_type": "code",
   "execution_count": null,
   "metadata": {
    "collapsed": true,
    "scrolled": false
   },
   "outputs": [],
   "source": [
    "plt.subplot(1,1,1)\n",
    "plt.plot(df2.time_in_sec, df2.Regress_1st, 'yellow', linewidth = 3, label = 'Regression 1st Order')\n",
    "plt.legend()\n",
    "\n",
    "plt.subplot(1,1,1)\n",
    "plt.plot(df2.time_in_sec, df2.Regress_2nd, '-r', label = 'Regression 2nd Order')\n",
    "plt.legend()\n",
    "\n",
    "plt.subplot(1,1,1)\n",
    "plt.scatter(df2.time_in_sec, df2['Fuel Level (mV)'], label = 'Original Fuel Voltage')\n",
    "plt.legend()\n",
    "\n",
    "plt.ylabel('Normalised Voltage', fontsize = 14)\n",
    "plt.xlabel('Time (in sec)', fontsize = 14)\n",
    "plt.title('Regression 1st order VS 2nd Order', fontsize = 20);\n"
   ]
  },
  {
   "cell_type": "code",
   "execution_count": null,
   "metadata": {
    "collapsed": true
   },
   "outputs": [],
   "source": [
    "df2.head()"
   ]
  },
  {
   "cell_type": "markdown",
   "metadata": {},
   "source": [
    "### Final Conclusion\n",
    "Finally we can compare the approximare curve obtained from both the methods"
   ]
  },
  {
   "cell_type": "code",
   "execution_count": null,
   "metadata": {
    "collapsed": true
   },
   "outputs": [],
   "source": [
    "plt.rcParams['figure.figsize'] = [16,6]\n",
    "plt.subplot(1,1,1)\n",
    "plt.plot(df2.time_in_sec, df2.predict_2nd, '-r', label = 'Regression Data')\n",
    "plt.legend()\n",
    "\n",
    "plt.subplot(1,1,1)\n",
    "plt.scatter(df2.time_in_sec, df2['correction'], s = 5, label = 'Original Voltage minus Noise')\n",
    "plt.legend()\n",
    "\n",
    "plt.subplot(1,1,1)\n",
    "plt.plot(df2.time_in_sec, df2.filter_dt_L2, 'black', linewidth = 2, label = 'Filtered Voltage Data')\n",
    "plt.legend()\n",
    "\n",
    "plt.ylim(0,1)\n",
    "plt.ylabel('Normalised Voltage', fontsize = 14)\n",
    "plt.xlabel('Time (in sec)', fontsize = 14)\n",
    "plt.title('Filter Data VS Regression Data', fontsize = 20);\n"
   ]
  },
  {
   "cell_type": "markdown",
   "metadata": {},
   "source": [
    "##### Hence the filtered Data give the better representation of Fuel Voltage Data."
   ]
  },
  {
   "cell_type": "code",
   "execution_count": null,
   "metadata": {
    "collapsed": true
   },
   "outputs": [],
   "source": [
    "plt.ylim(0,1)\n",
    "plt.rcParams['figure.figsize'] = [16,6]\n",
    "plt.ylabel('Normalised Fuel Voltage (mV)', fontsize = 14)\n",
    "plt.xlabel('Time', fontsize = 14)\n",
    "plt.plot(df2.Timestamp, y2, 'black', linewidth = 2);\n",
    "plt.title('Final Approximation', fontsize = 20);"
   ]
  },
  {
   "cell_type": "code",
   "execution_count": null,
   "metadata": {
    "collapsed": true
   },
   "outputs": [],
   "source": []
  }
 ],
 "metadata": {
  "kernelspec": {
   "display_name": "Python 3",
   "language": "python",
   "name": "python3"
  },
  "language_info": {
   "codemirror_mode": {
    "name": "ipython",
    "version": 3
   },
   "file_extension": ".py",
   "mimetype": "text/x-python",
   "name": "python",
   "nbconvert_exporter": "python",
   "pygments_lexer": "ipython3",
   "version": "3.6.4"
  }
 },
 "nbformat": 4,
 "nbformat_minor": 2
}
