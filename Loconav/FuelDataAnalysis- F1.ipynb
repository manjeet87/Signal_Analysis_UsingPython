{
 "cells": [
  {
   "cell_type": "markdown",
   "metadata": {},
   "source": [
    "### Points to Address (Accessing)\n",
    "1. Data data has error in some places, day and month has to be rearranged\n",
    "   data1 and data6 has corrupt or erreneous data in datetime table.\n",
    "   \n",
    "2. Database is not exactly sorted w.r.t. to date\n",
    "   Data1, Data6 and data6 has unsorted rows in some places\n",
    "   \n",
    "3. Fuel Voltage data has increasing trends in 5 out of 6 datafiles. But in actual, the trend must be decreasing wth time\n",
    "\n",
    "4. Erreneous cumulative distance trends in file1, file4 and file6\n",
    "5. There are outliers in all of the datsets. That has to be removed\n",
    "6. Datetime data type is set as object.\n",
    "7. Voltage data is in Hex form. Need to be corrected.\n"
   ]
  },
  {
   "cell_type": "code",
   "execution_count": 10,
   "metadata": {
    "collapsed": true
   },
   "outputs": [],
   "source": [
    "import numpy as np\n",
    "import pandas as pd\n",
    "import matplotlib.pyplot as plt\n",
    "from sklearn import svm, naive_bayes\n",
    "import statsmodels \n",
    "%matplotlib inline"
   ]
  },
  {
   "cell_type": "markdown",
   "metadata": {},
   "source": [
    "#### Data Gathering"
   ]
  },
  {
   "cell_type": "code",
   "execution_count": 25,
   "metadata": {},
   "outputs": [],
   "source": [
    "df1 = pd.read_csv(r\"data\\008527945276.csv\")\n",
    "df2 = pd.read_csv(r\"data\\008527946327.csv\")\n",
    "df3 = pd.read_csv(r\"data\\008527948065.csv\")\n",
    "df4 = pd.read_csv(r\"data\\008527949981.csv\")\n",
    "df5 = pd.read_csv(r\"data\\008826369174.csv\")\n",
    "df6 = pd.read_csv(r\"data\\009821702910.csv\")"
   ]
  },
  {
   "cell_type": "code",
   "execution_count": 12,
   "metadata": {
    "scrolled": true
   },
   "outputs": [
    {
     "data": {
      "text/html": [
       "<div>\n",
       "<style scoped>\n",
       "    .dataframe tbody tr th:only-of-type {\n",
       "        vertical-align: middle;\n",
       "    }\n",
       "\n",
       "    .dataframe tbody tr th {\n",
       "        vertical-align: top;\n",
       "    }\n",
       "\n",
       "    .dataframe thead th {\n",
       "        text-align: right;\n",
       "    }\n",
       "</style>\n",
       "<table border=\"1\" class=\"dataframe\">\n",
       "  <thead>\n",
       "    <tr style=\"text-align: right;\">\n",
       "      <th></th>\n",
       "      <th>id</th>\n",
       "      <th>lat</th>\n",
       "      <th>long</th>\n",
       "      <th>created_at</th>\n",
       "      <th>updated_at</th>\n",
       "      <th>device_id</th>\n",
       "      <th>speed</th>\n",
       "      <th>orientation</th>\n",
       "      <th>distance</th>\n",
       "      <th>received_at</th>\n",
       "      <th>io_state</th>\n",
       "      <th>availability</th>\n",
       "      <th>raw_data</th>\n",
       "      <th>new_cordinate_id</th>\n",
       "    </tr>\n",
       "  </thead>\n",
       "  <tbody>\n",
       "    <tr>\n",
       "      <th>0</th>\n",
       "      <td>2.025505e+09</td>\n",
       "      <td>28.710563</td>\n",
       "      <td>77.179337</td>\n",
       "      <td>13-01-18 7:24</td>\n",
       "      <td>NaN</td>\n",
       "      <td>8527945276</td>\n",
       "      <td>0.9</td>\n",
       "      <td>0.0</td>\n",
       "      <td>256</td>\n",
       "      <td>13-01-18 7:24</td>\n",
       "      <td>1000007</td>\n",
       "      <td>A</td>\n",
       "      <td>NaN</td>\n",
       "      <td>NaN</td>\n",
       "    </tr>\n",
       "    <tr>\n",
       "      <th>1</th>\n",
       "      <td>2.025505e+09</td>\n",
       "      <td>28.710615</td>\n",
       "      <td>77.179970</td>\n",
       "      <td>13-01-18 7:10</td>\n",
       "      <td>NaN</td>\n",
       "      <td>8527945276</td>\n",
       "      <td>1.1</td>\n",
       "      <td>0.0</td>\n",
       "      <td>6</td>\n",
       "      <td>13-01-18 7:10</td>\n",
       "      <td>1000007</td>\n",
       "      <td>A</td>\n",
       "      <td>NaN</td>\n",
       "      <td>NaN</td>\n",
       "    </tr>\n",
       "    <tr>\n",
       "      <th>2</th>\n",
       "      <td>2.025505e+09</td>\n",
       "      <td>28.710595</td>\n",
       "      <td>77.180145</td>\n",
       "      <td>13-01-18 7:11</td>\n",
       "      <td>NaN</td>\n",
       "      <td>8527945276</td>\n",
       "      <td>1.8</td>\n",
       "      <td>87.4</td>\n",
       "      <td>21</td>\n",
       "      <td>13-01-18 7:10</td>\n",
       "      <td>1000007</td>\n",
       "      <td>A</td>\n",
       "      <td>NaN</td>\n",
       "      <td>NaN</td>\n",
       "    </tr>\n",
       "    <tr>\n",
       "      <th>3</th>\n",
       "      <td>2.025505e+09</td>\n",
       "      <td>28.710597</td>\n",
       "      <td>77.180138</td>\n",
       "      <td>13-01-18 7:11</td>\n",
       "      <td>NaN</td>\n",
       "      <td>8527945276</td>\n",
       "      <td>1.1</td>\n",
       "      <td>0.0</td>\n",
       "      <td>26</td>\n",
       "      <td>13-01-18 7:11</td>\n",
       "      <td>1000007</td>\n",
       "      <td>A</td>\n",
       "      <td>NaN</td>\n",
       "      <td>NaN</td>\n",
       "    </tr>\n",
       "    <tr>\n",
       "      <th>4</th>\n",
       "      <td>2.025505e+09</td>\n",
       "      <td>28.710588</td>\n",
       "      <td>77.180013</td>\n",
       "      <td>13-01-18 7:12</td>\n",
       "      <td>NaN</td>\n",
       "      <td>8527945276</td>\n",
       "      <td>0.9</td>\n",
       "      <td>0.0</td>\n",
       "      <td>50</td>\n",
       "      <td>13-01-18 7:12</td>\n",
       "      <td>1000007</td>\n",
       "      <td>A</td>\n",
       "      <td>NaN</td>\n",
       "      <td>NaN</td>\n",
       "    </tr>\n",
       "  </tbody>\n",
       "</table>\n",
       "</div>"
      ],
      "text/plain": [
       "             id        lat       long     created_at  updated_at   device_id  \\\n",
       "0  2.025505e+09  28.710563  77.179337  13-01-18 7:24         NaN  8527945276   \n",
       "1  2.025505e+09  28.710615  77.179970  13-01-18 7:10         NaN  8527945276   \n",
       "2  2.025505e+09  28.710595  77.180145  13-01-18 7:11         NaN  8527945276   \n",
       "3  2.025505e+09  28.710597  77.180138  13-01-18 7:11         NaN  8527945276   \n",
       "4  2.025505e+09  28.710588  77.180013  13-01-18 7:12         NaN  8527945276   \n",
       "\n",
       "   speed  orientation  distance    received_at io_state availability  \\\n",
       "0    0.9          0.0       256  13-01-18 7:24  1000007            A   \n",
       "1    1.1          0.0         6  13-01-18 7:10  1000007            A   \n",
       "2    1.8         87.4        21  13-01-18 7:10  1000007            A   \n",
       "3    1.1          0.0        26  13-01-18 7:11  1000007            A   \n",
       "4    0.9          0.0        50  13-01-18 7:12  1000007            A   \n",
       "\n",
       "   raw_data  new_cordinate_id  \n",
       "0       NaN               NaN  \n",
       "1       NaN               NaN  \n",
       "2       NaN               NaN  \n",
       "3       NaN               NaN  \n",
       "4       NaN               NaN  "
      ]
     },
     "execution_count": 12,
     "metadata": {},
     "output_type": "execute_result"
    }
   ],
   "source": [
    "(df1.head())"
   ]
  },
  {
   "cell_type": "code",
   "execution_count": 13,
   "metadata": {},
   "outputs": [
    {
     "data": {
      "text/html": [
       "<div>\n",
       "<style scoped>\n",
       "    .dataframe tbody tr th:only-of-type {\n",
       "        vertical-align: middle;\n",
       "    }\n",
       "\n",
       "    .dataframe tbody tr th {\n",
       "        vertical-align: top;\n",
       "    }\n",
       "\n",
       "    .dataframe thead th {\n",
       "        text-align: right;\n",
       "    }\n",
       "</style>\n",
       "<table border=\"1\" class=\"dataframe\">\n",
       "  <thead>\n",
       "    <tr style=\"text-align: right;\">\n",
       "      <th></th>\n",
       "      <th>id</th>\n",
       "      <th>lat</th>\n",
       "      <th>long</th>\n",
       "      <th>created_at</th>\n",
       "      <th>updated_at</th>\n",
       "      <th>device_id</th>\n",
       "      <th>speed</th>\n",
       "      <th>orientation</th>\n",
       "      <th>distance</th>\n",
       "      <th>received_at</th>\n",
       "      <th>io_state</th>\n",
       "      <th>availability</th>\n",
       "      <th>raw_data</th>\n",
       "      <th>new_cordinate_id</th>\n",
       "    </tr>\n",
       "  </thead>\n",
       "  <tbody>\n",
       "    <tr>\n",
       "      <th>0</th>\n",
       "      <td>2.081026e+09</td>\n",
       "      <td>28.710558</td>\n",
       "      <td>77.179252</td>\n",
       "      <td>2018-01-18 14:52:23</td>\n",
       "      <td>NaN</td>\n",
       "      <td>8527946327</td>\n",
       "      <td>0.3</td>\n",
       "      <td>0.0</td>\n",
       "      <td>7</td>\n",
       "      <td>2018-01-18 14:52:06</td>\n",
       "      <td>01000003</td>\n",
       "      <td>A</td>\n",
       "      <td>NaN</td>\n",
       "      <td>NaN</td>\n",
       "    </tr>\n",
       "    <tr>\n",
       "      <th>1</th>\n",
       "      <td>2.081026e+09</td>\n",
       "      <td>28.710580</td>\n",
       "      <td>77.179328</td>\n",
       "      <td>2018-01-18 14:52:40</td>\n",
       "      <td>NaN</td>\n",
       "      <td>8527946327</td>\n",
       "      <td>0.5</td>\n",
       "      <td>0.0</td>\n",
       "      <td>7</td>\n",
       "      <td>2018-01-18 14:52:36</td>\n",
       "      <td>01000003</td>\n",
       "      <td>A</td>\n",
       "      <td>NaN</td>\n",
       "      <td>NaN</td>\n",
       "    </tr>\n",
       "    <tr>\n",
       "      <th>2</th>\n",
       "      <td>2.081026e+09</td>\n",
       "      <td>28.710508</td>\n",
       "      <td>77.179273</td>\n",
       "      <td>2018-01-18 14:53:27</td>\n",
       "      <td>NaN</td>\n",
       "      <td>8527946327</td>\n",
       "      <td>0.1</td>\n",
       "      <td>0.0</td>\n",
       "      <td>7</td>\n",
       "      <td>2018-01-18 14:53:25</td>\n",
       "      <td>01000003</td>\n",
       "      <td>A</td>\n",
       "      <td>NaN</td>\n",
       "      <td>NaN</td>\n",
       "    </tr>\n",
       "    <tr>\n",
       "      <th>3</th>\n",
       "      <td>2.081026e+09</td>\n",
       "      <td>28.710487</td>\n",
       "      <td>77.179323</td>\n",
       "      <td>2018-01-18 14:54:26</td>\n",
       "      <td>NaN</td>\n",
       "      <td>8527946327</td>\n",
       "      <td>0.1</td>\n",
       "      <td>0.0</td>\n",
       "      <td>7</td>\n",
       "      <td>2018-01-18 14:54:25</td>\n",
       "      <td>01000003</td>\n",
       "      <td>A</td>\n",
       "      <td>NaN</td>\n",
       "      <td>NaN</td>\n",
       "    </tr>\n",
       "    <tr>\n",
       "      <th>4</th>\n",
       "      <td>2.081026e+09</td>\n",
       "      <td>28.710513</td>\n",
       "      <td>77.179360</td>\n",
       "      <td>2018-01-18 14:55:28</td>\n",
       "      <td>NaN</td>\n",
       "      <td>8527946327</td>\n",
       "      <td>0.1</td>\n",
       "      <td>0.0</td>\n",
       "      <td>7</td>\n",
       "      <td>2018-01-18 14:55:25</td>\n",
       "      <td>01000003</td>\n",
       "      <td>A</td>\n",
       "      <td>NaN</td>\n",
       "      <td>NaN</td>\n",
       "    </tr>\n",
       "  </tbody>\n",
       "</table>\n",
       "</div>"
      ],
      "text/plain": [
       "             id        lat       long           created_at  updated_at  \\\n",
       "0  2.081026e+09  28.710558  77.179252  2018-01-18 14:52:23         NaN   \n",
       "1  2.081026e+09  28.710580  77.179328  2018-01-18 14:52:40         NaN   \n",
       "2  2.081026e+09  28.710508  77.179273  2018-01-18 14:53:27         NaN   \n",
       "3  2.081026e+09  28.710487  77.179323  2018-01-18 14:54:26         NaN   \n",
       "4  2.081026e+09  28.710513  77.179360  2018-01-18 14:55:28         NaN   \n",
       "\n",
       "    device_id  speed  orientation  distance          received_at  io_state  \\\n",
       "0  8527946327    0.3          0.0         7  2018-01-18 14:52:06  01000003   \n",
       "1  8527946327    0.5          0.0         7  2018-01-18 14:52:36  01000003   \n",
       "2  8527946327    0.1          0.0         7  2018-01-18 14:53:25  01000003   \n",
       "3  8527946327    0.1          0.0         7  2018-01-18 14:54:25  01000003   \n",
       "4  8527946327    0.1          0.0         7  2018-01-18 14:55:25  01000003   \n",
       "\n",
       "  availability  raw_data  new_cordinate_id  \n",
       "0            A       NaN               NaN  \n",
       "1            A       NaN               NaN  \n",
       "2            A       NaN               NaN  \n",
       "3            A       NaN               NaN  \n",
       "4            A       NaN               NaN  "
      ]
     },
     "execution_count": 13,
     "metadata": {},
     "output_type": "execute_result"
    }
   ],
   "source": [
    "df2.head()"
   ]
  },
  {
   "cell_type": "markdown",
   "metadata": {},
   "source": [
    "### Data Wrangling - Part 1\n",
    "#### Extracting relevant hex data to convert to int."
   ]
  },
  {
   "cell_type": "code",
   "execution_count": 26,
   "metadata": {},
   "outputs": [
    {
     "data": {
      "text/plain": [
       "'007'"
      ]
     },
     "execution_count": 26,
     "metadata": {},
     "output_type": "execute_result"
    }
   ],
   "source": [
    "df1.io_state[2][-3:]"
   ]
  },
  {
   "cell_type": "code",
   "execution_count": 27,
   "metadata": {},
   "outputs": [
    {
     "data": {
      "text/plain": [
       "7"
      ]
     },
     "execution_count": 27,
     "metadata": {},
     "output_type": "execute_result"
    }
   ],
   "source": [
    "a = df1.io_state[2][-3:]\n",
    "int(a,16)"
   ]
  },
  {
   "cell_type": "code",
   "execution_count": 28,
   "metadata": {},
   "outputs": [],
   "source": [
    "df1['FuelVoltage']= df1.io_state.apply(lambda x: int(x[-3:],16))\n",
    "df2['FuelVoltage']= df2.io_state.apply(lambda x: int(x[-3:],16))\n",
    "df3['FuelVoltage']= df3.io_state.apply(lambda x: int(x[-3:],16))\n",
    "df4['FuelVoltage']= df4.io_state.apply(lambda x: int(x[-3:],16))\n",
    "df5['FuelVoltage']= df5.io_state.apply(lambda x: int(x[-3:],16))\n",
    "df6['FuelVoltage']= df6.io_state.apply(lambda x: int(x[-3:],16))"
   ]
  },
  {
   "cell_type": "code",
   "execution_count": 29,
   "metadata": {},
   "outputs": [
    {
     "data": {
      "text/plain": [
       "count    67848.000000\n",
       "mean        99.766036\n",
       "std        167.468089\n",
       "min          0.000000\n",
       "25%          7.000000\n",
       "50%          7.000000\n",
       "75%        102.000000\n",
       "max        599.000000\n",
       "Name: FuelVoltage, dtype: float64"
      ]
     },
     "execution_count": 29,
     "metadata": {},
     "output_type": "execute_result"
    }
   ],
   "source": [
    "df1.FuelVoltage.describe()"
   ]
  },
  {
   "cell_type": "code",
   "execution_count": 30,
   "metadata": {},
   "outputs": [
    {
     "name": "stdout",
     "output_type": "stream",
     "text": [
      "<class 'pandas.core.frame.DataFrame'>\n",
      "RangeIndex: 67848 entries, 0 to 67847\n",
      "Data columns (total 15 columns):\n",
      "id                  14740 non-null float64\n",
      "lat                 67848 non-null float64\n",
      "long                67848 non-null float64\n",
      "created_at          67848 non-null object\n",
      "updated_at          0 non-null float64\n",
      "device_id           67848 non-null int64\n",
      "speed               67848 non-null float64\n",
      "orientation         67848 non-null float64\n",
      "distance            67848 non-null int64\n",
      "received_at         67848 non-null object\n",
      "io_state            67848 non-null object\n",
      "availability        67848 non-null object\n",
      "raw_data            0 non-null float64\n",
      "new_cordinate_id    53108 non-null float64\n",
      "FuelVoltage         67848 non-null int64\n",
      "dtypes: float64(8), int64(3), object(4)\n",
      "memory usage: 7.8+ MB\n"
     ]
    }
   ],
   "source": [
    "df1.info()"
   ]
  },
  {
   "cell_type": "markdown",
   "metadata": {},
   "source": [
    "### Data Wrangling - Part 2\n",
    "#### Extracting relevant columns and storing to dataframe and csv files"
   ]
  },
  {
   "cell_type": "code",
   "execution_count": 31,
   "metadata": {},
   "outputs": [],
   "source": [
    "mydf1 = pd.DataFrame()\n",
    "mydf2 = pd.DataFrame()\n",
    "mydf3 = pd.DataFrame()\n",
    "mydf4 = pd.DataFrame()\n",
    "mydf5 = pd.DataFrame()\n",
    "mydf6 = pd.DataFrame()\n",
    "\n",
    "mydf1[['datetime','speed','distance','fuelVoltage']] = df1[['received_at','speed','distance','FuelVoltage']]\n",
    "mydf2[['datetime','speed','distance','fuelVoltage']] = df2[['received_at','speed','distance','FuelVoltage']]\n",
    "mydf3[['datetime','speed','distance','fuelVoltage']] = df3[['received_at','speed','distance','FuelVoltage']]\n",
    "mydf4[['datetime','speed','distance','fuelVoltage']] = df4[['received_at','speed','distance','FuelVoltage']]\n",
    "mydf5[['datetime','speed','distance','fuelVoltage']] = df5[['received_at','speed','distance','FuelVoltage']]\n",
    "mydf6[['datetime','speed','distance','fuelVoltage']] = df6[['received_at','speed','distance','FuelVoltage']]"
   ]
  },
  {
   "cell_type": "code",
   "execution_count": 32,
   "metadata": {},
   "outputs": [
    {
     "name": "stdout",
     "output_type": "stream",
     "text": [
      "<class 'pandas.core.frame.DataFrame'>\n",
      "RangeIndex: 52516 entries, 0 to 52515\n",
      "Data columns (total 4 columns):\n",
      "datetime       52516 non-null object\n",
      "speed          52516 non-null float64\n",
      "distance       52516 non-null int64\n",
      "fuelVoltage    52516 non-null int64\n",
      "dtypes: float64(1), int64(2), object(1)\n",
      "memory usage: 1.6+ MB\n"
     ]
    }
   ],
   "source": [
    "mydf2.info()"
   ]
  },
  {
   "cell_type": "code",
   "execution_count": 21,
   "metadata": {},
   "outputs": [
    {
     "name": "stdout",
     "output_type": "stream",
     "text": [
      "<class 'pandas.core.frame.DataFrame'>\n",
      "RangeIndex: 52516 entries, 0 to 52515\n",
      "Data columns (total 4 columns):\n",
      "datetime       52516 non-null datetime64[ns]\n",
      "speed          52516 non-null float64\n",
      "distance       52516 non-null int64\n",
      "fuelVoltage    52516 non-null int64\n",
      "dtypes: datetime64[ns](1), float64(1), int64(2)\n",
      "memory usage: 1.6 MB\n"
     ]
    }
   ],
   "source": [
    "mydf2.datetime = pd.to_datetime(mydf2.datetime)\n",
    "mydf2.info()"
   ]
  },
  {
   "cell_type": "code",
   "execution_count": 33,
   "metadata": {
    "collapsed": true
   },
   "outputs": [],
   "source": [
    "mydf1.to_csv(\"G:\\Manjeet\\Intern_Loconav\\csvs\\data1.csv\")\n",
    "mydf2.to_csv(\"G:\\Manjeet\\Intern_Loconav\\csvs\\data2.csv\")\n",
    "mydf3.to_csv(\"G:\\Manjeet\\Intern_Loconav\\csvs\\data3.csv\")\n",
    "mydf4.to_csv(\"G:\\Manjeet\\Intern_Loconav\\csvs\\data4.csv\")\n",
    "mydf5.to_csv(\"G:\\Manjeet\\Intern_Loconav\\csvs\\data5.csv\")\n",
    "mydf6.to_csv(\"G:\\Manjeet\\Intern_Loconav\\csvs\\data6.csv\")"
   ]
  },
  {
   "cell_type": "markdown",
   "metadata": {},
   "source": [
    "#### Example Assesement"
   ]
  },
  {
   "cell_type": "code",
   "execution_count": 23,
   "metadata": {},
   "outputs": [
    {
     "data": {
      "image/png": "[encoded data removed]",
      "text/plain": [
       "<Figure size 1152x288 with 1 Axes>"
      ]
     },
     "metadata": {},
     "output_type": "display_data"
    }
   ],
   "source": [
    "plt.rcParams['figure.figsize'] = [16,4]\n",
    "plt.plot(mydf2.datetime,mydf2.fuelVoltage);"
   ]
  },
  {
   "cell_type": "code",
   "execution_count": 24,
   "metadata": {},
   "outputs": [
    {
     "data": {
      "image/png": "[encoded data removed]",
      "text/plain": [
       "<Figure size 1152x288 with 1 Axes>"
      ]
     },
     "metadata": {},
     "output_type": "display_data"
    }
   ],
   "source": [
    "plt.plot(mydf2.index[:10000],mydf2.fuelVoltage[:10000]);"
   ]
  },
  {
   "cell_type": "code",
   "execution_count": null,
   "metadata": {
    "collapsed": true
   },
   "outputs": [],
   "source": []
  },
  {
   "cell_type": "code",
   "execution_count": null,
   "metadata": {
    "collapsed": true
   },
   "outputs": [],
   "source": []
  },
  {
   "cell_type": "code",
   "execution_count": null,
   "metadata": {
    "collapsed": true
   },
   "outputs": [],
   "source": []
  },
  {
   "cell_type": "code",
   "execution_count": null,
   "metadata": {
    "collapsed": true
   },
   "outputs": [],
   "source": []
  }
 ],
 "metadata": {
  "kernelspec": {
   "display_name": "Python 3",
   "language": "python",
   "name": "python3"
  },
  "language_info": {
   "codemirror_mode": {
    "name": "ipython",
    "version": 3
   },
   "file_extension": ".py",
   "mimetype": "text/x-python",
   "name": "python",
   "nbconvert_exporter": "python",
   "pygments_lexer": "ipython3",
   "version": "3.6.4"
  }
 },
 "nbformat": 4,
 "nbformat_minor": 2
}
